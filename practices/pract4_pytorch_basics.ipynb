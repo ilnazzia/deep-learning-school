{
 "cells": [
  {
   "cell_type": "markdown",
   "metadata": {
    "id": "5RETQ6CxbdOz"
   },
   "source": [
    "<p style=\"align: center;\"><img align=center src=\"https://s8.hostingkartinok.com/uploads/images/2018/08/308b49fcfbc619d629fe4604bceb67ac.jpg\" width=550 height=450/></p>\n",
    "\n",
    "<h3 style=\"text-align: center;\"><b>\"Глубокое обучение\". Продвинутый поток</b></h3>\n",
    "\n",
    "<h2 style=\"text-align: center;\"><b>Семинар 6. Основы библиотеки PyTorch </b></h2>\n"
   ]
  },
  {
   "cell_type": "markdown",
   "metadata": {
    "id": "-Iv1eX2mYJ8v"
   },
   "source": [
    "<p style=\"align: center;\"><img src=\"https://upload.wikimedia.org/wikipedia/commons/9/96/Pytorch_logo.png\" width=400 height=100></p>"
   ]
  },
  {
   "cell_type": "markdown",
   "metadata": {
    "id": "JwiKExhuYJ8w"
   },
   "source": [
    "Этот ноутбук посвящён основам  библиотеки PyTorch."
   ]
  },
  {
   "cell_type": "markdown",
   "metadata": {
    "id": "70_JTnaRbdPD"
   },
   "source": [
    "<h3 style=\"text-align: center;\"><b>Введение</b></h3>"
   ]
  },
  {
   "cell_type": "markdown",
   "metadata": {
    "id": "tQoex-sZYJ8x"
   },
   "source": [
    "В настоящее время существует множество фреймворков глубокого обучения. Разница между ними заключается во внутренних принципах вычислений. Например, в **[Caffe](http://caffe.berkeleyvision.org/)** и **[Caffe2](https://caffe2.ai/)** вы пишете код, используя некоторые «готовые блоки» \"(как и $ LEGO ^ {TM} $ :). В **[TensorFlow](https://www.tensorflow.org/)** и **[Theano](http://deeplearning.net/software/theano/)** вы сначала объявляете граф вычислений, затем компилируйте его и используйте для вывода / обучения (`tf.session ()`). Кстати, теперь в TensorFlow (начиная с версии 1.10) есть функция [Eager Execution](https://www.tensorflow.org/guide/eager), которая может быть полезна для быстрого прототипирования и отладки. **[Keras](https://keras.io/)** - очень популярный и полезный фреймворк DL, который позволяет быстро реализовывать нейронный сети и имеет множество полезных функций.\n"
   ]
  },
  {
   "cell_type": "markdown",
   "metadata": {
    "id": "97MX7yrBYJ8y"
   },
   "source": [
    "<p style=\"align: center;\"><img src=\"https://habrastorage.org/web/e3e/c3e/b78/e3ec3eb78d714a7993a6b922911c0866.png\" width=500 height=500></p>  \n",
    "<p style=\"text-align: center;\"><i>Image credit: https://habr.com/post/334380/</i><p>"
   ]
  },
  {
   "cell_type": "markdown",
   "metadata": {
    "id": "h5yBQj7EbdPJ"
   },
   "source": [
    "Мы будем использовать **PyTorch**, поскольку он активно развивается и поддерживается AI-сообществом "
   ]
  },
  {
   "cell_type": "markdown",
   "metadata": {
    "id": "J74O-qdJYJ80"
   },
   "source": [
    "<h3 style=\"text-align: center;\"><b>Установка</b></h3>"
   ]
  },
  {
   "cell_type": "markdown",
   "metadata": {
    "id": "WpXxZ4-4YJ83"
   },
   "source": [
    "Подробную инструкцию по установке PyTorch вы можете найти на [официальном сайте PyTorch](https://pytorch.org/)."
   ]
  },
  {
   "cell_type": "markdown",
   "metadata": {
    "id": "uxdjjnqIYJ86"
   },
   "source": [
    "## Синтаксис Фреймворка"
   ]
  },
  {
   "cell_type": "code",
   "execution_count": 1,
   "metadata": {
    "id": "RtyozNmmYJ89"
   },
   "outputs": [],
   "source": [
    "import torch"
   ]
  },
  {
   "cell_type": "markdown",
   "metadata": {
    "id": "zjfLQzEPYJ9B"
   },
   "source": [
    "Несколько фактов о PyTorch:\n",
    "- динамический граф вычислений\n",
    "- удобные модули `torch.nn` и `torchvision` для быстрого прототипирования нейронных сетей\n",
    "- даже быстрее, чем TensorFlow на некоторых задачах\n",
    "- позволяет легко использовать **GPU**"
   ]
  },
  {
   "cell_type": "markdown",
   "metadata": {
    "id": "44AAEPIpu8Mq"
   },
   "source": [
    "По своей сути PyTorch предоставляет две основные функции:\n",
    "\n",
    "- n-мерный тензор, похожий на **numpy**, но может работать на графических процессорах\n",
    "- Автоматическая дифференциация для построения и обучения нейронных сетей"
   ]
  },
  {
   "cell_type": "markdown",
   "metadata": {
    "id": "0AL-T8TMYJ9D"
   },
   "source": [
    "Если бы PyTorch был формулой, она была бы такой:\n",
    "\n",
    "$$PyTorch = NumPy + CUDA + Autograd$$"
   ]
  },
  {
   "cell_type": "markdown",
   "metadata": {
    "id": "X_O59VXWYJ9E"
   },
   "source": [
    "(CUDA - [wiki](https://en.wikipedia.org/wiki/CUDA))"
   ]
  },
  {
   "cell_type": "markdown",
   "metadata": {
    "id": "lWIeTFxSYJ9F"
   },
   "source": [
    "Давайте посмотрим, как мы можем использовать PyTorch для работы с векторами и тензорами.\n",
    "\n",
    "Напомним, что **тензор** - это многомерный вектор, например :\n",
    "\n",
    "`x = np.array ([1,2,3])` - вектор = тензор с 1 размерностью (точнее: `(3,)`)\n",
    "\n",
    "`y = np.array ([[1, 2, 3], [4, 5, 6]])` - матрица = тензор с двумя измерениями (`(2, 3)` в данном случае)\n",
    "\n",
    "`z = np.array ([[[1, 2, 3], [4, 5, 6], [7, 8, 9]]],\n",
    "               [[1, 2, 3], [4, 5, 6], [7, 8, 9]],\n",
    "               [[1, 2, 3], [4, 5, 6], [7, 8, 9]]]) `-\" куб \"(3, 3, 3) = тензор с тремя измерениями (` ( 3, 3, 3) `в этом случае)\n"
   ]
  },
  {
   "cell_type": "markdown",
   "metadata": {
    "id": "hS97vo7mYJ9G"
   },
   "source": [
    "Одним из реальных примеров трехмерного тензора является **изображение**, оно имеет 3 измерения: `высота`, `ширина` и `глубина канала` (глубина канала = 3 для цветных изображений, 1 для оттенков серого). Вы можете думать об этом как о параллелепипеде, состоящем из действительных чисел.\n"
   ]
  },
  {
   "cell_type": "markdown",
   "metadata": {
    "id": "byu7xZtLYJ9J"
   },
   "source": [
    "### Типы Тензоров"
   ]
  },
  {
   "cell_type": "markdown",
   "metadata": {
    "id": "tEeGGtRiYJ9H"
   },
   "source": [
    "В PyTorch мы будем использовать `torch.Tensor` (`FloatTensor`, `IntTensor`, `ByteTensor`) для всех вычислений.\n",
    "\n",
    "Все типы:"
   ]
  },
  {
   "cell_type": "code",
   "execution_count": null,
   "metadata": {
    "colab": {
     "base_uri": "https://localhost:8080/"
    },
    "executionInfo": {
     "elapsed": 60,
     "status": "ok",
     "timestamp": 1634457927378,
     "user": {
      "displayName": "Александр Анатольевич Миленькин",
      "photoUrl": "https://lh3.googleusercontent.com/a-/AOh14Gh1yB_mGyNeEBrnQ_bFdA3CLdWCnTPdtAORppSkYg=s64",
      "userId": "12111341805146772458"
     },
     "user_tz": -180
    },
    "id": "zilSktmEGgAv",
    "outputId": "07dd7d1e-e151-4ee0-eccd-618ebb747fe1"
   },
   "outputs": [
    {
     "data": {
      "text/plain": [
       "torch.ByteTensor"
      ]
     },
     "execution_count": 2,
     "metadata": {},
     "output_type": "execute_result"
    }
   ],
   "source": [
    "torch.HalfTensor      # 16 бит, floating point\n",
    "torch.FloatTensor     # 32 бита, floating point\n",
    "torch.DoubleTensor    # 64 бита, floating point\n",
    "\n",
    "torch.ShortTensor     # 16 бит, integer, signed\n",
    "torch.IntTensor       # 32 бита, integer, signed\n",
    "torch.LongTensor      # 64 бита, integer, signed\n",
    "\n",
    "torch.CharTensor      # 8 бит, integer, signed\n",
    "torch.ByteTensor      # 8 бит, integer, unsigned"
   ]
  },
  {
   "cell_type": "markdown",
   "metadata": {
    "id": "NWk2gidNYJ9P"
   },
   "source": [
    "Мы будем использовать только `torch.FloatTensor()` и `torch.IntTensor()`."
   ]
  },
  {
   "cell_type": "markdown",
   "metadata": {
    "id": "CllyEKvVYJ9Q"
   },
   "source": [
    "Начнем уже что-нибудь писать!"
   ]
  },
  {
   "cell_type": "markdown",
   "metadata": {
    "id": "R4HEetsxYJ9Q"
   },
   "source": [
    "### Создание тензора"
   ]
  },
  {
   "cell_type": "code",
   "execution_count": 2,
   "metadata": {
    "colab": {
     "base_uri": "https://localhost:8080/"
    },
    "executionInfo": {
     "elapsed": 379,
     "status": "ok",
     "timestamp": 1634745421544,
     "user": {
      "displayName": "Александр Анатольевич Миленькин",
      "photoUrl": "https://lh3.googleusercontent.com/a-/AOh14Gh1yB_mGyNeEBrnQ_bFdA3CLdWCnTPdtAORppSkYg=s64",
      "userId": "12111341805146772458"
     },
     "user_tz": -180
    },
    "id": "MVawE9lRYJ9R",
    "outputId": "abbf6a24-fff3-426d-8dfe-1190e4d568d5"
   },
   "outputs": [
    {
     "data": {
      "text/plain": [
       "tensor([1., 2.])"
      ]
     },
     "execution_count": 2,
     "metadata": {},
     "output_type": "execute_result"
    }
   ],
   "source": [
    "a = torch.FloatTensor([1, 2])\n",
    "a\n"
   ]
  },
  {
   "cell_type": "code",
   "execution_count": 3,
   "metadata": {
    "colab": {
     "base_uri": "https://localhost:8080/"
    },
    "executionInfo": {
     "elapsed": 663,
     "status": "ok",
     "timestamp": 1634745439181,
     "user": {
      "displayName": "Александр Анатольевич Миленькин",
      "photoUrl": "https://lh3.googleusercontent.com/a-/AOh14Gh1yB_mGyNeEBrnQ_bFdA3CLdWCnTPdtAORppSkYg=s64",
      "userId": "12111341805146772458"
     },
     "user_tz": -180
    },
    "id": "ARjaPS_GYJ9W",
    "outputId": "ebdd325d-7bad-4724-c82e-67783414abb0"
   },
   "outputs": [
    {
     "data": {
      "text/plain": [
       "torch.Size([2])"
      ]
     },
     "execution_count": 3,
     "metadata": {},
     "output_type": "execute_result"
    }
   ],
   "source": [
    "a.shape"
   ]
  },
  {
   "cell_type": "code",
   "execution_count": 4,
   "metadata": {
    "colab": {
     "base_uri": "https://localhost:8080/"
    },
    "executionInfo": {
     "elapsed": 677,
     "status": "ok",
     "timestamp": 1634745452466,
     "user": {
      "displayName": "Александр Анатольевич Миленькин",
      "photoUrl": "https://lh3.googleusercontent.com/a-/AOh14Gh1yB_mGyNeEBrnQ_bFdA3CLdWCnTPdtAORppSkYg=s64",
      "userId": "12111341805146772458"
     },
     "user_tz": -180
    },
    "id": "4gXf0akDYJ9Z",
    "outputId": "ee382869-6c7c-49b2-e7e2-a0c07b1f0c50"
   },
   "outputs": [
    {
     "data": {
      "text/plain": [
       "tensor([[1., 2., 3.],\n",
       "        [4., 5., 6.]])"
      ]
     },
     "execution_count": 4,
     "metadata": {},
     "output_type": "execute_result"
    }
   ],
   "source": [
    "b = torch.FloatTensor([[1,2,3], [4,5,6]])\n",
    "b"
   ]
  },
  {
   "cell_type": "code",
   "execution_count": null,
   "metadata": {
    "colab": {
     "base_uri": "https://localhost:8080/"
    },
    "executionInfo": {
     "elapsed": 14,
     "status": "ok",
     "timestamp": 1634745454565,
     "user": {
      "displayName": "Александр Анатольевич Миленькин",
      "photoUrl": "https://lh3.googleusercontent.com/a-/AOh14Gh1yB_mGyNeEBrnQ_bFdA3CLdWCnTPdtAORppSkYg=s64",
      "userId": "12111341805146772458"
     },
     "user_tz": -180
    },
    "id": "0HTkoIzpYJ9e",
    "outputId": "5ac34d30-bf04-4839-8858-53074d509450"
   },
   "outputs": [
    {
     "data": {
      "text/plain": [
       "torch.Size([2, 3])"
      ]
     },
     "execution_count": 5,
     "metadata": {},
     "output_type": "execute_result"
    }
   ],
   "source": [
    "b.shape"
   ]
  },
  {
   "cell_type": "code",
   "execution_count": 5,
   "metadata": {
    "id": "WYJ9L-yFYJ9j"
   },
   "outputs": [],
   "source": [
    "x = torch.FloatTensor(2,3,4)"
   ]
  },
  {
   "cell_type": "code",
   "execution_count": 8,
   "metadata": {
    "colab": {
     "base_uri": "https://localhost:8080/"
    },
    "executionInfo": {
     "elapsed": 6,
     "status": "ok",
     "timestamp": 1634745476788,
     "user": {
      "displayName": "Александр Анатольевич Миленькин",
      "photoUrl": "https://lh3.googleusercontent.com/a-/AOh14Gh1yB_mGyNeEBrnQ_bFdA3CLdWCnTPdtAORppSkYg=s64",
      "userId": "12111341805146772458"
     },
     "user_tz": -180
    },
    "id": "qWAEP27IYJ9m",
    "outputId": "f20995ad-4a57-4b02-e362-2b3104271f37"
   },
   "outputs": [
    {
     "data": {
      "text/plain": [
       "tensor([[[ 2.3694e-38, -8.5902e+09,  0.0000e+00, -8.5899e+09],\n",
       "         [ 0.0000e+00, -8.5899e+09,  0.0000e+00, -8.5899e+09],\n",
       "         [ 6.7428e-07,  1.0691e-05,  1.2696e+19,  1.4580e-19]],\n",
       "\n",
       "        [[ 1.1495e+24,  3.0881e+29,  1.5766e-19,  4.5441e+30],\n",
       "         [ 1.7034e+19,  7.1315e+28,  2.8404e+29,  2.3089e-12],\n",
       "         [ 0.0000e+00, -8.5899e+09,  0.0000e+00, -8.5899e+09]]])"
      ]
     },
     "execution_count": 8,
     "metadata": {},
     "output_type": "execute_result"
    }
   ],
   "source": [
    "x"
   ]
  },
  {
   "cell_type": "code",
   "execution_count": 10,
   "metadata": {
    "colab": {
     "base_uri": "https://localhost:8080/"
    },
    "executionInfo": {
     "elapsed": 406,
     "status": "ok",
     "timestamp": 1634745511126,
     "user": {
      "displayName": "Александр Анатольевич Миленькин",
      "photoUrl": "https://lh3.googleusercontent.com/a-/AOh14Gh1yB_mGyNeEBrnQ_bFdA3CLdWCnTPdtAORppSkYg=s64",
      "userId": "12111341805146772458"
     },
     "user_tz": -180
    },
    "id": "o5CsOJ_xYJ9s",
    "outputId": "ca4147d0-1cd0-4ada-cef3-76770e887dc0",
    "scrolled": true
   },
   "outputs": [
    {
     "data": {
      "text/plain": [
       "tensor([3.2498e-37, 1.4013e-45, 3.1340e-37, 1.4013e-45, 2.7881e-37, 1.4013e-45,\n",
       "        3.2498e-37, 1.4013e-45, 2.7245e-37, 1.4013e-45, 4.8995e-36, 1.4013e-45,\n",
       "        4.7939e-36, 1.4013e-45, 2.7201e-37, 1.4013e-45, 2.7292e-37, 1.4013e-45,\n",
       "        2.7232e-37, 1.4013e-45, 2.7564e-37, 1.4013e-45, 2.8442e-37, 1.4013e-45,\n",
       "        2.7564e-37, 1.4013e-45, 2.7411e-37, 1.4013e-45, 4.8552e-36, 1.4013e-45,\n",
       "        2.8413e-37, 1.4013e-45, 2.7233e-37, 1.4013e-45, 2.2380e-37, 1.4013e-45,\n",
       "        4.9041e-36, 1.4013e-45, 4.9041e-36, 1.4013e-45, 2.2380e-37, 1.4013e-45,\n",
       "        2.2379e-37, 1.4013e-45, 2.7566e-37, 1.4013e-45, 2.7249e-37, 1.4013e-45,\n",
       "        4.9042e-36, 1.4013e-45, 2.7254e-37, 1.4013e-45, 2.8878e-37, 1.4013e-45,\n",
       "        2.7414e-37, 1.4013e-45, 2.7252e-37, 1.4013e-45, 4.9042e-36, 1.4013e-45,\n",
       "        2.7324e-37, 1.4013e-45, 2.7755e-37, 1.4013e-45, 4.7844e-36, 1.4013e-45,\n",
       "        2.7593e-37, 1.4013e-45, 2.7881e-37, 1.4013e-45, 9.3818e-37, 1.4013e-45,\n",
       "        1.1283e-36, 1.4013e-45, 1.8256e-36, 1.4013e-45, 2.2293e-37, 1.4013e-45,\n",
       "        1.2435e-36, 1.4013e-45, 2.8767e-37, 1.4013e-45, 2.7702e-37, 1.4013e-45,\n",
       "        2.8006e-37, 1.4013e-45, 2.7953e-37, 1.4013e-45, 2.7591e-37, 1.4013e-45,\n",
       "        2.7996e-37, 1.4013e-45, 4.9043e-36, 1.4013e-45, 2.2297e-37, 1.4013e-45,\n",
       "        2.7662e-37, 1.4013e-45, 2.7293e-37, 1.4013e-45])"
      ]
     },
     "execution_count": 10,
     "metadata": {},
     "output_type": "execute_result"
    }
   ],
   "source": [
    "x = torch.FloatTensor(100)\n",
    "x"
   ]
  },
  {
   "cell_type": "code",
   "execution_count": 12,
   "metadata": {
    "colab": {
     "base_uri": "https://localhost:8080/"
    },
    "executionInfo": {
     "elapsed": 437,
     "status": "ok",
     "timestamp": 1634745523805,
     "user": {
      "displayName": "Александр Анатольевич Миленькин",
      "photoUrl": "https://lh3.googleusercontent.com/a-/AOh14Gh1yB_mGyNeEBrnQ_bFdA3CLdWCnTPdtAORppSkYg=s64",
      "userId": "12111341805146772458"
     },
     "user_tz": -180
    },
    "id": "uIVhvmzZYJ91",
    "outputId": "68747815-c3b2-4328-ca38-ce32b7321f0b"
   },
   "outputs": [
    {
     "data": {
      "text/plain": [
       "tensor([[[[         0,          0],\n",
       "          [  52155968,          1],\n",
       "          [    375012,          0],\n",
       "          ...,\n",
       "          [  23331162,   40632932],\n",
       "          [  23331674,   40633188],\n",
       "          [  89785453,   73662465]],\n",
       "\n",
       "         [[   8652132,  107218522],\n",
       "          [   8652644,  107284314],\n",
       "          [  25364580,  124061786],\n",
       "          ...,\n",
       "          [ 107285594,   25366628],\n",
       "          [ 107285850,   25366884],\n",
       "          [ 308547162,   23663460]],\n",
       "\n",
       "         [[ 342101850,  375657828],\n",
       "          [  60561252,   90509402],\n",
       "          [ 292160357,  425990244],\n",
       "          ...,\n",
       "          [  42147172,   90505217],\n",
       "          [ 376046437,  526655076],\n",
       "          [   6689386,  140836969]],\n",
       "\n",
       "         ...,\n",
       "\n",
       "         [[  26083748,   42139671],\n",
       "          [  90505217,   26215269],\n",
       "          [  26221418,   42161508],\n",
       "          ...,\n",
       "          [  27527269,   42140046],\n",
       "          [  90505217,   26215269],\n",
       "          [  26222442,  308959588]],\n",
       "\n",
       "         [[   6881382,   27527269],\n",
       "          [  42140046,   90505217],\n",
       "          [  26215269,   26222698],\n",
       "          ...,\n",
       "          [  90505217,   26215269],\n",
       "          [  26223722,   42163812],\n",
       "          [  90505217,   26215269]],\n",
       "\n",
       "         [[  26223978,   42164068],\n",
       "          [  90505217,   26215269],\n",
       "          [  26224234,   26239076],\n",
       "          ...,\n",
       "          [   6689386,  140836969],\n",
       "          [  26083748,   42139671],\n",
       "          [  90505217,   26215269]]],\n",
       "\n",
       "\n",
       "        [[[  26225002,   26240356],\n",
       "          [ 308962916,    6881382],\n",
       "          [  27527269,    1507726],\n",
       "          ...,\n",
       "          [ 308963940,    6881382],\n",
       "          [  27527269,   42140046],\n",
       "          [  90505217,   26215269]],\n",
       "\n",
       "         [[  26226026,  308964196],\n",
       "          [   6881382,   27527269],\n",
       "          [  42140046,   90505217],\n",
       "          ...,\n",
       "          [ 308964964,    6881382],\n",
       "          [  27528293,   42140046],\n",
       "          [  90505217,   26215269]],\n",
       "\n",
       "         [[  26227050,   26242916],\n",
       "          [ 308965476,    6881382],\n",
       "          [  27527269,    1507726],\n",
       "          ...,\n",
       "          [ 879362448, 1935933840],\n",
       "          [   6689386,  174391401],\n",
       "          [  26083748,      66179]],\n",
       "\n",
       "         ...,\n",
       "\n",
       "         [[1634100548,  980708469],\n",
       "          [ 543582496, 1867407456],\n",
       "          [1616930158, 1701060652],\n",
       "          ...,\n",
       "          [1887007844,  539779173],\n",
       "          [1769238639, 1818324591],\n",
       "          [1948269097, 1679844712]],\n",
       "\n",
       "         [[1919513445, 1679844453],\n",
       "          [ 543257697, 1701869940],\n",
       "          [ 543584032, 1970562418],\n",
       "          ...,\n",
       "          [ 543584032, 1953784122],\n",
       "          [1767914098, 1953853550],\n",
       "          [ 537538144, 1679826976]],\n",
       "\n",
       "         [[1667855973,  975708261],\n",
       "          [1935764579, 1952463475],\n",
       "          [1751347823, 1986356270],\n",
       "          ...,\n",
       "          [1634100548,  980708469],\n",
       "          [ 543582496, 1867407456],\n",
       "          [1616930158, 1701060652]]],\n",
       "\n",
       "\n",
       "        [[[1819631974, 1948283764],\n",
       "          [1752440943, 1701060709],\n",
       "          [1701013878,  543584032],\n",
       "          ...,\n",
       "          [1819635560, 1701978212],\n",
       "          [1685221219, 1701867296],\n",
       "          [1769234802,  544435823]],\n",
       "\n",
       "         [[1948282479,  537552232],\n",
       "          [ 538976288, 1914708000],\n",
       "          [1920300133,  543450478],\n",
       "          ...,\n",
       "          [ 745825651, 1952805408],\n",
       "          [1701737077, 1702109284],\n",
       "          [1919906670, 1970239264]],\n",
       "\n",
       "         [[1646290028, 1818304613],\n",
       "          [1633906540,  543450484],\n",
       "          [ 537554537,  538976288],\n",
       "          ...,\n",
       "          [1616930163,  538970670],\n",
       "          [1701650464, 2037542765],\n",
       "          [1919903327,  544498029]],\n",
       "\n",
       "         ...,\n",
       "\n",
       "         [[1702129257, 1936876903],\n",
       "          [2064255534,  842229364],\n",
       "          [1953459807,  168459621],\n",
       "          ...,\n",
       "          [1819306356,  174351721],\n",
       "          [ 538976288, 1668571490],\n",
       "          [ 673198696, 1936614740]],\n",
       "\n",
       "         [[ 975794799, 1701344288],\n",
       "          [1667592992,  543452783],\n",
       "          [1668571490, 1718558824],\n",
       "          ...,\n",
       "          [1818324591, 1830828585],\n",
       "          [1769237621, 1701407856],\n",
       "          [1868963954, 1631199346]],\n",
       "\n",
       "         [[ 980579444, 1886284128],\n",
       "          [ 543192181, 1634548264],\n",
       "          [1614440564, 1952801372],\n",
       "          ...,\n",
       "          [1852795252,  975793249],\n",
       "          [1819634976, 1819306356],\n",
       "          [ 544367977,  544370534]]],\n",
       "\n",
       "\n",
       "        ...,\n",
       "\n",
       "\n",
       "        [[[1701278305, 1936028192],\n",
       "          [1937009781,  544175136],\n",
       "          [1768320617, 2037672302],\n",
       "          ...,\n",
       "          [1614703725, 1868963935],\n",
       "          [1701060722, 1818845556],\n",
       "          [1628057203,       2260]],\n",
       "\n",
       "         [[1919906570, 1852385396],\n",
       "          [ 745829744, 1835623456],\n",
       "          [ 741420349, 1936024608],\n",
       "          ...,\n",
       "          [1393166889, 1937011311],\n",
       "          [1701344288, 1701602592],\n",
       "          [1953391981, 1718558835]],\n",
       "\n",
       "         [[1701344288, 1952528928],\n",
       "          [1614443124, 1970302569],\n",
       "          [1948278900, 1869835877],\n",
       "          ...,\n",
       "          [1768185914, 1763729517],\n",
       "          [1869488243, 1768366196],\n",
       "          [ 745432438, 1701344288]],\n",
       "\n",
       "         ...,\n",
       "\n",
       "         [[1679830057, 1701869940],\n",
       "          [1919906877, 1680762979],\n",
       "          [1818391919,  537536869],\n",
       "          ...,\n",
       "          [1852142653,  678588275],\n",
       "          [ 539766875,  807414833],\n",
       "          [1563500588,  537537577]],\n",
       "\n",
       "         [[ 538976288,  538976288],\n",
       "          [1635131424, 1936029036],\n",
       "          [1852142653,  678588275],\n",
       "          ...,\n",
       "          [ 913596783, 1814047796],\n",
       "          [1970239841, 1869888884],\n",
       "          [ 778593138, 1918988403]],\n",
       "\n",
       "         [[1667196275,  170488435],\n",
       "          [    928609, 1886587392],\n",
       "          [1702064737, 1869570911],\n",
       "          ...,\n",
       "          [1970365810, 1936028265],\n",
       "          [1634887519, 1631993188],\n",
       "          [ 694514540,  540945696]]],\n",
       "\n",
       "\n",
       "        [[[1936614740,  168456815],\n",
       "          [1936617283, 1668641396],\n",
       "          [1629516660, 1701984800],\n",
       "          ...,\n",
       "          [1667592307, 1701406313],\n",
       "          [1635131492, 1936029036],\n",
       "          [ 544497952,  543516788]],\n",
       "\n",
       "         [[1702259047, 1631193710],\n",
       "          [ 980579444, 1684957536],\n",
       "          [1936024425,  168439392],\n",
       "          ...,\n",
       "          [1634759484,  761623410],\n",
       "          [1868787317, 1936026721],\n",
       "          [ 761554275,  762277731]],\n",
       "\n",
       "         [[1935896420,  170811454],\n",
       "          [1735541002,  537541235],\n",
       "          [1763713056, 1667851374],\n",
       "          ...,\n",
       "          [ 170681708,  538976288],\n",
       "          [ 538976288, 1349350734],\n",
       "          [1616912505, 1918985326]],\n",
       "\n",
       "         ...,\n",
       "\n",
       "         [[1631783434, 1819632492],\n",
       "          [1936028769, 1701344288],\n",
       "          [1635021600, 1918985326],\n",
       "          ...,\n",
       "          [1614443124, 1768058485],\n",
       "          [1684370273, 1936269408],\n",
       "          [1415602208, 1617261938]],\n",
       "\n",
       "         [[1109404768, 1702064997],\n",
       "          [ 544417644, 1920102243],\n",
       "          [1769235301, 1998614127],\n",
       "          ...,\n",
       "          [ 544503151,  544829025],\n",
       "          [1920102243, 1769235301],\n",
       "          [ 170815087, 1735541002]],\n",
       "\n",
       "         [[ 537541235, 2065702944],\n",
       "          [1970302569,  537558388],\n",
       "          [1965039648, 1634296430],\n",
       "          ...,\n",
       "          [1613832253,  168439337],\n",
       "          [1835104325,  979725424],\n",
       "          [ 537528890, 1042292768]]],\n",
       "\n",
       "\n",
       "        [[[1629503038, 1948269856],\n",
       "          [1751347823, 1852142638],\n",
       "          [ 678588275,  808278875],\n",
       "          ...,\n",
       "          [ 538976288, 1936614772],\n",
       "          [ 807957103,  942748718],\n",
       "          [1628055864,       1108]],\n",
       "\n",
       "         [[1685353226, 1634037087],\n",
       "          [1852385390,  745829744],\n",
       "          [1835623456, 1853169708],\n",
       "          ...,\n",
       "          [1969240690, 1634296430],\n",
       "          [1617192307,  544434464],\n",
       "          [1918132320, 1616930165]],\n",
       "\n",
       "         [[1698832428, 1818588019],\n",
       "          [1663071015, 1701999215],\n",
       "          [1869182051, 1769414766],\n",
       "          ...,\n",
       "          [1819307361, 1701060709],\n",
       "          [1952541046,  544108393],\n",
       "          [1663071081, 1969450081]],\n",
       "\n",
       "         ...,\n",
       "\n",
       "         [[ 538976288,  538976288],\n",
       "          [1715085354,  979594869],\n",
       "          [1919906912, 1932421219],\n",
       "          ...,\n",
       "          [ 538976288,  538976288],\n",
       "          [1750491168, 1948265568],\n",
       "          [ 544498024,  539784041]],\n",
       "\n",
       "         [[1952542010, 1449146984],\n",
       "          [1952217950, 2071230565],\n",
       "          [1618836808,  538970670],\n",
       "          ...,\n",
       "          [1952805408, 1936618101],\n",
       "          [1919253024, 1768303983],\n",
       "          [1684368492,  538976266]],\n",
       "\n",
       "         [[ 538976288,  538976288],\n",
       "          [ 538976288, 1936614772],\n",
       "          [ 544436847,  544370534],\n",
       "          ...,\n",
       "          [ 538976288, 1835343904],\n",
       "          [ 544830576, 1936614772],\n",
       "          [ 779317871,  774769162]]]], dtype=torch.int32)"
      ]
     },
     "execution_count": 12,
     "metadata": {},
     "output_type": "execute_result"
    }
   ],
   "source": [
    "x = torch.IntTensor(45, 57, 14, 2)\n",
    "x"
   ]
  },
  {
   "cell_type": "markdown",
   "metadata": {
    "id": "cUzl8DFRYJ95"
   },
   "source": [
    "**Примечание:** если вы создаете `torch.Tensor` с помощью следующего конструктора, он будет заполнен мусором из \"случайных номеров\":"
   ]
  },
  {
   "cell_type": "code",
   "execution_count": 17,
   "metadata": {
    "colab": {
     "base_uri": "https://localhost:8080/"
    },
    "executionInfo": {
     "elapsed": 387,
     "status": "ok",
     "timestamp": 1634745537404,
     "user": {
      "displayName": "Александр Анатольевич Миленькин",
      "photoUrl": "https://lh3.googleusercontent.com/a-/AOh14Gh1yB_mGyNeEBrnQ_bFdA3CLdWCnTPdtAORppSkYg=s64",
      "userId": "12111341805146772458"
     },
     "user_tz": -180
    },
    "id": "QX0QcIOzYJ96",
    "outputId": "396c0956-a2f3-4d76-a697-5837aaa7385b"
   },
   "outputs": [
    {
     "data": {
      "text/plain": [
       "tensor([[[ 67284656,         1,  85347504,         1],\n",
       "         [ 61043504,         1,  45908720,         1]],\n",
       "\n",
       "        [[138640688,         1,  84869168,         1],\n",
       "         [ 63802224,         1,  43493680,         1]],\n",
       "\n",
       "        [[138641712,         1,  72302704,         1],\n",
       "         [138640944,         1,  45849392,         1]]], dtype=torch.int32)"
      ]
     },
     "execution_count": 17,
     "metadata": {},
     "output_type": "execute_result"
    }
   ],
   "source": [
    "x = torch.IntTensor(3, 2, 4)\n",
    "x"
   ]
  },
  {
   "cell_type": "markdown",
   "metadata": {
    "id": "utra2t4SbdQR"
   },
   "source": [
    "### Инициализации тензоров"
   ]
  },
  {
   "cell_type": "code",
   "execution_count": 21,
   "metadata": {
    "id": "XV3w9lVwYJ-A"
   },
   "outputs": [],
   "source": [
    "x1 = torch.FloatTensor(3, 2, 4)"
   ]
  },
  {
   "cell_type": "code",
   "execution_count": 23,
   "metadata": {
    "id": "XV3w9lVwYJ-A"
   },
   "outputs": [
    {
     "data": {
      "text/plain": [
       "tensor([[[0., 0., 0., 0.],\n",
       "         [0., 0., 0., 0.]],\n",
       "\n",
       "        [[0., 0., 0., 0.],\n",
       "         [0., 0., 0., 0.]],\n",
       "\n",
       "        [[0., 0., 0., 0.],\n",
       "         [0., 0., 0., 0.]]])"
      ]
     },
     "execution_count": 23,
     "metadata": {},
     "output_type": "execute_result"
    }
   ],
   "source": [
    "x1.zero_()"
   ]
  },
  {
   "cell_type": "code",
   "execution_count": 24,
   "metadata": {},
   "outputs": [
    {
     "data": {
      "text/plain": [
       "tensor([[[0., 0., 0., 0.],\n",
       "         [0., 0., 0., 0.]],\n",
       "\n",
       "        [[0., 0., 0., 0.],\n",
       "         [0., 0., 0., 0.]],\n",
       "\n",
       "        [[0., 0., 0., 0.],\n",
       "         [0., 0., 0., 0.]]])"
      ]
     },
     "execution_count": 24,
     "metadata": {},
     "output_type": "execute_result"
    }
   ],
   "source": [
    "x1"
   ]
  },
  {
   "cell_type": "code",
   "execution_count": 25,
   "metadata": {
    "id": "XV3w9lVwYJ-A"
   },
   "outputs": [],
   "source": [
    "x2 = torch.zeros(3, 2, 4)\n",
    "x3 = torch.zeros_like(x1)\n",
    "\n",
    "assert torch.allclose(x1, x2) and torch.allclose(x1, x3)"
   ]
  },
  {
   "cell_type": "markdown",
   "metadata": {
    "id": "G3el1HwZd9wJ"
   },
   "source": [
    "Инициализация случайного распределения"
   ]
  },
  {
   "cell_type": "code",
   "execution_count": null,
   "metadata": {
    "colab": {
     "base_uri": "https://localhost:8080/"
    },
    "executionInfo": {
     "elapsed": 5,
     "status": "ok",
     "timestamp": 1634745664576,
     "user": {
      "displayName": "Александр Анатольевич Миленькин",
      "photoUrl": "https://lh3.googleusercontent.com/a-/AOh14Gh1yB_mGyNeEBrnQ_bFdA3CLdWCnTPdtAORppSkYg=s64",
      "userId": "12111341805146772458"
     },
     "user_tz": -180
    },
    "id": "-ahnCFMXe_9I",
    "outputId": "e2882741-a8c3-451e-ed56-b8b1a64c14dc"
   },
   "outputs": [
    {
     "data": {
      "text/plain": [
       "tensor([[ 0.5265, -0.3572,  1.2414],\n",
       "        [ 1.3978,  0.8296,  0.1583]])"
      ]
     },
     "execution_count": 16,
     "metadata": {},
     "output_type": "execute_result"
    }
   ],
   "source": [
    "x = torch.randn((2,3))                # Normal(0, 1) с размером (2, 3)\n",
    "x"
   ]
  },
  {
   "cell_type": "code",
   "execution_count": null,
   "metadata": {
    "colab": {
     "base_uri": "https://localhost:8080/"
    },
    "executionInfo": {
     "elapsed": 12,
     "status": "ok",
     "timestamp": 1634457939916,
     "user": {
      "displayName": "Александр Анатольевич Миленькин",
      "photoUrl": "https://lh3.googleusercontent.com/a-/AOh14Gh1yB_mGyNeEBrnQ_bFdA3CLdWCnTPdtAORppSkYg=s64",
      "userId": "12111341805146772458"
     },
     "user_tz": -180
    },
    "id": "FhIy_yuRd9Kf",
    "outputId": "2f6e8b9f-1495-4b61-89f4-cd490c69aed3"
   },
   "outputs": [
    {
     "data": {
      "text/plain": [
       "tensor([[1., 0., 0.],\n",
       "        [1., 1., 0.]])"
      ]
     },
     "execution_count": 16,
     "metadata": {},
     "output_type": "execute_result"
    }
   ],
   "source": [
    "x.random_(0, 10)                      # Дискретное равномерно U[0, 10]\n",
    "x.uniform_(0, 1)                      # Равномерно U[0, 1]\n",
    "x.normal_(mean=0, std=1)              # Нормальное со средним 0 и дисперсией 1\n",
    "x.bernoulli_(p=0.5)                   # bernoulli with parameter p"
   ]
  },
  {
   "cell_type": "markdown",
   "metadata": {
    "id": "bzq1klQuzXA9"
   },
   "source": [
    "## Функции в Torch \n",
    "\n",
    "У всех функций Numpy есть своя пара в Torch! Осталось теперь вспомнить numpy 🙂\n",
    "\n",
    "https://github.com/torch/torch7/wiki/Torch-for-Numpy-users"
   ]
  },
  {
   "cell_type": "markdown",
   "metadata": {
    "id": "SAAmLRwzYJ-E"
   },
   "source": [
    "### Изменение формы\n",
    "`np.reshape()` == `torch.view()`:"
   ]
  },
  {
   "cell_type": "code",
   "execution_count": 27,
   "metadata": {
    "colab": {
     "base_uri": "https://localhost:8080/"
    },
    "executionInfo": {
     "elapsed": 861,
     "status": "ok",
     "timestamp": 1634745732019,
     "user": {
      "displayName": "Александр Анатольевич Миленькин",
      "photoUrl": "https://lh3.googleusercontent.com/a-/AOh14Gh1yB_mGyNeEBrnQ_bFdA3CLdWCnTPdtAORppSkYg=s64",
      "userId": "12111341805146772458"
     },
     "user_tz": -180
    },
    "id": "LLOoLEMDl8Cl",
    "outputId": "316ed447-b240-4fee-a3cf-cd0b86dd22a1"
   },
   "outputs": [
    {
     "data": {
      "text/plain": [
       "tensor([[1., 2., 3.],\n",
       "        [4., 5., 6.]])"
      ]
     },
     "execution_count": 27,
     "metadata": {},
     "output_type": "execute_result"
    }
   ],
   "source": [
    "b"
   ]
  },
  {
   "cell_type": "code",
   "execution_count": 28,
   "metadata": {
    "colab": {
     "base_uri": "https://localhost:8080/"
    },
    "executionInfo": {
     "elapsed": 530,
     "status": "ok",
     "timestamp": 1634745738208,
     "user": {
      "displayName": "Александр Анатольевич Миленькин",
      "photoUrl": "https://lh3.googleusercontent.com/a-/AOh14Gh1yB_mGyNeEBrnQ_bFdA3CLdWCnTPdtAORppSkYg=s64",
      "userId": "12111341805146772458"
     },
     "user_tz": -180
    },
    "id": "vLu6QvQihvGA",
    "outputId": "b65aedab-36a9-4a91-86fc-32435c7b1a4d"
   },
   "outputs": [
    {
     "data": {
      "text/plain": [
       "torch.Size([3, 2])"
      ]
     },
     "execution_count": 28,
     "metadata": {},
     "output_type": "execute_result"
    }
   ],
   "source": [
    "b.view(3, 2).shape"
   ]
  },
  {
   "cell_type": "code",
   "execution_count": null,
   "metadata": {
    "colab": {
     "base_uri": "https://localhost:8080/"
    },
    "executionInfo": {
     "elapsed": 5,
     "status": "ok",
     "timestamp": 1634745742585,
     "user": {
      "displayName": "Александр Анатольевич Миленькин",
      "photoUrl": "https://lh3.googleusercontent.com/a-/AOh14Gh1yB_mGyNeEBrnQ_bFdA3CLdWCnTPdtAORppSkYg=s64",
      "userId": "12111341805146772458"
     },
     "user_tz": -180
    },
    "id": "BAET_xQhl_2f",
    "outputId": "ddc7d4a9-eb01-4c47-b7f6-83ac3830651c"
   },
   "outputs": [
    {
     "data": {
      "text/plain": [
       "tensor([[1., 2., 3.],\n",
       "        [4., 5., 6.]])"
      ]
     },
     "execution_count": 23,
     "metadata": {},
     "output_type": "execute_result"
    }
   ],
   "source": [
    "b"
   ]
  },
  {
   "cell_type": "code",
   "execution_count": null,
   "metadata": {
    "colab": {
     "base_uri": "https://localhost:8080/"
    },
    "executionInfo": {
     "elapsed": 1226,
     "status": "ok",
     "timestamp": 1634745760597,
     "user": {
      "displayName": "Александр Анатольевич Миленькин",
      "photoUrl": "https://lh3.googleusercontent.com/a-/AOh14Gh1yB_mGyNeEBrnQ_bFdA3CLdWCnTPdtAORppSkYg=s64",
      "userId": "12111341805146772458"
     },
     "user_tz": -180
    },
    "id": "spMYG2xXYJ-L",
    "outputId": "9465bbfa-8121-4471-bc6c-81557b80ca86"
   },
   "outputs": [
    {
     "data": {
      "text/plain": [
       "(tensor([[1., 2., 3.],\n",
       "         [4., 5., 6.]]), (3, 1))"
      ]
     },
     "execution_count": 24,
     "metadata": {},
     "output_type": "execute_result"
    }
   ],
   "source": [
    "b, b.stride()"
   ]
  },
  {
   "cell_type": "code",
   "execution_count": null,
   "metadata": {
    "colab": {
     "base_uri": "https://localhost:8080/"
    },
    "executionInfo": {
     "elapsed": 343,
     "status": "ok",
     "timestamp": 1634648052721,
     "user": {
      "displayName": "Александр Анатольевич Миленькин",
      "photoUrl": "https://lh3.googleusercontent.com/a-/AOh14Gh1yB_mGyNeEBrnQ_bFdA3CLdWCnTPdtAORppSkYg=s64",
      "userId": "12111341805146772458"
     },
     "user_tz": -180
    },
    "id": "ePjL3X3GYJ-H",
    "outputId": "a0e06364-61e9-475d-ca36-5b9c28b01387"
   },
   "outputs": [
    {
     "data": {
      "text/plain": [
       "(tensor([[1., 2.],\n",
       "         [3., 4.],\n",
       "         [5., 6.]]), (2, 1))"
      ]
     },
     "execution_count": 31,
     "metadata": {},
     "output_type": "execute_result"
    }
   ],
   "source": [
    "b.view(3, 2), b.view(3, 2).stride()  "
   ]
  },
  {
   "cell_type": "markdown",
   "metadata": {
    "id": "amVu0N1zYJ-O"
   },
   "source": [
    "**Примечание:** `torch.view ()` создает новый тензор, но старый остается неизменным"
   ]
  },
  {
   "cell_type": "code",
   "execution_count": null,
   "metadata": {
    "colab": {
     "base_uri": "https://localhost:8080/"
    },
    "executionInfo": {
     "elapsed": 568,
     "status": "ok",
     "timestamp": 1634746095718,
     "user": {
      "displayName": "Александр Анатольевич Миленькин",
      "photoUrl": "https://lh3.googleusercontent.com/a-/AOh14Gh1yB_mGyNeEBrnQ_bFdA3CLdWCnTPdtAORppSkYg=s64",
      "userId": "12111341805146772458"
     },
     "user_tz": -180
    },
    "id": "hWqyugOSYJ-Q",
    "outputId": "ed94a8d8-41a3-4a7b-b7bf-2c27fe62b569"
   },
   "outputs": [
    {
     "data": {
      "text/plain": [
       "tensor([[1., 2.],\n",
       "        [3., 4.],\n",
       "        [5., 6.]])"
      ]
     },
     "execution_count": 40,
     "metadata": {},
     "output_type": "execute_result"
    }
   ],
   "source": [
    "b.view(-1, 2)"
   ]
  },
  {
   "cell_type": "code",
   "execution_count": null,
   "metadata": {
    "colab": {
     "base_uri": "https://localhost:8080/"
    },
    "executionInfo": {
     "elapsed": 552,
     "status": "ok",
     "timestamp": 1634746102667,
     "user": {
      "displayName": "Александр Анатольевич Миленькин",
      "photoUrl": "https://lh3.googleusercontent.com/a-/AOh14Gh1yB_mGyNeEBrnQ_bFdA3CLdWCnTPdtAORppSkYg=s64",
      "userId": "12111341805146772458"
     },
     "user_tz": -180
    },
    "id": "S9CvF56uYJ-U",
    "outputId": "fe2f9279-d516-4c04-ef95-561f1cad5f4b"
   },
   "outputs": [
    {
     "data": {
      "text/plain": [
       "tensor([[1., 2., 3.],\n",
       "        [4., 5., 6.]])"
      ]
     },
     "execution_count": 41,
     "metadata": {},
     "output_type": "execute_result"
    }
   ],
   "source": [
    "b"
   ]
  },
  {
   "cell_type": "code",
   "execution_count": null,
   "metadata": {
    "colab": {
     "base_uri": "https://localhost:8080/"
    },
    "executionInfo": {
     "elapsed": 9,
     "status": "ok",
     "timestamp": 1634745895301,
     "user": {
      "displayName": "Александр Анатольевич Миленькин",
      "photoUrl": "https://lh3.googleusercontent.com/a-/AOh14Gh1yB_mGyNeEBrnQ_bFdA3CLdWCnTPdtAORppSkYg=s64",
      "userId": "12111341805146772458"
     },
     "user_tz": -180
    },
    "id": "MVrFVwTNYd3S",
    "outputId": "65a2432b-c5f6-410c-9e22-113864cea1e7"
   },
   "outputs": [
    {
     "data": {
      "text/plain": [
       "((1, 3), True, False)"
      ]
     },
     "execution_count": 29,
     "metadata": {},
     "output_type": "execute_result"
    }
   ],
   "source": [
    "b.T.stride(), b.is_contiguous(), b.T.is_contiguous()"
   ]
  },
  {
   "cell_type": "code",
   "execution_count": null,
   "metadata": {
    "id": "0hZucnNac_x1"
   },
   "outputs": [],
   "source": []
  },
  {
   "cell_type": "markdown",
   "metadata": {
    "id": "IVYx1j_HUl2d"
   },
   "source": [
    "<img src='https://lh3.googleusercontent.com/proxy/pbQ8C9YLVguU2LzlfE2-57lC3KK3yIRsQnpaTOK9S2UPpopvnZ3JhgeMcT6_kqYL56xq18ZFqddzPhszZg1W9YY--y-qDD2-bJrjVYivMdpQgRqiumwh6PpJYU3cL5Mua9RNeVp6xK0'>"
   ]
  },
  {
   "cell_type": "code",
   "execution_count": null,
   "metadata": {
    "colab": {
     "base_uri": "https://localhost:8080/"
    },
    "executionInfo": {
     "elapsed": 388,
     "status": "ok",
     "timestamp": 1634746107727,
     "user": {
      "displayName": "Александр Анатольевич Миленькин",
      "photoUrl": "https://lh3.googleusercontent.com/a-/AOh14Gh1yB_mGyNeEBrnQ_bFdA3CLdWCnTPdtAORppSkYg=s64",
      "userId": "12111341805146772458"
     },
     "user_tz": -180
    },
    "id": "mjBCZ1fEJN5B",
    "outputId": "ca03c774-804b-4efd-f395-05e10f61d1e4"
   },
   "outputs": [
    {
     "data": {
      "text/plain": [
       "tensor([1., 2., 3., 4., 5., 6.])"
      ]
     },
     "execution_count": 42,
     "metadata": {},
     "output_type": "execute_result"
    }
   ],
   "source": [
    "b.reshape(-1) # возвращает view или contigues тензор"
   ]
  },
  {
   "cell_type": "code",
   "execution_count": null,
   "metadata": {
    "colab": {
     "base_uri": "https://localhost:8080/"
    },
    "executionInfo": {
     "elapsed": 594,
     "status": "ok",
     "timestamp": 1634746115204,
     "user": {
      "displayName": "Александр Анатольевич Миленькин",
      "photoUrl": "https://lh3.googleusercontent.com/a-/AOh14Gh1yB_mGyNeEBrnQ_bFdA3CLdWCnTPdtAORppSkYg=s64",
      "userId": "12111341805146772458"
     },
     "user_tz": -180
    },
    "id": "wet5p_4uJRm6",
    "outputId": "3ff29e31-aa4f-4f3d-bcfd-6ab7f1f0823d"
   },
   "outputs": [
    {
     "data": {
      "text/plain": [
       "tensor([[1., 2., 3.],\n",
       "        [4., 5., 6.]])"
      ]
     },
     "execution_count": 43,
     "metadata": {},
     "output_type": "execute_result"
    }
   ],
   "source": [
    "b"
   ]
  },
  {
   "cell_type": "markdown",
   "metadata": {
    "id": "t401j1E2YJ-Z"
   },
   "source": [
    "### Изменение типа тензора"
   ]
  },
  {
   "cell_type": "code",
   "execution_count": null,
   "metadata": {
    "id": "f_iDUEH4YJ-Z"
   },
   "outputs": [],
   "source": [
    "a = torch.FloatTensor([1.5, 3.2, -7])"
   ]
  },
  {
   "cell_type": "code",
   "execution_count": null,
   "metadata": {
    "colab": {
     "base_uri": "https://localhost:8080/"
    },
    "executionInfo": {
     "elapsed": 590,
     "status": "ok",
     "timestamp": 1634746135121,
     "user": {
      "displayName": "Александр Анатольевич Миленькин",
      "photoUrl": "https://lh3.googleusercontent.com/a-/AOh14Gh1yB_mGyNeEBrnQ_bFdA3CLdWCnTPdtAORppSkYg=s64",
      "userId": "12111341805146772458"
     },
     "user_tz": -180
    },
    "id": "EzJOrXitYJ-e",
    "outputId": "dd112a82-f363-4831-bf1f-eb612b320804"
   },
   "outputs": [
    {
     "data": {
      "text/plain": [
       "tensor([1, 2], dtype=torch.int32)"
      ]
     },
     "execution_count": 44,
     "metadata": {},
     "output_type": "execute_result"
    }
   ],
   "source": [
    "a.type_as(torch.IntTensor())"
   ]
  },
  {
   "cell_type": "code",
   "execution_count": null,
   "metadata": {
    "colab": {
     "base_uri": "https://localhost:8080/"
    },
    "executionInfo": {
     "elapsed": 507,
     "status": "ok",
     "timestamp": 1634746146520,
     "user": {
      "displayName": "Александр Анатольевич Миленькин",
      "photoUrl": "https://lh3.googleusercontent.com/a-/AOh14Gh1yB_mGyNeEBrnQ_bFdA3CLdWCnTPdtAORppSkYg=s64",
      "userId": "12111341805146772458"
     },
     "user_tz": -180
    },
    "id": "5LrO73QgJuGb",
    "outputId": "6b3efcd1-9a4f-4cda-ba6f-99eaaac9e1d4"
   },
   "outputs": [
    {
     "data": {
      "text/plain": [
       "tensor([1, 2], dtype=torch.int32)"
      ]
     },
     "execution_count": 45,
     "metadata": {},
     "output_type": "execute_result"
    }
   ],
   "source": [
    "a.to(torch.int32)"
   ]
  },
  {
   "cell_type": "code",
   "execution_count": null,
   "metadata": {
    "colab": {
     "base_uri": "https://localhost:8080/"
    },
    "executionInfo": {
     "elapsed": 425,
     "status": "ok",
     "timestamp": 1634746160708,
     "user": {
      "displayName": "Александр Анатольевич Миленькин",
      "photoUrl": "https://lh3.googleusercontent.com/a-/AOh14Gh1yB_mGyNeEBrnQ_bFdA3CLdWCnTPdtAORppSkYg=s64",
      "userId": "12111341805146772458"
     },
     "user_tz": -180
    },
    "id": "hAe3OWWUYJ-i",
    "outputId": "86aa0aae-8043-4eeb-a9b7-7c43c5a3aa17"
   },
   "outputs": [
    {
     "data": {
      "text/plain": [
       "tensor([1, 2], dtype=torch.uint8)"
      ]
     },
     "execution_count": 46,
     "metadata": {},
     "output_type": "execute_result"
    }
   ],
   "source": [
    "a.type_as(torch.ByteTensor())"
   ]
  },
  {
   "cell_type": "code",
   "execution_count": null,
   "metadata": {
    "colab": {
     "base_uri": "https://localhost:8080/"
    },
    "executionInfo": {
     "elapsed": 6,
     "status": "ok",
     "timestamp": 1634746162258,
     "user": {
      "displayName": "Александр Анатольевич Миленькин",
      "photoUrl": "https://lh3.googleusercontent.com/a-/AOh14Gh1yB_mGyNeEBrnQ_bFdA3CLdWCnTPdtAORppSkYg=s64",
      "userId": "12111341805146772458"
     },
     "user_tz": -180
    },
    "id": "6rOGMU_xJ450",
    "outputId": "1f24d1ed-4caa-41d4-d35b-81f865fd7f64"
   },
   "outputs": [
    {
     "data": {
      "text/plain": [
       "tensor([1, 2], dtype=torch.uint8)"
      ]
     },
     "execution_count": 47,
     "metadata": {},
     "output_type": "execute_result"
    }
   ],
   "source": [
    "a.to(torch.uint8)"
   ]
  },
  {
   "cell_type": "markdown",
   "metadata": {
    "id": "4rkatrUeYJ-n"
   },
   "source": [
    "**Note:** `.type_as()` creates a new tensor, the old one remains unchanged"
   ]
  },
  {
   "cell_type": "code",
   "execution_count": null,
   "metadata": {
    "colab": {
     "base_uri": "https://localhost:8080/"
    },
    "executionInfo": {
     "elapsed": 469,
     "status": "ok",
     "timestamp": 1634746173278,
     "user": {
      "displayName": "Александр Анатольевич Миленькин",
      "photoUrl": "https://lh3.googleusercontent.com/a-/AOh14Gh1yB_mGyNeEBrnQ_bFdA3CLdWCnTPdtAORppSkYg=s64",
      "userId": "12111341805146772458"
     },
     "user_tz": -180
    },
    "id": "fCgDT14MYJ-o",
    "outputId": "b0bb7f6e-b2a1-4e08-cdc7-308f64106e11"
   },
   "outputs": [
    {
     "data": {
      "text/plain": [
       "tensor([1., 2.])"
      ]
     },
     "execution_count": 48,
     "metadata": {},
     "output_type": "execute_result"
    }
   ],
   "source": [
    "a"
   ]
  },
  {
   "cell_type": "markdown",
   "metadata": {
    "id": "hG1OwtFBYJ-r"
   },
   "source": [
    "* Indexing is just like in `NumPy`:"
   ]
  },
  {
   "cell_type": "code",
   "execution_count": null,
   "metadata": {
    "colab": {
     "base_uri": "https://localhost:8080/"
    },
    "executionInfo": {
     "elapsed": 12,
     "status": "ok",
     "timestamp": 1634746175078,
     "user": {
      "displayName": "Александр Анатольевич Миленькин",
      "photoUrl": "https://lh3.googleusercontent.com/a-/AOh14Gh1yB_mGyNeEBrnQ_bFdA3CLdWCnTPdtAORppSkYg=s64",
      "userId": "12111341805146772458"
     },
     "user_tz": -180
    },
    "id": "prr0EGIYYJ-r",
    "outputId": "f2fdb1bf-991a-4551-e332-66a6a2f38924"
   },
   "outputs": [
    {
     "data": {
      "text/plain": [
       "tensor([[100.,  20.,  35.],\n",
       "        [ 15., 163., 534.],\n",
       "        [ 52.,  90.,  66.]])"
      ]
     },
     "execution_count": 49,
     "metadata": {},
     "output_type": "execute_result"
    }
   ],
   "source": [
    "a = torch.FloatTensor([[100, 20, 35], [15, 163, 534], [52, 90, 66]])\n",
    "a"
   ]
  },
  {
   "cell_type": "code",
   "execution_count": null,
   "metadata": {
    "colab": {
     "base_uri": "https://localhost:8080/"
    },
    "executionInfo": {
     "elapsed": 7,
     "status": "ok",
     "timestamp": 1634746175079,
     "user": {
      "displayName": "Александр Анатольевич Миленькин",
      "photoUrl": "https://lh3.googleusercontent.com/a-/AOh14Gh1yB_mGyNeEBrnQ_bFdA3CLdWCnTPdtAORppSkYg=s64",
      "userId": "12111341805146772458"
     },
     "user_tz": -180
    },
    "id": "IBq7JiccYJ-w",
    "outputId": "9fc31169-f3a5-439a-cd3b-3fca1ec0ecbb"
   },
   "outputs": [
    {
     "data": {
      "text/plain": [
       "tensor(100.)"
      ]
     },
     "execution_count": 50,
     "metadata": {},
     "output_type": "execute_result"
    }
   ],
   "source": [
    "a[0, 0]"
   ]
  },
  {
   "cell_type": "code",
   "execution_count": null,
   "metadata": {
    "colab": {
     "base_uri": "https://localhost:8080/"
    },
    "executionInfo": {
     "elapsed": 552,
     "status": "ok",
     "timestamp": 1634746200651,
     "user": {
      "displayName": "Александр Анатольевич Миленькин",
      "photoUrl": "https://lh3.googleusercontent.com/a-/AOh14Gh1yB_mGyNeEBrnQ_bFdA3CLdWCnTPdtAORppSkYg=s64",
      "userId": "12111341805146772458"
     },
     "user_tz": -180
    },
    "id": "UUZzx2F_YJ-2",
    "outputId": "7031bbca-c5f6-4fae-a3e3-79294dc7ac50"
   },
   "outputs": [
    {
     "data": {
      "text/plain": [
       "tensor([ 20., 163.])"
      ]
     },
     "execution_count": 52,
     "metadata": {},
     "output_type": "execute_result"
    }
   ],
   "source": [
    "a[0:2, 1]"
   ]
  },
  {
   "cell_type": "markdown",
   "metadata": {
    "id": "KffQsYwWYJ_D"
   },
   "source": [
    "### Арифметические операции\n",
    "\n",
    "| операция | аналоги |\n",
    "|:-:|:-:|\n",
    "|`+`| `torch.add()` |\n",
    "|`-`| `torch.sub()` |\n",
    "|`*`| `torch.mul()` |\n",
    "|`/`| `torch.div()` |"
   ]
  },
  {
   "cell_type": "markdown",
   "metadata": {
    "id": "UMpR8T11YJ_D"
   },
   "source": [
    "#### Сложение"
   ]
  },
  {
   "cell_type": "code",
   "execution_count": null,
   "metadata": {
    "id": "1XHkSjEUYJ_D"
   },
   "outputs": [],
   "source": [
    "a = torch.FloatTensor([[1, 2, 3], [10, 20, 30], [100, 200, 300]])\n",
    "b = torch.FloatTensor([[-1, -2, -3], [-10, -20, -30], [100, 200, 300]])"
   ]
  },
  {
   "cell_type": "code",
   "execution_count": null,
   "metadata": {
    "colab": {
     "base_uri": "https://localhost:8080/"
    },
    "executionInfo": {
     "elapsed": 5,
     "status": "ok",
     "timestamp": 1634746224091,
     "user": {
      "displayName": "Александр Анатольевич Миленькин",
      "photoUrl": "https://lh3.googleusercontent.com/a-/AOh14Gh1yB_mGyNeEBrnQ_bFdA3CLdWCnTPdtAORppSkYg=s64",
      "userId": "12111341805146772458"
     },
     "user_tz": -180
    },
    "id": "td25tuFKYJ_H",
    "outputId": "e9a45c64-1b54-4606-c2ef-1199105d2d05"
   },
   "outputs": [
    {
     "data": {
      "text/plain": [
       "tensor([[  0.,   0.,   0.],\n",
       "        [  0.,   0.,   0.],\n",
       "        [200., 400., 600.]])"
      ]
     },
     "execution_count": 54,
     "metadata": {},
     "output_type": "execute_result"
    }
   ],
   "source": [
    "a + b"
   ]
  },
  {
   "cell_type": "code",
   "execution_count": null,
   "metadata": {
    "colab": {
     "base_uri": "https://localhost:8080/"
    },
    "executionInfo": {
     "elapsed": 5,
     "status": "ok",
     "timestamp": 1634746225884,
     "user": {
      "displayName": "Александр Анатольевич Миленькин",
      "photoUrl": "https://lh3.googleusercontent.com/a-/AOh14Gh1yB_mGyNeEBrnQ_bFdA3CLdWCnTPdtAORppSkYg=s64",
      "userId": "12111341805146772458"
     },
     "user_tz": -180
    },
    "id": "wHka8PxFYJ_N",
    "outputId": "1736d82c-bfdb-4b4a-f9f2-8cf5519394fc"
   },
   "outputs": [
    {
     "data": {
      "text/plain": [
       "tensor([[  0.,   0.,   0.],\n",
       "        [  0.,   0.,   0.],\n",
       "        [200., 400., 600.]])"
      ]
     },
     "execution_count": 55,
     "metadata": {},
     "output_type": "execute_result"
    }
   ],
   "source": [
    "a.add(b)"
   ]
  },
  {
   "cell_type": "code",
   "execution_count": null,
   "metadata": {
    "colab": {
     "base_uri": "https://localhost:8080/"
    },
    "executionInfo": {
     "elapsed": 415,
     "status": "ok",
     "timestamp": 1634746232222,
     "user": {
      "displayName": "Александр Анатольевич Миленькин",
      "photoUrl": "https://lh3.googleusercontent.com/a-/AOh14Gh1yB_mGyNeEBrnQ_bFdA3CLdWCnTPdtAORppSkYg=s64",
      "userId": "12111341805146772458"
     },
     "user_tz": -180
    },
    "id": "FHQj4DbBYJ_Q",
    "outputId": "3ec26615-d6cb-4e0f-a2f2-11ed4d229927"
   },
   "outputs": [
    {
     "data": {
      "text/plain": [
       "tensor([[  -1.,   -2.,   -3.],\n",
       "        [ -10.,  -20.,  -30.],\n",
       "        [-100., -200., -300.]])"
      ]
     },
     "execution_count": 56,
     "metadata": {},
     "output_type": "execute_result"
    }
   ],
   "source": [
    "b = -a\n",
    "b"
   ]
  },
  {
   "cell_type": "code",
   "execution_count": null,
   "metadata": {
    "colab": {
     "base_uri": "https://localhost:8080/"
    },
    "executionInfo": {
     "elapsed": 463,
     "status": "ok",
     "timestamp": 1634746240098,
     "user": {
      "displayName": "Александр Анатольевич Миленькин",
      "photoUrl": "https://lh3.googleusercontent.com/a-/AOh14Gh1yB_mGyNeEBrnQ_bFdA3CLdWCnTPdtAORppSkYg=s64",
      "userId": "12111341805146772458"
     },
     "user_tz": -180
    },
    "id": "xLCDzO7iYJ_V",
    "outputId": "64ce8d45-4da2-4963-8361-05906f1cf968"
   },
   "outputs": [
    {
     "data": {
      "text/plain": [
       "tensor([[0., 0., 0.],\n",
       "        [0., 0., 0.],\n",
       "        [0., 0., 0.]])"
      ]
     },
     "execution_count": 57,
     "metadata": {},
     "output_type": "execute_result"
    }
   ],
   "source": [
    "a + b"
   ]
  },
  {
   "cell_type": "markdown",
   "metadata": {
    "id": "z_3gVLY3YJ_Z"
   },
   "source": [
    "#### Вычитание"
   ]
  },
  {
   "cell_type": "code",
   "execution_count": null,
   "metadata": {
    "colab": {
     "base_uri": "https://localhost:8080/"
    },
    "executionInfo": {
     "elapsed": 5,
     "status": "ok",
     "timestamp": 1634746242061,
     "user": {
      "displayName": "Александр Анатольевич Миленькин",
      "photoUrl": "https://lh3.googleusercontent.com/a-/AOh14Gh1yB_mGyNeEBrnQ_bFdA3CLdWCnTPdtAORppSkYg=s64",
      "userId": "12111341805146772458"
     },
     "user_tz": -180
    },
    "id": "PANHq3eFYJ_a",
    "outputId": "84c62349-b107-45ed-8105-915e7ad2807b"
   },
   "outputs": [
    {
     "data": {
      "text/plain": [
       "tensor([[  2.,   4.,   6.],\n",
       "        [ 20.,  40.,  60.],\n",
       "        [200., 400., 600.]])"
      ]
     },
     "execution_count": 58,
     "metadata": {},
     "output_type": "execute_result"
    }
   ],
   "source": [
    "a - b"
   ]
  },
  {
   "cell_type": "code",
   "execution_count": null,
   "metadata": {
    "colab": {
     "base_uri": "https://localhost:8080/"
    },
    "executionInfo": {
     "elapsed": 12,
     "status": "ok",
     "timestamp": 1634746277744,
     "user": {
      "displayName": "Александр Анатольевич Миленькин",
      "photoUrl": "https://lh3.googleusercontent.com/a-/AOh14Gh1yB_mGyNeEBrnQ_bFdA3CLdWCnTPdtAORppSkYg=s64",
      "userId": "12111341805146772458"
     },
     "user_tz": -180
    },
    "id": "AH7xhdkRYJ_i",
    "outputId": "e86f6eda-5117-44a3-b67b-829006f4fff8"
   },
   "outputs": [
    {
     "data": {
      "text/plain": [
       "tensor([[  3.,   6.,   9.],\n",
       "        [ 30.,  60.,  90.],\n",
       "        [300., 600., 900.]])"
      ]
     },
     "execution_count": 63,
     "metadata": {},
     "output_type": "execute_result"
    }
   ],
   "source": [
    "a.sub(b) # copy"
   ]
  },
  {
   "cell_type": "code",
   "execution_count": null,
   "metadata": {
    "colab": {
     "base_uri": "https://localhost:8080/"
    },
    "executionInfo": {
     "elapsed": 7,
     "status": "ok",
     "timestamp": 1634746282254,
     "user": {
      "displayName": "Александр Анатольевич Миленькин",
      "photoUrl": "https://lh3.googleusercontent.com/a-/AOh14Gh1yB_mGyNeEBrnQ_bFdA3CLdWCnTPdtAORppSkYg=s64",
      "userId": "12111341805146772458"
     },
     "user_tz": -180
    },
    "id": "v-sls6QjK98V",
    "outputId": "d0098f45-5fd8-43d6-ad50-ad5b01bc7b7b"
   },
   "outputs": [
    {
     "data": {
      "text/plain": [
       "tensor([[   4.,    8.,   12.],\n",
       "        [  40.,   80.,  120.],\n",
       "        [ 400.,  800., 1200.]])"
      ]
     },
     "execution_count": 65,
     "metadata": {},
     "output_type": "execute_result"
    }
   ],
   "source": [
    "a.sub_(b) # inplace"
   ]
  },
  {
   "cell_type": "markdown",
   "metadata": {
    "id": "KOX3dTuZYJ_l"
   },
   "source": [
    "#### Умножение (поэлементное)"
   ]
  },
  {
   "cell_type": "code",
   "execution_count": null,
   "metadata": {
    "colab": {
     "base_uri": "https://localhost:8080/"
    },
    "executionInfo": {
     "elapsed": 396,
     "status": "ok",
     "timestamp": 1634746296138,
     "user": {
      "displayName": "Александр Анатольевич Миленькин",
      "photoUrl": "https://lh3.googleusercontent.com/a-/AOh14Gh1yB_mGyNeEBrnQ_bFdA3CLdWCnTPdtAORppSkYg=s64",
      "userId": "12111341805146772458"
     },
     "user_tz": -180
    },
    "id": "J380CvNGYJ_m",
    "outputId": "1c194f31-d53f-4097-e252-a126c7a6d8ea"
   },
   "outputs": [
    {
     "data": {
      "text/plain": [
       "tensor([[-4.0000e+00, -1.6000e+01, -3.6000e+01],\n",
       "        [-4.0000e+02, -1.6000e+03, -3.6000e+03],\n",
       "        [-4.0000e+04, -1.6000e+05, -3.6000e+05]])"
      ]
     },
     "execution_count": 66,
     "metadata": {},
     "output_type": "execute_result"
    }
   ],
   "source": [
    "a * b"
   ]
  },
  {
   "cell_type": "code",
   "execution_count": null,
   "metadata": {
    "colab": {
     "base_uri": "https://localhost:8080/"
    },
    "executionInfo": {
     "elapsed": 554,
     "status": "ok",
     "timestamp": 1634746304559,
     "user": {
      "displayName": "Александр Анатольевич Миленькин",
      "photoUrl": "https://lh3.googleusercontent.com/a-/AOh14Gh1yB_mGyNeEBrnQ_bFdA3CLdWCnTPdtAORppSkYg=s64",
      "userId": "12111341805146772458"
     },
     "user_tz": -180
    },
    "id": "cixW0jgdYJ_o",
    "outputId": "5b6e4971-5032-4200-ca63-f7f25bc9dd3c"
   },
   "outputs": [
    {
     "data": {
      "text/plain": [
       "tensor([[-4.0000e+00, -1.6000e+01, -3.6000e+01],\n",
       "        [-4.0000e+02, -1.6000e+03, -3.6000e+03],\n",
       "        [-4.0000e+04, -1.6000e+05, -3.6000e+05]])"
      ]
     },
     "execution_count": 67,
     "metadata": {},
     "output_type": "execute_result"
    }
   ],
   "source": [
    "a.mul(b)"
   ]
  },
  {
   "cell_type": "markdown",
   "metadata": {
    "id": "V-GYTERKYJ_q"
   },
   "source": [
    "#### Деление (поэлементное):"
   ]
  },
  {
   "cell_type": "code",
   "execution_count": null,
   "metadata": {
    "id": "fUBQns2SYJ_r"
   },
   "outputs": [],
   "source": [
    "a = torch.FloatTensor([[1, 2, 3], [10, 20, 30], [100, 200, 300]])\n",
    "b = torch.FloatTensor([[-1, -2, -3], [-10, -20, -30], [100, 200, 300]])"
   ]
  },
  {
   "cell_type": "code",
   "execution_count": null,
   "metadata": {
    "colab": {
     "base_uri": "https://localhost:8080/"
    },
    "executionInfo": {
     "elapsed": 6,
     "status": "ok",
     "timestamp": 1634746309308,
     "user": {
      "displayName": "Александр Анатольевич Миленькин",
      "photoUrl": "https://lh3.googleusercontent.com/a-/AOh14Gh1yB_mGyNeEBrnQ_bFdA3CLdWCnTPdtAORppSkYg=s64",
      "userId": "12111341805146772458"
     },
     "user_tz": -180
    },
    "id": "2hrKeMjAYJ_v",
    "outputId": "5ef8fab2-da30-406b-b0a6-3aae04de9e1c"
   },
   "outputs": [
    {
     "data": {
      "text/plain": [
       "tensor([[-1., -1., -1.],\n",
       "        [-1., -1., -1.],\n",
       "        [ 1.,  1.,  1.]])"
      ]
     },
     "execution_count": 69,
     "metadata": {},
     "output_type": "execute_result"
    }
   ],
   "source": [
    "a / b"
   ]
  },
  {
   "cell_type": "code",
   "execution_count": null,
   "metadata": {
    "colab": {
     "base_uri": "https://localhost:8080/"
    },
    "executionInfo": {
     "elapsed": 7,
     "status": "ok",
     "timestamp": 1634746310061,
     "user": {
      "displayName": "Александр Анатольевич Миленькин",
      "photoUrl": "https://lh3.googleusercontent.com/a-/AOh14Gh1yB_mGyNeEBrnQ_bFdA3CLdWCnTPdtAORppSkYg=s64",
      "userId": "12111341805146772458"
     },
     "user_tz": -180
    },
    "id": "cpg3YFVPYJ_2",
    "outputId": "d7813f61-f134-41a5-eea2-77abd21f7ffb"
   },
   "outputs": [
    {
     "data": {
      "text/plain": [
       "tensor([[-1., -1., -1.],\n",
       "        [-1., -1., -1.],\n",
       "        [ 1.,  1.,  1.]])"
      ]
     },
     "execution_count": 70,
     "metadata": {},
     "output_type": "execute_result"
    }
   ],
   "source": [
    "a.div(b)"
   ]
  },
  {
   "cell_type": "markdown",
   "metadata": {
    "id": "VeLAbx1tYJ_7"
   },
   "source": [
    "**Примечание:** все эти операции создают новые тензоры, старые тензоры остаются неизменными."
   ]
  },
  {
   "cell_type": "code",
   "execution_count": null,
   "metadata": {
    "colab": {
     "base_uri": "https://localhost:8080/"
    },
    "executionInfo": {
     "elapsed": 833,
     "status": "ok",
     "timestamp": 1634746318281,
     "user": {
      "displayName": "Александр Анатольевич Миленькин",
      "photoUrl": "https://lh3.googleusercontent.com/a-/AOh14Gh1yB_mGyNeEBrnQ_bFdA3CLdWCnTPdtAORppSkYg=s64",
      "userId": "12111341805146772458"
     },
     "user_tz": -180
    },
    "id": "57BFtnlgYJ_8",
    "outputId": "3b41b3df-8c26-40ba-fd50-ea6d86080d2f"
   },
   "outputs": [
    {
     "data": {
      "text/plain": [
       "tensor([[  1.,   2.,   3.],\n",
       "        [ 10.,  20.,  30.],\n",
       "        [100., 200., 300.]])"
      ]
     },
     "execution_count": 71,
     "metadata": {},
     "output_type": "execute_result"
    }
   ],
   "source": [
    "a"
   ]
  },
  {
   "cell_type": "code",
   "execution_count": null,
   "metadata": {
    "colab": {
     "base_uri": "https://localhost:8080/"
    },
    "executionInfo": {
     "elapsed": 10,
     "status": "ok",
     "timestamp": 1634746318282,
     "user": {
      "displayName": "Александр Анатольевич Миленькин",
      "photoUrl": "https://lh3.googleusercontent.com/a-/AOh14Gh1yB_mGyNeEBrnQ_bFdA3CLdWCnTPdtAORppSkYg=s64",
      "userId": "12111341805146772458"
     },
     "user_tz": -180
    },
    "id": "UziXyvtDYJ_-",
    "outputId": "3a77920d-7fbc-4927-f221-5e8f7b1bc2f2"
   },
   "outputs": [
    {
     "data": {
      "text/plain": [
       "tensor([[ -1.,  -2.,  -3.],\n",
       "        [-10., -20., -30.],\n",
       "        [100., 200., 300.]])"
      ]
     },
     "execution_count": 72,
     "metadata": {},
     "output_type": "execute_result"
    }
   ],
   "source": [
    "b"
   ]
  },
  {
   "cell_type": "markdown",
   "metadata": {
    "id": "vLpwZPc3YKAC"
   },
   "source": [
    "### Операторы сравнения"
   ]
  },
  {
   "cell_type": "code",
   "execution_count": null,
   "metadata": {
    "id": "FfRzvw_UYKAC"
   },
   "outputs": [],
   "source": [
    "a = torch.FloatTensor([[1, 2, 3], [10, 20, 30], [100, 200, 300]])\n",
    "b = torch.FloatTensor([[-1, -2, -3], [-10, -20, -30], [100, 200, 300]])"
   ]
  },
  {
   "cell_type": "code",
   "execution_count": null,
   "metadata": {
    "colab": {
     "base_uri": "https://localhost:8080/"
    },
    "executionInfo": {
     "elapsed": 475,
     "status": "ok",
     "timestamp": 1634746328457,
     "user": {
      "displayName": "Александр Анатольевич Миленькин",
      "photoUrl": "https://lh3.googleusercontent.com/a-/AOh14Gh1yB_mGyNeEBrnQ_bFdA3CLdWCnTPdtAORppSkYg=s64",
      "userId": "12111341805146772458"
     },
     "user_tz": -180
    },
    "id": "o1RUTP2BYKAD",
    "outputId": "4a611a77-f313-48f6-e293-095eb0f76cdf"
   },
   "outputs": [
    {
     "data": {
      "text/plain": [
       "tensor([[False, False, False],\n",
       "        [False, False, False],\n",
       "        [ True,  True,  True]])"
      ]
     },
     "execution_count": 73,
     "metadata": {},
     "output_type": "execute_result"
    }
   ],
   "source": [
    "a == b"
   ]
  },
  {
   "cell_type": "code",
   "execution_count": null,
   "metadata": {
    "colab": {
     "base_uri": "https://localhost:8080/"
    },
    "executionInfo": {
     "elapsed": 398,
     "status": "ok",
     "timestamp": 1634746335733,
     "user": {
      "displayName": "Александр Анатольевич Миленькин",
      "photoUrl": "https://lh3.googleusercontent.com/a-/AOh14Gh1yB_mGyNeEBrnQ_bFdA3CLdWCnTPdtAORppSkYg=s64",
      "userId": "12111341805146772458"
     },
     "user_tz": -180
    },
    "id": "JO3HaVIAYKAF",
    "outputId": "49111463-ef42-4067-e354-3eb134338f3d"
   },
   "outputs": [
    {
     "data": {
      "text/plain": [
       "tensor([[ True,  True,  True],\n",
       "        [ True,  True,  True],\n",
       "        [False, False, False]])"
      ]
     },
     "execution_count": 74,
     "metadata": {},
     "output_type": "execute_result"
    }
   ],
   "source": [
    "a != b"
   ]
  },
  {
   "cell_type": "code",
   "execution_count": null,
   "metadata": {
    "colab": {
     "base_uri": "https://localhost:8080/"
    },
    "executionInfo": {
     "elapsed": 9,
     "status": "ok",
     "timestamp": 1634746340691,
     "user": {
      "displayName": "Александр Анатольевич Миленькин",
      "photoUrl": "https://lh3.googleusercontent.com/a-/AOh14Gh1yB_mGyNeEBrnQ_bFdA3CLdWCnTPdtAORppSkYg=s64",
      "userId": "12111341805146772458"
     },
     "user_tz": -180
    },
    "id": "DExLBj4VYKAH",
    "outputId": "5d502c89-47b9-4df2-b32f-8f152cfb2a7e"
   },
   "outputs": [
    {
     "data": {
      "text/plain": [
       "tensor([[False, False, False],\n",
       "        [False, False, False],\n",
       "        [False, False, False]])"
      ]
     },
     "execution_count": 76,
     "metadata": {},
     "output_type": "execute_result"
    }
   ],
   "source": [
    "a < b"
   ]
  },
  {
   "cell_type": "code",
   "execution_count": null,
   "metadata": {
    "colab": {
     "base_uri": "https://localhost:8080/"
    },
    "executionInfo": {
     "elapsed": 6,
     "status": "ok",
     "timestamp": 1634746341424,
     "user": {
      "displayName": "Александр Анатольевич Миленькин",
      "photoUrl": "https://lh3.googleusercontent.com/a-/AOh14Gh1yB_mGyNeEBrnQ_bFdA3CLdWCnTPdtAORppSkYg=s64",
      "userId": "12111341805146772458"
     },
     "user_tz": -180
    },
    "id": "0_IH_FUNYKAJ",
    "outputId": "92e7db00-81d1-4ad8-d642-ef68cc70bbe7"
   },
   "outputs": [
    {
     "data": {
      "text/plain": [
       "tensor([[ True,  True,  True],\n",
       "        [ True,  True,  True],\n",
       "        [False, False, False]])"
      ]
     },
     "execution_count": 77,
     "metadata": {},
     "output_type": "execute_result"
    }
   ],
   "source": [
    "a > b"
   ]
  },
  {
   "cell_type": "markdown",
   "metadata": {
    "id": "24nzBJR8YKAM"
   },
   "source": [
    "### Использование индексации по логической маске"
   ]
  },
  {
   "cell_type": "code",
   "execution_count": null,
   "metadata": {
    "colab": {
     "base_uri": "https://localhost:8080/"
    },
    "executionInfo": {
     "elapsed": 420,
     "status": "ok",
     "timestamp": 1634746368204,
     "user": {
      "displayName": "Александр Анатольевич Миленькин",
      "photoUrl": "https://lh3.googleusercontent.com/a-/AOh14Gh1yB_mGyNeEBrnQ_bFdA3CLdWCnTPdtAORppSkYg=s64",
      "userId": "12111341805146772458"
     },
     "user_tz": -180
    },
    "id": "C-xVDslwYKAN",
    "outputId": "6ef2584b-9233-4573-e391-ad92e199cc11"
   },
   "outputs": [
    {
     "data": {
      "text/plain": [
       "tensor([ 1.,  2.,  3., 10., 20., 30.])"
      ]
     },
     "execution_count": 79,
     "metadata": {},
     "output_type": "execute_result"
    }
   ],
   "source": [
    "a[a > b]"
   ]
  },
  {
   "cell_type": "code",
   "execution_count": null,
   "metadata": {
    "colab": {
     "base_uri": "https://localhost:8080/"
    },
    "executionInfo": {
     "elapsed": 474,
     "status": "ok",
     "timestamp": 1634746375052,
     "user": {
      "displayName": "Александр Анатольевич Миленькин",
      "photoUrl": "https://lh3.googleusercontent.com/a-/AOh14Gh1yB_mGyNeEBrnQ_bFdA3CLdWCnTPdtAORppSkYg=s64",
      "userId": "12111341805146772458"
     },
     "user_tz": -180
    },
    "id": "XatDJF5YYKAQ",
    "outputId": "0e4e7c4e-b9be-4363-9425-9092ffa1f873"
   },
   "outputs": [
    {
     "data": {
      "text/plain": [
       "tensor([100., 200., 300.])"
      ]
     },
     "execution_count": 80,
     "metadata": {},
     "output_type": "execute_result"
    }
   ],
   "source": [
    "b[a == b]"
   ]
  },
  {
   "cell_type": "markdown",
   "metadata": {
    "id": "54bQky1bYKAf"
   },
   "source": [
    "### Поэлементное применение **универсальных функций**"
   ]
  },
  {
   "cell_type": "code",
   "execution_count": null,
   "metadata": {
    "id": "lWnGSuUhYKAf"
   },
   "outputs": [],
   "source": [
    "a = torch.FloatTensor([[1, 2, 3], [10, 20, 30], [100, 200, 300]])"
   ]
  },
  {
   "cell_type": "code",
   "execution_count": null,
   "metadata": {
    "colab": {
     "base_uri": "https://localhost:8080/"
    },
    "executionInfo": {
     "elapsed": 624,
     "status": "ok",
     "timestamp": 1634746396688,
     "user": {
      "displayName": "Александр Анатольевич Миленькин",
      "photoUrl": "https://lh3.googleusercontent.com/a-/AOh14Gh1yB_mGyNeEBrnQ_bFdA3CLdWCnTPdtAORppSkYg=s64",
      "userId": "12111341805146772458"
     },
     "user_tz": -180
    },
    "id": "J6ZyxZBNYKAl",
    "outputId": "f907d445-3a9b-4705-da3d-ea977c3a4caa"
   },
   "outputs": [
    {
     "data": {
      "text/plain": [
       "tensor([[ 0.8415,  0.9093,  0.1411],\n",
       "        [-0.5440,  0.9129, -0.9880],\n",
       "        [-0.5064, -0.8733, -0.9998]])"
      ]
     },
     "execution_count": 81,
     "metadata": {},
     "output_type": "execute_result"
    }
   ],
   "source": [
    "a.sin()"
   ]
  },
  {
   "cell_type": "code",
   "execution_count": null,
   "metadata": {
    "colab": {
     "base_uri": "https://localhost:8080/"
    },
    "executionInfo": {
     "elapsed": 391,
     "status": "ok",
     "timestamp": 1634746402161,
     "user": {
      "displayName": "Александр Анатольевич Миленькин",
      "photoUrl": "https://lh3.googleusercontent.com/a-/AOh14Gh1yB_mGyNeEBrnQ_bFdA3CLdWCnTPdtAORppSkYg=s64",
      "userId": "12111341805146772458"
     },
     "user_tz": -180
    },
    "id": "SScTSkJMYKAo",
    "outputId": "1334afb7-570d-4a35-ec5b-164c4ca144f8"
   },
   "outputs": [
    {
     "data": {
      "text/plain": [
       "tensor([[ 0.8415,  0.9093,  0.1411],\n",
       "        [-0.5440,  0.9129, -0.9880],\n",
       "        [-0.5064, -0.8733, -0.9998]])"
      ]
     },
     "execution_count": 82,
     "metadata": {},
     "output_type": "execute_result"
    }
   ],
   "source": [
    "torch.sin(a)"
   ]
  },
  {
   "cell_type": "code",
   "execution_count": null,
   "metadata": {
    "colab": {
     "base_uri": "https://localhost:8080/"
    },
    "executionInfo": {
     "elapsed": 6,
     "status": "ok",
     "timestamp": 1634746404047,
     "user": {
      "displayName": "Александр Анатольевич Миленькин",
      "photoUrl": "https://lh3.googleusercontent.com/a-/AOh14Gh1yB_mGyNeEBrnQ_bFdA3CLdWCnTPdtAORppSkYg=s64",
      "userId": "12111341805146772458"
     },
     "user_tz": -180
    },
    "id": "0bYVYVV7YKAr",
    "outputId": "24b7e541-4040-44c9-a520-77bbe3485388"
   },
   "outputs": [
    {
     "data": {
      "text/plain": [
       "tensor([[ 1.5574, -2.1850, -0.1425],\n",
       "        [ 0.6484,  2.2372, -6.4053],\n",
       "        [-0.5872, -1.7925, 45.2447]])"
      ]
     },
     "execution_count": 83,
     "metadata": {},
     "output_type": "execute_result"
    }
   ],
   "source": [
    "a.tan()"
   ]
  },
  {
   "cell_type": "code",
   "execution_count": null,
   "metadata": {
    "colab": {
     "base_uri": "https://localhost:8080/"
    },
    "executionInfo": {
     "elapsed": 9,
     "status": "ok",
     "timestamp": 1634746405995,
     "user": {
      "displayName": "Александр Анатольевич Миленькин",
      "photoUrl": "https://lh3.googleusercontent.com/a-/AOh14Gh1yB_mGyNeEBrnQ_bFdA3CLdWCnTPdtAORppSkYg=s64",
      "userId": "12111341805146772458"
     },
     "user_tz": -180
    },
    "id": "c-rYL8HQYKAt",
    "outputId": "f44b9173-efbd-4cc1-c68a-80c4151683d8"
   },
   "outputs": [
    {
     "data": {
      "text/plain": [
       "tensor([[2.7183e+00, 7.3891e+00, 2.0086e+01],\n",
       "        [2.2026e+04, 4.8517e+08, 1.0686e+13],\n",
       "        [       inf,        inf,        inf]])"
      ]
     },
     "execution_count": 84,
     "metadata": {},
     "output_type": "execute_result"
    }
   ],
   "source": [
    "a.exp()"
   ]
  },
  {
   "cell_type": "code",
   "execution_count": null,
   "metadata": {
    "colab": {
     "base_uri": "https://localhost:8080/"
    },
    "executionInfo": {
     "elapsed": 8,
     "status": "ok",
     "timestamp": 1634746406468,
     "user": {
      "displayName": "Александр Анатольевич Миленькин",
      "photoUrl": "https://lh3.googleusercontent.com/a-/AOh14Gh1yB_mGyNeEBrnQ_bFdA3CLdWCnTPdtAORppSkYg=s64",
      "userId": "12111341805146772458"
     },
     "user_tz": -180
    },
    "id": "EbiCDYUzYKAw",
    "outputId": "b0a12eb8-24d3-4008-9a87-8c1bc2a37d2f"
   },
   "outputs": [
    {
     "data": {
      "text/plain": [
       "tensor([[0.0000, 0.6931, 1.0986],\n",
       "        [2.3026, 2.9957, 3.4012],\n",
       "        [4.6052, 5.2983, 5.7038]])"
      ]
     },
     "execution_count": 85,
     "metadata": {},
     "output_type": "execute_result"
    }
   ],
   "source": [
    "a.log()"
   ]
  },
  {
   "cell_type": "code",
   "execution_count": null,
   "metadata": {
    "colab": {
     "base_uri": "https://localhost:8080/"
    },
    "executionInfo": {
     "elapsed": 387,
     "status": "ok",
     "timestamp": 1634746414880,
     "user": {
      "displayName": "Александр Анатольевич Миленькин",
      "photoUrl": "https://lh3.googleusercontent.com/a-/AOh14Gh1yB_mGyNeEBrnQ_bFdA3CLdWCnTPdtAORppSkYg=s64",
      "userId": "12111341805146772458"
     },
     "user_tz": -180
    },
    "id": "yh1sySpiYKAy",
    "outputId": "71f5fc95-c70b-4037-cfb6-3ecc3d262d03"
   },
   "outputs": [
    {
     "data": {
      "text/plain": [
       "tensor([[  -1.,   -2.,   -3.],\n",
       "        [ -10.,  -20.,  -30.],\n",
       "        [-100., -200., -300.]])"
      ]
     },
     "execution_count": 86,
     "metadata": {},
     "output_type": "execute_result"
    }
   ],
   "source": [
    "b = -a\n",
    "b"
   ]
  },
  {
   "cell_type": "code",
   "execution_count": null,
   "metadata": {
    "colab": {
     "base_uri": "https://localhost:8080/"
    },
    "executionInfo": {
     "elapsed": 4,
     "status": "ok",
     "timestamp": 1634746415295,
     "user": {
      "displayName": "Александр Анатольевич Миленькин",
      "photoUrl": "https://lh3.googleusercontent.com/a-/AOh14Gh1yB_mGyNeEBrnQ_bFdA3CLdWCnTPdtAORppSkYg=s64",
      "userId": "12111341805146772458"
     },
     "user_tz": -180
    },
    "id": "PNU0UxqIYKA2",
    "outputId": "17008632-fa44-448a-cc87-fe7b1373d05a"
   },
   "outputs": [
    {
     "data": {
      "text/plain": [
       "tensor([[  1.,   2.,   3.],\n",
       "        [ 10.,  20.,  30.],\n",
       "        [100., 200., 300.]])"
      ]
     },
     "execution_count": 87,
     "metadata": {},
     "output_type": "execute_result"
    }
   ],
   "source": [
    "b.abs()"
   ]
  },
  {
   "cell_type": "markdown",
   "metadata": {
    "id": "eqERQjISYKA9"
   },
   "source": [
    "### Агрегация и работа с осями\n",
    "#### sum, mean, max, min:"
   ]
  },
  {
   "cell_type": "code",
   "execution_count": null,
   "metadata": {
    "colab": {
     "base_uri": "https://localhost:8080/"
    },
    "executionInfo": {
     "elapsed": 416,
     "status": "ok",
     "timestamp": 1634746434690,
     "user": {
      "displayName": "Александр Анатольевич Миленькин",
      "photoUrl": "https://lh3.googleusercontent.com/a-/AOh14Gh1yB_mGyNeEBrnQ_bFdA3CLdWCnTPdtAORppSkYg=s64",
      "userId": "12111341805146772458"
     },
     "user_tz": -180
    },
    "id": "HLmJGdl9YKA-",
    "outputId": "a6204bea-32bb-447d-cf8c-7574ebb164ec"
   },
   "outputs": [
    {
     "data": {
      "text/plain": [
       "tensor([  6.,  60., 600.])"
      ]
     },
     "execution_count": 88,
     "metadata": {},
     "output_type": "execute_result"
    }
   ],
   "source": [
    "a.sum(dim=1)"
   ]
  },
  {
   "cell_type": "code",
   "execution_count": null,
   "metadata": {
    "colab": {
     "base_uri": "https://localhost:8080/"
    },
    "executionInfo": {
     "elapsed": 851,
     "status": "ok",
     "timestamp": 1634746443510,
     "user": {
      "displayName": "Александр Анатольевич Миленькин",
      "photoUrl": "https://lh3.googleusercontent.com/a-/AOh14Gh1yB_mGyNeEBrnQ_bFdA3CLdWCnTPdtAORppSkYg=s64",
      "userId": "12111341805146772458"
     },
     "user_tz": -180
    },
    "id": "ervIuNGnYKBD",
    "outputId": "ff444bc6-c56e-43eb-9ea1-d4551194e16a"
   },
   "outputs": [
    {
     "data": {
      "text/plain": [
       "tensor(74.)"
      ]
     },
     "execution_count": 89,
     "metadata": {},
     "output_type": "execute_result"
    }
   ],
   "source": [
    "a.mean()"
   ]
  },
  {
   "cell_type": "markdown",
   "metadata": {
    "id": "1qxkdUQ2YKBF"
   },
   "source": [
    "#### Применение функции вдоль оси"
   ]
  },
  {
   "cell_type": "code",
   "execution_count": null,
   "metadata": {
    "colab": {
     "base_uri": "https://localhost:8080/"
    },
    "executionInfo": {
     "elapsed": 441,
     "status": "ok",
     "timestamp": 1634746452721,
     "user": {
      "displayName": "Александр Анатольевич Миленькин",
      "photoUrl": "https://lh3.googleusercontent.com/a-/AOh14Gh1yB_mGyNeEBrnQ_bFdA3CLdWCnTPdtAORppSkYg=s64",
      "userId": "12111341805146772458"
     },
     "user_tz": -180
    },
    "id": "OzU2H7jBbdS-",
    "outputId": "a701fb53-3b9b-435c-cb17-620c69315d7c"
   },
   "outputs": [
    {
     "data": {
      "text/plain": [
       "tensor([[  1.,   2.,   3.],\n",
       "        [ 10.,  20.,  30.],\n",
       "        [100., 200., 300.]])"
      ]
     },
     "execution_count": 90,
     "metadata": {},
     "output_type": "execute_result"
    }
   ],
   "source": [
    "a"
   ]
  },
  {
   "cell_type": "code",
   "execution_count": null,
   "metadata": {
    "colab": {
     "base_uri": "https://localhost:8080/"
    },
    "executionInfo": {
     "elapsed": 10,
     "status": "ok",
     "timestamp": 1634746455145,
     "user": {
      "displayName": "Александр Анатольевич Миленькин",
      "photoUrl": "https://lh3.googleusercontent.com/a-/AOh14Gh1yB_mGyNeEBrnQ_bFdA3CLdWCnTPdtAORppSkYg=s64",
      "userId": "12111341805146772458"
     },
     "user_tz": -180
    },
    "id": "cc6RjJYeYKBG",
    "outputId": "78e942a6-5820-4fde-88d2-d5e1ce0665c9"
   },
   "outputs": [
    {
     "data": {
      "text/plain": [
       "tensor([111., 222., 333.])"
      ]
     },
     "execution_count": 91,
     "metadata": {},
     "output_type": "execute_result"
    }
   ],
   "source": [
    "a.sum(dim=0)"
   ]
  },
  {
   "cell_type": "code",
   "execution_count": null,
   "metadata": {
    "colab": {
     "base_uri": "https://localhost:8080/"
    },
    "executionInfo": {
     "elapsed": 8,
     "status": "ok",
     "timestamp": 1634746455590,
     "user": {
      "displayName": "Александр Анатольевич Миленькин",
      "photoUrl": "https://lh3.googleusercontent.com/a-/AOh14Gh1yB_mGyNeEBrnQ_bFdA3CLdWCnTPdtAORppSkYg=s64",
      "userId": "12111341805146772458"
     },
     "user_tz": -180
    },
    "id": "Dgi5BmhOYKBJ",
    "outputId": "a6e73d38-78bc-42d2-da86-bccd3f9bb772"
   },
   "outputs": [
    {
     "data": {
      "text/plain": [
       "tensor([  6.,  60., 600.])"
      ]
     },
     "execution_count": 92,
     "metadata": {},
     "output_type": "execute_result"
    }
   ],
   "source": [
    "a.sum(dim=1)"
   ]
  },
  {
   "cell_type": "code",
   "execution_count": null,
   "metadata": {
    "colab": {
     "base_uri": "https://localhost:8080/"
    },
    "executionInfo": {
     "elapsed": 10,
     "status": "ok",
     "timestamp": 1634746456110,
     "user": {
      "displayName": "Александр Анатольевич Миленькин",
      "photoUrl": "https://lh3.googleusercontent.com/a-/AOh14Gh1yB_mGyNeEBrnQ_bFdA3CLdWCnTPdtAORppSkYg=s64",
      "userId": "12111341805146772458"
     },
     "user_tz": -180
    },
    "id": "-tIkcTENYKBK",
    "outputId": "bd0f3557-ca04-4c9d-94f5-1c01947f4432"
   },
   "outputs": [
    {
     "data": {
      "text/plain": [
       "tensor(300.)"
      ]
     },
     "execution_count": 93,
     "metadata": {},
     "output_type": "execute_result"
    }
   ],
   "source": [
    "a.max()"
   ]
  },
  {
   "cell_type": "code",
   "execution_count": null,
   "metadata": {
    "colab": {
     "base_uri": "https://localhost:8080/"
    },
    "executionInfo": {
     "elapsed": 6,
     "status": "ok",
     "timestamp": 1634746456934,
     "user": {
      "displayName": "Александр Анатольевич Миленькин",
      "photoUrl": "https://lh3.googleusercontent.com/a-/AOh14Gh1yB_mGyNeEBrnQ_bFdA3CLdWCnTPdtAORppSkYg=s64",
      "userId": "12111341805146772458"
     },
     "user_tz": -180
    },
    "id": "V4U_LyyPYKBL",
    "outputId": "b3e7f4e1-2ade-4d73-f3f5-16a9e1af266b"
   },
   "outputs": [
    {
     "data": {
      "text/plain": [
       "torch.return_types.max(values=tensor([100., 200., 300.]), indices=tensor([2, 2, 2]))"
      ]
     },
     "execution_count": 94,
     "metadata": {},
     "output_type": "execute_result"
    }
   ],
   "source": [
    "a.max(0)"
   ]
  },
  {
   "cell_type": "markdown",
   "metadata": {
    "id": "Ys-9hnr4YKBS"
   },
   "source": [
    "**Примечание:** второй тензор, возвращаемый `.max()`, содержит индексы элементов max вдоль этой оси. Например. в этом случае `a.max ()` вернула `(100, 200, 300)`, которые являются минимальными элементами по оси 0 (вдоль столбцов), а их индексы по оси 0 равны `(2, 2, 2)`.\n"
   ]
  },
  {
   "cell_type": "markdown",
   "metadata": {
    "id": "utha2fm_zdmx"
   },
   "source": [
    "#### Фиктивные оси\n",
    "\n",
    "Иногда очень сложно бывает разобраться, как правильно выбрать оси для применения операций с многомерными массивами. Поэтому сейчас мы решим на эту тему пару задач.\n",
    "Сначала посмотрим, как создавать у массивов новые фиктивные оси, это нам пригодится."
   ]
  },
  {
   "cell_type": "code",
   "execution_count": null,
   "metadata": {
    "colab": {
     "base_uri": "https://localhost:8080/"
    },
    "executionInfo": {
     "elapsed": 417,
     "status": "ok",
     "timestamp": 1634746522606,
     "user": {
      "displayName": "Александр Анатольевич Миленькин",
      "photoUrl": "https://lh3.googleusercontent.com/a-/AOh14Gh1yB_mGyNeEBrnQ_bFdA3CLdWCnTPdtAORppSkYg=s64",
      "userId": "12111341805146772458"
     },
     "user_tz": -180
    },
    "id": "0E6stC7-0J1r",
    "outputId": "cf60029f-10ab-48b3-9471-8bf54187c7e0"
   },
   "outputs": [
    {
     "data": {
      "text/plain": [
       "torch.Size([3, 1, 3])"
      ]
     },
     "execution_count": 95,
     "metadata": {},
     "output_type": "execute_result"
    }
   ],
   "source": [
    "a = torch.FloatTensor([[1, 2, 3], [10, 20, 30], [100, 200, 300]])\n",
    "\n",
    "a[:, None, :].shape"
   ]
  },
  {
   "cell_type": "code",
   "execution_count": null,
   "metadata": {
    "colab": {
     "base_uri": "https://localhost:8080/"
    },
    "executionInfo": {
     "elapsed": 982,
     "status": "ok",
     "timestamp": 1634746633084,
     "user": {
      "displayName": "Александр Анатольевич Миленькин",
      "photoUrl": "https://lh3.googleusercontent.com/a-/AOh14Gh1yB_mGyNeEBrnQ_bFdA3CLdWCnTPdtAORppSkYg=s64",
      "userId": "12111341805146772458"
     },
     "user_tz": -180
    },
    "id": "FgfUrKpk0fLg",
    "outputId": "07a3b509-2385-4e86-b91e-1451349258f2"
   },
   "outputs": [
    {
     "data": {
      "text/plain": [
       "tensor([[[  1.],\n",
       "         [  2.],\n",
       "         [  3.]],\n",
       "\n",
       "        [[ 10.],\n",
       "         [ 20.],\n",
       "         [ 30.]],\n",
       "\n",
       "        [[100.],\n",
       "         [200.],\n",
       "         [300.]]])"
      ]
     },
     "execution_count": 98,
     "metadata": {},
     "output_type": "execute_result"
    }
   ],
   "source": [
    "a[:, :, None]"
   ]
  },
  {
   "cell_type": "markdown",
   "metadata": {
    "id": "vwF56ibrw1Hz"
   },
   "source": [
    "#### Безобидная задача на кумулятивные суммы\n",
    "Дана матрица $M \\times N$. Напишите функцию, которая возвращает вектор средних значений по вертикали. \n",
    "\n"
   ]
  },
  {
   "cell_type": "code",
   "execution_count": null,
   "metadata": {
    "colab": {
     "base_uri": "https://localhost:8080/"
    },
    "executionInfo": {
     "elapsed": 676,
     "status": "ok",
     "timestamp": 1634746904961,
     "user": {
      "displayName": "Александр Анатольевич Миленькин",
      "photoUrl": "https://lh3.googleusercontent.com/a-/AOh14Gh1yB_mGyNeEBrnQ_bFdA3CLdWCnTPdtAORppSkYg=s64",
      "userId": "12111341805146772458"
     },
     "user_tz": -180
    },
    "id": "29X7MxuqxwIU",
    "outputId": "d0e18dc4-f286-427e-f525-15df0998cbfd"
   },
   "outputs": [
    {
     "data": {
      "text/plain": [
       "tensor([1.5000, 5.5000])"
      ]
     },
     "execution_count": 102,
     "metadata": {},
     "output_type": "execute_result"
    }
   ],
   "source": [
    "def vertical_means(A):\n",
    "    \"\"\"\n",
    "    param A: torch.tensor[m,n]\n",
    "    \"\"\"\n",
    "\n",
    "    result = A.mean(dim=0)\n",
    "\n",
    "    return result # <YOUR CODE>\n",
    "\n",
    "A = torch.FloatTensor([[1, 4], \n",
    "                       [2, 7]] )\n",
    "\n",
    "vertical_means(A)"
   ]
  },
  {
   "cell_type": "markdown",
   "metadata": {
    "id": "T6YOmemux0SI"
   },
   "source": [
    "**Проблемы:**\n",
    "\n",
    "* Что такое вертикальная ось? \n",
    "* По какой оси необходимо суммировать?\n",
    "* Как не ошибиться?\n",
    "\n",
    "**Ответ:** Операции всегда производятся по той оси, которая **исчезнет** после применения операции."
   ]
  },
  {
   "cell_type": "markdown",
   "metadata": {
    "id": "5YEpNZ3YyKzi"
   },
   "source": [
    "#### Задача на нормализацию изображения\n",
    "Реализуйте функцию ``normalize_pictures(A)``, которая принимает на вход четырёхмерный тензор --- батч из ``batch_size`` изображений, каждое из которых является трехмерным тензором формы (num_channels, width, height). Нужно стандартизировать изображение по каждому каналу, то есть сделать так, чтобы среднее значение яркости каждого канала (по всем изображениям и всем пикселям) было равно 0, а стандартное отклонение --- 1."
   ]
  },
  {
   "cell_type": "code",
   "execution_count": null,
   "metadata": {
    "id": "jNGjlcaVy3WT"
   },
   "outputs": [],
   "source": [
    "def normalize_pictures(A):\n",
    "    \"\"\"\n",
    "    param A: torch.Tensor[batch_size, num_channels, width, height]\n",
    "    \"\"\"\n",
    "\n",
    "    m = A.mean(dim=(2,3))\n",
    "    sigma = A.std(dim =(2, 3))\n",
    "\n",
    "    result = (A - m[:, :, None, None])/sigma[:, :, None, None]\n",
    "\n",
    "\n",
    "    return result"
   ]
  },
  {
   "cell_type": "code",
   "execution_count": null,
   "metadata": {
    "colab": {
     "base_uri": "https://localhost:8080/"
    },
    "executionInfo": {
     "elapsed": 11,
     "status": "ok",
     "timestamp": 1634747198671,
     "user": {
      "displayName": "Александр Анатольевич Миленькин",
      "photoUrl": "https://lh3.googleusercontent.com/a-/AOh14Gh1yB_mGyNeEBrnQ_bFdA3CLdWCnTPdtAORppSkYg=s64",
      "userId": "12111341805146772458"
     },
     "user_tz": -180
    },
    "id": "ZFUY4oookJ9i",
    "outputId": "f2b57073-9eca-438b-e773-a7abc258de12"
   },
   "outputs": [
    {
     "data": {
      "text/plain": [
       "torch.Size([64, 3])"
      ]
     },
     "execution_count": 106,
     "metadata": {},
     "output_type": "execute_result"
    }
   ],
   "source": [
    "batch = torch.randint(0, 156, (64, 3, 300, 300), dtype=torch.float32)\n",
    "batch.mean(dim=(2,3)).shape"
   ]
  },
  {
   "cell_type": "code",
   "execution_count": null,
   "metadata": {
    "id": "OttmzUHWzOiA"
   },
   "outputs": [],
   "source": [
    "batch = torch.randint(0, 256, (64, 3, 300, 300), dtype=torch.float32)\n",
    "\n",
    "B = normalize_pictures(batch)\n",
    "# print(B.mean(dim=(2,3)).shape)\n",
    "# print(B.std(dim=(2,3)))"
   ]
  },
  {
   "cell_type": "code",
   "execution_count": null,
   "metadata": {
    "id": "qdubz4LkkCuW"
   },
   "outputs": [],
   "source": []
  },
  {
   "cell_type": "markdown",
   "metadata": {
    "id": "kepFeTZ0YKBV"
   },
   "source": [
    "## Матричные операции"
   ]
  },
  {
   "cell_type": "markdown",
   "metadata": {
    "id": "7RYm3mdrYKBX"
   },
   "source": [
    "#### Транспонирование тензора"
   ]
  },
  {
   "cell_type": "code",
   "execution_count": null,
   "metadata": {
    "colab": {
     "base_uri": "https://localhost:8080/"
    },
    "executionInfo": {
     "elapsed": 442,
     "status": "ok",
     "timestamp": 1634747278434,
     "user": {
      "displayName": "Александр Анатольевич Миленькин",
      "photoUrl": "https://lh3.googleusercontent.com/a-/AOh14Gh1yB_mGyNeEBrnQ_bFdA3CLdWCnTPdtAORppSkYg=s64",
      "userId": "12111341805146772458"
     },
     "user_tz": -180
    },
    "id": "T8-1TSkeYKBY",
    "outputId": "aca565b2-ea0c-4909-964a-05cc5a3e6f68"
   },
   "outputs": [
    {
     "data": {
      "text/plain": [
       "tensor([[  1.,   2.,   3.],\n",
       "        [ 10.,  20.,  30.],\n",
       "        [100., 200., 300.]])"
      ]
     },
     "execution_count": 112,
     "metadata": {},
     "output_type": "execute_result"
    }
   ],
   "source": [
    "a = torch.FloatTensor([[1, 2, 3], [10, 20, 30], [100, 200, 300]])\n",
    "a"
   ]
  },
  {
   "cell_type": "code",
   "execution_count": null,
   "metadata": {
    "colab": {
     "base_uri": "https://localhost:8080/"
    },
    "executionInfo": {
     "elapsed": 8,
     "status": "ok",
     "timestamp": 1634747280280,
     "user": {
      "displayName": "Александр Анатольевич Миленькин",
      "photoUrl": "https://lh3.googleusercontent.com/a-/AOh14Gh1yB_mGyNeEBrnQ_bFdA3CLdWCnTPdtAORppSkYg=s64",
      "userId": "12111341805146772458"
     },
     "user_tz": -180
    },
    "id": "HSAZwai7YKBa",
    "outputId": "6506227d-85fc-4b22-e1a9-8b212c742d2b"
   },
   "outputs": [
    {
     "data": {
      "text/plain": [
       "tensor([[  1.,  10., 100.],\n",
       "        [  2.,  20., 200.],\n",
       "        [  3.,  30., 300.]])"
      ]
     },
     "execution_count": 113,
     "metadata": {},
     "output_type": "execute_result"
    }
   ],
   "source": [
    "a.t()"
   ]
  },
  {
   "cell_type": "markdown",
   "metadata": {
    "id": "QqsPkleRYKBd"
   },
   "source": [
    "Это тоже не inplace-операция:"
   ]
  },
  {
   "cell_type": "code",
   "execution_count": null,
   "metadata": {
    "colab": {
     "base_uri": "https://localhost:8080/"
    },
    "executionInfo": {
     "elapsed": 652,
     "status": "ok",
     "timestamp": 1634747314054,
     "user": {
      "displayName": "Александр Анатольевич Миленькин",
      "photoUrl": "https://lh3.googleusercontent.com/a-/AOh14Gh1yB_mGyNeEBrnQ_bFdA3CLdWCnTPdtAORppSkYg=s64",
      "userId": "12111341805146772458"
     },
     "user_tz": -180
    },
    "id": "NRPamd2EYKBe",
    "outputId": "6a8d5de2-9753-4b25-a31d-7f3910a235fe"
   },
   "outputs": [
    {
     "data": {
      "text/plain": [
       "tensor([[  1.,   2.,   3.],\n",
       "        [ 10.,  20.,  30.],\n",
       "        [100., 200., 300.]])"
      ]
     },
     "execution_count": 114,
     "metadata": {},
     "output_type": "execute_result"
    }
   ],
   "source": [
    "a"
   ]
  },
  {
   "cell_type": "markdown",
   "metadata": {
    "id": "q8YhoxHPYKBh"
   },
   "source": [
    "#### Скалярное произведение векторов"
   ]
  },
  {
   "cell_type": "code",
   "execution_count": null,
   "metadata": {
    "id": "i1pRtl7HYKBi"
   },
   "outputs": [],
   "source": [
    "a = torch.FloatTensor([1, 2, 3, 4, 5, 6])\n",
    "b = torch.FloatTensor([-1, -2, -4, -6, -8, -10])"
   ]
  },
  {
   "cell_type": "code",
   "execution_count": null,
   "metadata": {
    "colab": {
     "base_uri": "https://localhost:8080/"
    },
    "executionInfo": {
     "elapsed": 7,
     "status": "ok",
     "timestamp": 1634747328572,
     "user": {
      "displayName": "Александр Анатольевич Миленькин",
      "photoUrl": "https://lh3.googleusercontent.com/a-/AOh14Gh1yB_mGyNeEBrnQ_bFdA3CLdWCnTPdtAORppSkYg=s64",
      "userId": "12111341805146772458"
     },
     "user_tz": -180
    },
    "id": "qcS-28dwYKBp",
    "outputId": "9846a5f9-d2bf-4b3f-caf0-056fc0109ee8"
   },
   "outputs": [
    {
     "data": {
      "text/plain": [
       "tensor(-141.)"
      ]
     },
     "execution_count": 116,
     "metadata": {},
     "output_type": "execute_result"
    }
   ],
   "source": [
    "a.dot(b)"
   ]
  },
  {
   "cell_type": "code",
   "execution_count": null,
   "metadata": {
    "colab": {
     "base_uri": "https://localhost:8080/"
    },
    "executionInfo": {
     "elapsed": 7,
     "status": "ok",
     "timestamp": 1634747331486,
     "user": {
      "displayName": "Александр Анатольевич Миленькин",
      "photoUrl": "https://lh3.googleusercontent.com/a-/AOh14Gh1yB_mGyNeEBrnQ_bFdA3CLdWCnTPdtAORppSkYg=s64",
      "userId": "12111341805146772458"
     },
     "user_tz": -180
    },
    "id": "sBiRR1V3LP-r",
    "outputId": "b8b20971-79bb-4da6-b008-5e1a4a387b18"
   },
   "outputs": [
    {
     "data": {
      "text/plain": [
       "(torch.Size([6]), torch.Size([6]))"
      ]
     },
     "execution_count": 117,
     "metadata": {},
     "output_type": "execute_result"
    }
   ],
   "source": [
    "a.shape, b.shape"
   ]
  },
  {
   "cell_type": "code",
   "execution_count": null,
   "metadata": {
    "colab": {
     "base_uri": "https://localhost:8080/"
    },
    "executionInfo": {
     "elapsed": 7,
     "status": "ok",
     "timestamp": 1634747345314,
     "user": {
      "displayName": "Александр Анатольевич Миленькин",
      "photoUrl": "https://lh3.googleusercontent.com/a-/AOh14Gh1yB_mGyNeEBrnQ_bFdA3CLdWCnTPdtAORppSkYg=s64",
      "userId": "12111341805146772458"
     },
     "user_tz": -180
    },
    "id": "MXyhOelQYKBs",
    "outputId": "4f92a038-5f36-43e2-a4be-a50d321e1fdb"
   },
   "outputs": [
    {
     "data": {
      "text/plain": [
       "tensor(-141.)"
      ]
     },
     "execution_count": 118,
     "metadata": {},
     "output_type": "execute_result"
    }
   ],
   "source": [
    "a @ b"
   ]
  },
  {
   "cell_type": "code",
   "execution_count": null,
   "metadata": {
    "colab": {
     "base_uri": "https://localhost:8080/"
    },
    "executionInfo": {
     "elapsed": 621,
     "status": "ok",
     "timestamp": 1634747356649,
     "user": {
      "displayName": "Александр Анатольевич Миленькин",
      "photoUrl": "https://lh3.googleusercontent.com/a-/AOh14Gh1yB_mGyNeEBrnQ_bFdA3CLdWCnTPdtAORppSkYg=s64",
      "userId": "12111341805146772458"
     },
     "user_tz": -180
    },
    "id": "sxqg4xhoYKBt",
    "outputId": "cb1e601e-ecea-42f3-bf10-e12babfe57af"
   },
   "outputs": [
    {
     "data": {
      "text/plain": [
       "torch.Tensor"
      ]
     },
     "execution_count": 119,
     "metadata": {},
     "output_type": "execute_result"
    }
   ],
   "source": [
    "type(a)"
   ]
  },
  {
   "cell_type": "code",
   "execution_count": null,
   "metadata": {
    "colab": {
     "base_uri": "https://localhost:8080/"
    },
    "executionInfo": {
     "elapsed": 6,
     "status": "ok",
     "timestamp": 1634747357122,
     "user": {
      "displayName": "Александр Анатольевич Миленькин",
      "photoUrl": "https://lh3.googleusercontent.com/a-/AOh14Gh1yB_mGyNeEBrnQ_bFdA3CLdWCnTPdtAORppSkYg=s64",
      "userId": "12111341805146772458"
     },
     "user_tz": -180
    },
    "id": "_v2ZjPqDYKBz",
    "outputId": "d524bb4f-caf7-4e39-d681-9850f9fe63ec"
   },
   "outputs": [
    {
     "data": {
      "text/plain": [
       "torch.Tensor"
      ]
     },
     "execution_count": 120,
     "metadata": {},
     "output_type": "execute_result"
    }
   ],
   "source": [
    "type(b)"
   ]
  },
  {
   "cell_type": "code",
   "execution_count": null,
   "metadata": {
    "colab": {
     "base_uri": "https://localhost:8080/"
    },
    "executionInfo": {
     "elapsed": 5,
     "status": "ok",
     "timestamp": 1634747357810,
     "user": {
      "displayName": "Александр Анатольевич Миленькин",
      "photoUrl": "https://lh3.googleusercontent.com/a-/AOh14Gh1yB_mGyNeEBrnQ_bFdA3CLdWCnTPdtAORppSkYg=s64",
      "userId": "12111341805146772458"
     },
     "user_tz": -180
    },
    "id": "UsWB9vTuYKB0",
    "outputId": "37980664-95ee-4852-da62-5ca6772548a0"
   },
   "outputs": [
    {
     "data": {
      "text/plain": [
       "torch.Tensor"
      ]
     },
     "execution_count": 121,
     "metadata": {},
     "output_type": "execute_result"
    }
   ],
   "source": [
    "type(a @ b)"
   ]
  },
  {
   "cell_type": "markdown",
   "metadata": {
    "id": "KSrnLwkGYKB1"
   },
   "source": [
    "#### Матричное произведение"
   ]
  },
  {
   "cell_type": "code",
   "execution_count": null,
   "metadata": {
    "id": "ViurnbjPYKB2"
   },
   "outputs": [],
   "source": [
    "a = torch.FloatTensor([[1, 2, 3], [10, 20, 30], [100, 200, 300]])\n",
    "b = torch.FloatTensor([[-1, -2, -3], [-10, -20, -30], [100, 200, 300]])"
   ]
  },
  {
   "cell_type": "code",
   "execution_count": null,
   "metadata": {
    "colab": {
     "base_uri": "https://localhost:8080/"
    },
    "executionInfo": {
     "elapsed": 233,
     "status": "ok",
     "timestamp": 1634649390097,
     "user": {
      "displayName": "Александр Анатольевич Миленькин",
      "photoUrl": "https://lh3.googleusercontent.com/a-/AOh14Gh1yB_mGyNeEBrnQ_bFdA3CLdWCnTPdtAORppSkYg=s64",
      "userId": "12111341805146772458"
     },
     "user_tz": -180
    },
    "id": "5TrCnfWiYKB3",
    "outputId": "9d920c83-cd01-4207-ea73-3373efed9e9f"
   },
   "outputs": [
    {
     "data": {
      "text/plain": [
       "tensor([[  279.,   558.,   837.],\n",
       "        [ 2790.,  5580.,  8370.],\n",
       "        [27900., 55800., 83700.]])"
      ]
     },
     "execution_count": 111,
     "metadata": {},
     "output_type": "execute_result"
    }
   ],
   "source": [
    "a.mm(b)"
   ]
  },
  {
   "cell_type": "code",
   "execution_count": null,
   "metadata": {
    "colab": {
     "base_uri": "https://localhost:8080/"
    },
    "executionInfo": {
     "elapsed": 452,
     "status": "ok",
     "timestamp": 1634747385383,
     "user": {
      "displayName": "Александр Анатольевич Миленькин",
      "photoUrl": "https://lh3.googleusercontent.com/a-/AOh14Gh1yB_mGyNeEBrnQ_bFdA3CLdWCnTPdtAORppSkYg=s64",
      "userId": "12111341805146772458"
     },
     "user_tz": -180
    },
    "id": "HMzIz-_MYKB4",
    "outputId": "1f41001d-524f-43fe-ce7f-e602d5f54c3c"
   },
   "outputs": [
    {
     "data": {
      "text/plain": [
       "tensor([[  279.,   558.,   837.],\n",
       "        [ 2790.,  5580.,  8370.],\n",
       "        [27900., 55800., 83700.]])"
      ]
     },
     "execution_count": 123,
     "metadata": {},
     "output_type": "execute_result"
    }
   ],
   "source": [
    "a @ b"
   ]
  },
  {
   "cell_type": "code",
   "execution_count": null,
   "metadata": {
    "id": "vtuvt20-YKB8"
   },
   "outputs": [],
   "source": [
    "a = torch.FloatTensor([[1, 2, 3], [10, 20, 30], [100, 200, 300]])\n",
    "b = torch.FloatTensor([[-1], [-10], [100]])"
   ]
  },
  {
   "cell_type": "code",
   "execution_count": null,
   "metadata": {
    "colab": {
     "base_uri": "https://localhost:8080/"
    },
    "executionInfo": {
     "elapsed": 10,
     "status": "ok",
     "timestamp": 1634747390983,
     "user": {
      "displayName": "Александр Анатольевич Миленькин",
      "photoUrl": "https://lh3.googleusercontent.com/a-/AOh14Gh1yB_mGyNeEBrnQ_bFdA3CLdWCnTPdtAORppSkYg=s64",
      "userId": "12111341805146772458"
     },
     "user_tz": -180
    },
    "id": "fdDnu5XjYKB9",
    "outputId": "1a6c1ff2-a2e3-4f3f-8bd4-f644b9f82c97"
   },
   "outputs": [
    {
     "name": "stdout",
     "output_type": "stream",
     "text": [
      "torch.Size([3, 3]) torch.Size([3, 1])\n"
     ]
    }
   ],
   "source": [
    "print(a.shape, b.shape)"
   ]
  },
  {
   "cell_type": "code",
   "execution_count": null,
   "metadata": {
    "colab": {
     "base_uri": "https://localhost:8080/"
    },
    "executionInfo": {
     "elapsed": 325,
     "status": "ok",
     "timestamp": 1634649395601,
     "user": {
      "displayName": "Александр Анатольевич Миленькин",
      "photoUrl": "https://lh3.googleusercontent.com/a-/AOh14Gh1yB_mGyNeEBrnQ_bFdA3CLdWCnTPdtAORppSkYg=s64",
      "userId": "12111341805146772458"
     },
     "user_tz": -180
    },
    "id": "oD4N4WN8YKB_",
    "outputId": "595cf2fb-820f-4029-fbc7-e21fc140ba9f"
   },
   "outputs": [
    {
     "data": {
      "text/plain": [
       "tensor([[  279.],\n",
       "        [ 2790.],\n",
       "        [27900.]])"
      ]
     },
     "execution_count": 115,
     "metadata": {},
     "output_type": "execute_result"
    }
   ],
   "source": [
    "a @ b"
   ]
  },
  {
   "cell_type": "markdown",
   "metadata": {
    "id": "va9w-BavYKCB"
   },
   "source": [
    "Тензор `b` можно развернуть в одномерный массив с помощью функции `torch.view(-1)`, чтобы результат был вектором"
   ]
  },
  {
   "cell_type": "code",
   "execution_count": null,
   "metadata": {
    "colab": {
     "base_uri": "https://localhost:8080/"
    },
    "executionInfo": {
     "elapsed": 971,
     "status": "ok",
     "timestamp": 1634747397546,
     "user": {
      "displayName": "Александр Анатольевич Миленькин",
      "photoUrl": "https://lh3.googleusercontent.com/a-/AOh14Gh1yB_mGyNeEBrnQ_bFdA3CLdWCnTPdtAORppSkYg=s64",
      "userId": "12111341805146772458"
     },
     "user_tz": -180
    },
    "id": "V7KsdYcBYKCC",
    "outputId": "3fd989f8-2b94-4082-af61-e1030a8ca47f"
   },
   "outputs": [
    {
     "data": {
      "text/plain": [
       "tensor([[ -1.],\n",
       "        [-10.],\n",
       "        [100.]])"
      ]
     },
     "execution_count": 126,
     "metadata": {},
     "output_type": "execute_result"
    }
   ],
   "source": [
    "b"
   ]
  },
  {
   "cell_type": "code",
   "execution_count": null,
   "metadata": {
    "colab": {
     "base_uri": "https://localhost:8080/"
    },
    "executionInfo": {
     "elapsed": 5,
     "status": "ok",
     "timestamp": 1634747397972,
     "user": {
      "displayName": "Александр Анатольевич Миленькин",
      "photoUrl": "https://lh3.googleusercontent.com/a-/AOh14Gh1yB_mGyNeEBrnQ_bFdA3CLdWCnTPdtAORppSkYg=s64",
      "userId": "12111341805146772458"
     },
     "user_tz": -180
    },
    "id": "t7k6spayYKCF",
    "outputId": "d3d8ed57-ab88-4b71-a28c-2d1b22e0b7e6"
   },
   "outputs": [
    {
     "data": {
      "text/plain": [
       "tensor([ -1., -10., 100.])"
      ]
     },
     "execution_count": 127,
     "metadata": {},
     "output_type": "execute_result"
    }
   ],
   "source": [
    "b.view(-1)"
   ]
  },
  {
   "cell_type": "code",
   "execution_count": null,
   "metadata": {
    "colab": {
     "base_uri": "https://localhost:8080/"
    },
    "executionInfo": {
     "elapsed": 5,
     "status": "ok",
     "timestamp": 1634747398354,
     "user": {
      "displayName": "Александр Анатольевич Миленькин",
      "photoUrl": "https://lh3.googleusercontent.com/a-/AOh14Gh1yB_mGyNeEBrnQ_bFdA3CLdWCnTPdtAORppSkYg=s64",
      "userId": "12111341805146772458"
     },
     "user_tz": -180
    },
    "id": "8u8xQ20bYKCH",
    "outputId": "c5b424dc-6824-46d9-d356-251cf6926933"
   },
   "outputs": [
    {
     "data": {
      "text/plain": [
       "tensor([  279.,  2790., 27900.])"
      ]
     },
     "execution_count": 128,
     "metadata": {},
     "output_type": "execute_result"
    }
   ],
   "source": [
    "a @ b.view(-1)"
   ]
  },
  {
   "cell_type": "code",
   "execution_count": null,
   "metadata": {
    "colab": {
     "base_uri": "https://localhost:8080/"
    },
    "executionInfo": {
     "elapsed": 238,
     "status": "ok",
     "timestamp": 1634649407216,
     "user": {
      "displayName": "Александр Анатольевич Миленькин",
      "photoUrl": "https://lh3.googleusercontent.com/a-/AOh14Gh1yB_mGyNeEBrnQ_bFdA3CLdWCnTPdtAORppSkYg=s64",
      "userId": "12111341805146772458"
     },
     "user_tz": -180
    },
    "id": "QvCu1sJEYKCJ",
    "outputId": "7dac2139-3516-4680-c588-3391fd199703"
   },
   "outputs": [
    {
     "data": {
      "text/plain": [
       "tensor([  279.,  2790., 27900.])"
      ]
     },
     "execution_count": 119,
     "metadata": {},
     "output_type": "execute_result"
    }
   ],
   "source": [
    "a.mv(b.view(-1))"
   ]
  },
  {
   "cell_type": "code",
   "execution_count": null,
   "metadata": {
    "colab": {
     "base_uri": "https://localhost:8080/"
    },
    "executionInfo": {
     "elapsed": 21,
     "status": "ok",
     "timestamp": 1634649417553,
     "user": {
      "displayName": "Александр Анатольевич Миленькин",
      "photoUrl": "https://lh3.googleusercontent.com/a-/AOh14Gh1yB_mGyNeEBrnQ_bFdA3CLdWCnTPdtAORppSkYg=s64",
      "userId": "12111341805146772458"
     },
     "user_tz": -180
    },
    "id": "MAuGNC7EL3lq",
    "outputId": "b97080cb-21cc-4145-db12-e9e13dc00537"
   },
   "outputs": [
    {
     "data": {
      "text/plain": [
       "torch.Size([2, 3, 4, 6])"
      ]
     },
     "execution_count": 120,
     "metadata": {},
     "output_type": "execute_result"
    }
   ],
   "source": [
    "y = torch.Tensor(2, 3, 4, 5)\n",
    "z = torch.Tensor(2, 3, 5, 6)\n",
    "(y @ z).shape"
   ]
  },
  {
   "cell_type": "markdown",
   "metadata": {
    "id": "gZitrCN6YKCL"
   },
   "source": [
    "## Конвертация\n",
    "#### Конвертация из Numpy в Pytorch:"
   ]
  },
  {
   "cell_type": "code",
   "execution_count": null,
   "metadata": {
    "colab": {
     "base_uri": "https://localhost:8080/"
    },
    "executionInfo": {
     "elapsed": 491,
     "status": "ok",
     "timestamp": 1634747455908,
     "user": {
      "displayName": "Александр Анатольевич Миленькин",
      "photoUrl": "https://lh3.googleusercontent.com/a-/AOh14Gh1yB_mGyNeEBrnQ_bFdA3CLdWCnTPdtAORppSkYg=s64",
      "userId": "12111341805146772458"
     },
     "user_tz": -180
    },
    "id": "bnLS4CGXYKCL",
    "outputId": "4695cd5a-bde6-4c62-cbfe-59a72102fb51"
   },
   "outputs": [
    {
     "data": {
      "text/plain": [
       "array([[0.05042278, 0.06324364, 0.59256736],\n",
       "       [0.52984072, 0.25957787, 0.70528832],\n",
       "       [0.18154263, 0.99443839, 0.76717738]])"
      ]
     },
     "execution_count": 129,
     "metadata": {},
     "output_type": "execute_result"
    }
   ],
   "source": [
    "import numpy as np\n",
    "\n",
    "a = np.random.rand(3, 3)\n",
    "a"
   ]
  },
  {
   "cell_type": "code",
   "execution_count": null,
   "metadata": {
    "colab": {
     "base_uri": "https://localhost:8080/"
    },
    "executionInfo": {
     "elapsed": 457,
     "status": "ok",
     "timestamp": 1634747469152,
     "user": {
      "displayName": "Александр Анатольевич Миленькин",
      "photoUrl": "https://lh3.googleusercontent.com/a-/AOh14Gh1yB_mGyNeEBrnQ_bFdA3CLdWCnTPdtAORppSkYg=s64",
      "userId": "12111341805146772458"
     },
     "user_tz": -180
    },
    "id": "PXge57waYKCM",
    "outputId": "1602fee2-f37c-4c9a-f871-fcd6954a7263"
   },
   "outputs": [
    {
     "data": {
      "text/plain": [
       "tensor([[0.0504, 0.0632, 0.5926],\n",
       "        [0.5298, 0.2596, 0.7053],\n",
       "        [0.1815, 0.9944, 0.7672]], dtype=torch.float64)"
      ]
     },
     "execution_count": 130,
     "metadata": {},
     "output_type": "execute_result"
    }
   ],
   "source": [
    "b = torch.from_numpy(a)\n",
    "b"
   ]
  },
  {
   "cell_type": "markdown",
   "metadata": {
    "id": "Nvcr3ymPYKCN"
   },
   "source": [
    "**Внимание!** `a` и `b` хранятся в одной и той же ячейке данных. Если именить один тензор, то изменится и другой."
   ]
  },
  {
   "cell_type": "code",
   "execution_count": null,
   "metadata": {
    "colab": {
     "base_uri": "https://localhost:8080/"
    },
    "executionInfo": {
     "elapsed": 397,
     "status": "ok",
     "timestamp": 1634747507369,
     "user": {
      "displayName": "Александр Анатольевич Миленькин",
      "photoUrl": "https://lh3.googleusercontent.com/a-/AOh14Gh1yB_mGyNeEBrnQ_bFdA3CLdWCnTPdtAORppSkYg=s64",
      "userId": "12111341805146772458"
     },
     "user_tz": -180
    },
    "id": "0N_ZW6TQYKCN",
    "outputId": "1d419bf2-5353-4cea-bd85-e6ce1ea3255d"
   },
   "outputs": [
    {
     "data": {
      "text/plain": [
       "tensor([[0., 0., 0.],\n",
       "        [0., 0., 0.],\n",
       "        [0., 0., 0.]], dtype=torch.float64)"
      ]
     },
     "execution_count": 132,
     "metadata": {},
     "output_type": "execute_result"
    }
   ],
   "source": [
    "b -= b\n",
    "b"
   ]
  },
  {
   "cell_type": "code",
   "execution_count": null,
   "metadata": {
    "colab": {
     "base_uri": "https://localhost:8080/"
    },
    "executionInfo": {
     "elapsed": 424,
     "status": "ok",
     "timestamp": 1634747511323,
     "user": {
      "displayName": "Александр Анатольевич Миленькин",
      "photoUrl": "https://lh3.googleusercontent.com/a-/AOh14Gh1yB_mGyNeEBrnQ_bFdA3CLdWCnTPdtAORppSkYg=s64",
      "userId": "12111341805146772458"
     },
     "user_tz": -180
    },
    "id": "wzUnCKsiYKCP",
    "outputId": "fdefbd15-9512-4752-a16a-13a1aaf03704"
   },
   "outputs": [
    {
     "data": {
      "text/plain": [
       "array([[0., 0., 0.],\n",
       "       [0., 0., 0.],\n",
       "       [0., 0., 0.]])"
      ]
     },
     "execution_count": 133,
     "metadata": {},
     "output_type": "execute_result"
    }
   ],
   "source": [
    "a"
   ]
  },
  {
   "cell_type": "markdown",
   "metadata": {
    "id": "Al73RqKSYKCR"
   },
   "source": [
    "#### Конвертация из Torch в Numpy"
   ]
  },
  {
   "cell_type": "code",
   "execution_count": null,
   "metadata": {
    "colab": {
     "base_uri": "https://localhost:8080/"
    },
    "executionInfo": {
     "elapsed": 576,
     "status": "ok",
     "timestamp": 1634747522346,
     "user": {
      "displayName": "Александр Анатольевич Миленькин",
      "photoUrl": "https://lh3.googleusercontent.com/a-/AOh14Gh1yB_mGyNeEBrnQ_bFdA3CLdWCnTPdtAORppSkYg=s64",
      "userId": "12111341805146772458"
     },
     "user_tz": -180
    },
    "id": "u5rngw4vYKCR",
    "outputId": "8a8561d2-8199-4dbd-fb0d-c27dec81755f"
   },
   "outputs": [
    {
     "data": {
      "text/plain": [
       "tensor([[[-5.5622e+24,  3.0812e-41,  7.0065e-44,  6.8664e-44],\n",
       "         [ 6.3058e-44,  6.8664e-44,  6.7262e-44,  6.3058e-44],\n",
       "         [ 7.0065e-44,  6.7262e-44,  1.1771e-43,  6.8664e-44]],\n",
       "\n",
       "        [[ 7.5670e-44,  8.1275e-44,  7.1466e-44,  7.0065e-44],\n",
       "         [ 8.1275e-44,  6.7262e-44,  6.7262e-44,  6.4460e-44],\n",
       "         [ 7.5670e-44,  7.2868e-44,  7.5670e-44,  7.9874e-44]]])"
      ]
     },
     "execution_count": 134,
     "metadata": {},
     "output_type": "execute_result"
    }
   ],
   "source": [
    "a = torch.FloatTensor(2, 3, 4)\n",
    "a"
   ]
  },
  {
   "cell_type": "code",
   "execution_count": null,
   "metadata": {
    "colab": {
     "base_uri": "https://localhost:8080/"
    },
    "executionInfo": {
     "elapsed": 635,
     "status": "ok",
     "timestamp": 1634747527548,
     "user": {
      "displayName": "Александр Анатольевич Миленькин",
      "photoUrl": "https://lh3.googleusercontent.com/a-/AOh14Gh1yB_mGyNeEBrnQ_bFdA3CLdWCnTPdtAORppSkYg=s64",
      "userId": "12111341805146772458"
     },
     "user_tz": -180
    },
    "id": "yjK68Kk-YKCS",
    "outputId": "8d0cd1e7-e497-44ac-c42c-6be7afd6c96b"
   },
   "outputs": [
    {
     "data": {
      "text/plain": [
       "torch.Tensor"
      ]
     },
     "execution_count": 135,
     "metadata": {},
     "output_type": "execute_result"
    }
   ],
   "source": [
    "type(a)"
   ]
  },
  {
   "cell_type": "code",
   "execution_count": null,
   "metadata": {
    "colab": {
     "base_uri": "https://localhost:8080/"
    },
    "executionInfo": {
     "elapsed": 686,
     "status": "ok",
     "timestamp": 1634747530183,
     "user": {
      "displayName": "Александр Анатольевич Миленькин",
      "photoUrl": "https://lh3.googleusercontent.com/a-/AOh14Gh1yB_mGyNeEBrnQ_bFdA3CLdWCnTPdtAORppSkYg=s64",
      "userId": "12111341805146772458"
     },
     "user_tz": -180
    },
    "id": "viLUF7gQYKCU",
    "outputId": "57c34d40-d599-4e65-ce84-1b2b23ca80ff"
   },
   "outputs": [
    {
     "data": {
      "text/plain": [
       "array([[[-5.56221e+24,  3.08118e-41,  7.00649e-44,  6.86636e-44],\n",
       "        [ 6.30584e-44,  6.86636e-44,  6.72623e-44,  6.30584e-44],\n",
       "        [ 7.00649e-44,  6.72623e-44,  1.17709e-43,  6.86636e-44]],\n",
       "\n",
       "       [[ 7.56701e-44,  8.12753e-44,  7.14662e-44,  7.00649e-44],\n",
       "        [ 8.12753e-44,  6.72623e-44,  6.72623e-44,  6.44597e-44],\n",
       "        [ 7.56701e-44,  7.28675e-44,  7.56701e-44,  7.98740e-44]]],\n",
       "      dtype=float32)"
      ]
     },
     "execution_count": 136,
     "metadata": {},
     "output_type": "execute_result"
    }
   ],
   "source": [
    "x = a.numpy()\n",
    "x"
   ]
  },
  {
   "cell_type": "code",
   "execution_count": null,
   "metadata": {
    "colab": {
     "base_uri": "https://localhost:8080/"
    },
    "executionInfo": {
     "elapsed": 758,
     "status": "ok",
     "timestamp": 1634747538493,
     "user": {
      "displayName": "Александр Анатольевич Миленькин",
      "photoUrl": "https://lh3.googleusercontent.com/a-/AOh14Gh1yB_mGyNeEBrnQ_bFdA3CLdWCnTPdtAORppSkYg=s64",
      "userId": "12111341805146772458"
     },
     "user_tz": -180
    },
    "id": "9HxgiLxKYKCV",
    "outputId": "24ec3459-041d-49c8-cd68-4f7d6531622e"
   },
   "outputs": [
    {
     "data": {
      "text/plain": [
       "(2, 3, 4)"
      ]
     },
     "execution_count": 137,
     "metadata": {},
     "output_type": "execute_result"
    }
   ],
   "source": [
    "x.shape"
   ]
  },
  {
   "cell_type": "code",
   "execution_count": null,
   "metadata": {
    "colab": {
     "base_uri": "https://localhost:8080/"
    },
    "executionInfo": {
     "elapsed": 614,
     "status": "ok",
     "timestamp": 1634747545252,
     "user": {
      "displayName": "Александр Анатольевич Миленькин",
      "photoUrl": "https://lh3.googleusercontent.com/a-/AOh14Gh1yB_mGyNeEBrnQ_bFdA3CLdWCnTPdtAORppSkYg=s64",
      "userId": "12111341805146772458"
     },
     "user_tz": -180
    },
    "id": "SdW5bhmeYKCX",
    "outputId": "ec9284db-ac45-411c-e93a-aa0458d08f6c"
   },
   "outputs": [
    {
     "data": {
      "text/plain": [
       "numpy.ndarray"
      ]
     },
     "execution_count": 138,
     "metadata": {},
     "output_type": "execute_result"
    }
   ],
   "source": [
    "type(x)"
   ]
  },
  {
   "cell_type": "code",
   "execution_count": null,
   "metadata": {
    "id": "GbCc-vnWDj1l"
   },
   "outputs": [],
   "source": [
    "x -= x"
   ]
  },
  {
   "cell_type": "code",
   "execution_count": null,
   "metadata": {
    "colab": {
     "base_uri": "https://localhost:8080/"
    },
    "executionInfo": {
     "elapsed": 7,
     "status": "ok",
     "timestamp": 1634747545824,
     "user": {
      "displayName": "Александр Анатольевич Миленькин",
      "photoUrl": "https://lh3.googleusercontent.com/a-/AOh14Gh1yB_mGyNeEBrnQ_bFdA3CLdWCnTPdtAORppSkYg=s64",
      "userId": "12111341805146772458"
     },
     "user_tz": -180
    },
    "id": "Ui-4DptBDlet",
    "outputId": "ec2f647c-0192-4c15-b45c-b4b853818345"
   },
   "outputs": [
    {
     "data": {
      "text/plain": [
       "tensor([[[0., 0., 0., 0.],\n",
       "         [0., 0., 0., 0.],\n",
       "         [0., 0., 0., 0.]],\n",
       "\n",
       "        [[0., 0., 0., 0.],\n",
       "         [0., 0., 0., 0.],\n",
       "         [0., 0., 0., 0.]]])"
      ]
     },
     "execution_count": 140,
     "metadata": {},
     "output_type": "execute_result"
    }
   ],
   "source": [
    "a"
   ]
  },
  {
   "cell_type": "markdown",
   "metadata": {
    "id": "7-KS81rUYKCY"
   },
   "source": [
    "#### Задание. Реализация функции forward\n",
    "Реализуйте функцию `forward_pass(X, w)` для одного нейрона нейронной сети с активацией ``sigmoid``. Используйте библиотеку PyTorch"
   ]
  },
  {
   "cell_type": "markdown",
   "metadata": {
    "id": "C8dmwhWGxzwl"
   },
   "source": [
    "<img src='https://radioprog.ru/uploads/media/articles/0001/05/267ad35a9e64a7b92c2e3b94940f686816ea6bf8.jpeg'>"
   ]
  },
  {
   "cell_type": "code",
   "execution_count": 51,
   "metadata": {
    "id": "vkaIwpn6YKCY"
   },
   "outputs": [],
   "source": [
    "def forward_pass(X, w):\n",
    "    logits = X @ w\n",
    "    result  = torch.sigmoid(logits)\n",
    "    return result\n"
   ]
  },
  {
   "cell_type": "code",
   "execution_count": 54,
   "metadata": {
    "colab": {
     "base_uri": "https://localhost:8080/"
    },
    "executionInfo": {
     "elapsed": 13,
     "status": "ok",
     "timestamp": 1634747674279,
     "user": {
      "displayName": "Александр Анатольевич Миленькин",
      "photoUrl": "https://lh3.googleusercontent.com/a-/AOh14Gh1yB_mGyNeEBrnQ_bFdA3CLdWCnTPdtAORppSkYg=s64",
      "userId": "12111341805146772458"
     },
     "user_tz": -180
    },
    "id": "VyqlDItxYKCZ",
    "outputId": "025892ad-c358-4416-b62e-37035bd5e03b"
   },
   "outputs": [
    {
     "data": {
      "text/plain": [
       "tensor([[-5.,  5.],\n",
       "        [ 2.,  3.],\n",
       "        [ 1., -1.]])"
      ]
     },
     "execution_count": 54,
     "metadata": {},
     "output_type": "execute_result"
    }
   ],
   "source": [
    "X = torch.FloatTensor([[-5, 5], [2, 3], [1, -1]])\n",
    "X"
   ]
  },
  {
   "cell_type": "code",
   "execution_count": 55,
   "metadata": {
    "colab": {
     "base_uri": "https://localhost:8080/"
    },
    "executionInfo": {
     "elapsed": 13,
     "status": "ok",
     "timestamp": 1634747674279,
     "user": {
      "displayName": "Александр Анатольевич Миленькин",
      "photoUrl": "https://lh3.googleusercontent.com/a-/AOh14Gh1yB_mGyNeEBrnQ_bFdA3CLdWCnTPdtAORppSkYg=s64",
      "userId": "12111341805146772458"
     },
     "user_tz": -180
    },
    "id": "VyqlDItxYKCZ",
    "outputId": "025892ad-c358-4416-b62e-37035bd5e03b"
   },
   "outputs": [
    {
     "data": {
      "text/plain": [
       "tensor([[-0.5000],\n",
       "        [ 2.5000]])"
      ]
     },
     "execution_count": 55,
     "metadata": {},
     "output_type": "execute_result"
    }
   ],
   "source": [
    "w = torch.FloatTensor([[-0.5], [2.5]])\n",
    "w"
   ]
  },
  {
   "cell_type": "code",
   "execution_count": 57,
   "metadata": {
    "colab": {
     "base_uri": "https://localhost:8080/"
    },
    "executionInfo": {
     "elapsed": 13,
     "status": "ok",
     "timestamp": 1634747674279,
     "user": {
      "displayName": "Александр Анатольевич Миленькин",
      "photoUrl": "https://lh3.googleusercontent.com/a-/AOh14Gh1yB_mGyNeEBrnQ_bFdA3CLdWCnTPdtAORppSkYg=s64",
      "userId": "12111341805146772458"
     },
     "user_tz": -180
    },
    "id": "VyqlDItxYKCZ",
    "outputId": "025892ad-c358-4416-b62e-37035bd5e03b"
   },
   "outputs": [
    {
     "data": {
      "text/plain": [
       "tensor([[1.0000],\n",
       "        [0.9985],\n",
       "        [0.0474]])"
      ]
     },
     "execution_count": 57,
     "metadata": {},
     "output_type": "execute_result"
    }
   ],
   "source": [
    "result = forward_pass(X, w)\n",
    "result"
   ]
  },
  {
   "cell_type": "markdown",
   "metadata": {
    "id": "MzLVLQ2GYKCa"
   },
   "source": [
    "## <h1 style=\"text-align: center;\"><a href=\"https://ru.wikipedia.org/wiki/CUDA\">CUDA</a></h3>\n",
    "\n",
    "CUDA --- это программно-аппаратная архитектура параллельных вычислений, которая позволяет существенно увеличить вычислительную производительность благодаря использованию графических процессоров фирмы Nvidia. Для нас CUDA --- это драйвер, который позволяет нам проводить вычисления на GPU."
   ]
  },
  {
   "cell_type": "markdown",
   "metadata": {
    "id": "PrIicAAiYKCa"
   },
   "source": [
    "[CUDA documentation](https://docs.nvidia.com/cuda/)"
   ]
  },
  {
   "cell_type": "markdown",
   "metadata": {
    "id": "2nDkAG6NYKCa"
   },
   "source": [
    "Для вычислений на Pytorch мы можем использовать как CPU (Central Processing Unit), так и GPU (Graphical Processing Unit). Между ними можно легко переключаться, и это очень важно!"
   ]
  },
  {
   "cell_type": "code",
   "execution_count": null,
   "metadata": {
    "colab": {
     "base_uri": "https://localhost:8080/"
    },
    "executionInfo": {
     "elapsed": 988,
     "status": "ok",
     "timestamp": 1634747770634,
     "user": {
      "displayName": "Александр Анатольевич Миленькин",
      "photoUrl": "https://lh3.googleusercontent.com/a-/AOh14Gh1yB_mGyNeEBrnQ_bFdA3CLdWCnTPdtAORppSkYg=s64",
      "userId": "12111341805146772458"
     },
     "user_tz": -180
    },
    "id": "_0Nsl2IoYKCa",
    "outputId": "387a73a2-2cb9-443b-e0bc-09b13b4ce677"
   },
   "outputs": [
    {
     "data": {
      "text/plain": [
       "tensor([[0.5739, 0.6793, 0.0018,  ..., 0.6116, 0.0382, 0.6505],\n",
       "        [0.7635, 0.1033, 0.9777,  ..., 0.6351, 0.8855, 0.1598],\n",
       "        [0.0572, 0.6239, 0.2988,  ..., 0.1494, 0.6649, 0.5129],\n",
       "        ...,\n",
       "        [0.4983, 0.6556, 0.8373,  ..., 0.2500, 0.8713, 0.0064],\n",
       "        [0.6449, 0.4347, 0.6070,  ..., 0.1960, 0.1610, 0.3620],\n",
       "        [0.6352, 0.7741, 0.6765,  ..., 0.1929, 0.2010, 0.5244]])"
      ]
     },
     "execution_count": 145,
     "metadata": {},
     "output_type": "execute_result"
    }
   ],
   "source": [
    "x = torch.FloatTensor(1024, 10024).uniform_()\n",
    "x"
   ]
  },
  {
   "cell_type": "code",
   "execution_count": null,
   "metadata": {
    "colab": {
     "base_uri": "https://localhost:8080/"
    },
    "executionInfo": {
     "elapsed": 935,
     "status": "ok",
     "timestamp": 1634747780189,
     "user": {
      "displayName": "Александр Анатольевич Миленькин",
      "photoUrl": "https://lh3.googleusercontent.com/a-/AOh14Gh1yB_mGyNeEBrnQ_bFdA3CLdWCnTPdtAORppSkYg=s64",
      "userId": "12111341805146772458"
     },
     "user_tz": -180
    },
    "id": "FVr5_SAdYKCb",
    "outputId": "e9ddd4ef-937f-40cb-989e-974286c6d1c6"
   },
   "outputs": [
    {
     "data": {
      "text/plain": [
       "False"
      ]
     },
     "execution_count": 146,
     "metadata": {},
     "output_type": "execute_result"
    }
   ],
   "source": [
    "x.is_cuda"
   ]
  },
  {
   "cell_type": "markdown",
   "metadata": {
    "id": "mAy8GGXAYKCd"
   },
   "source": [
    "#### Кладём тензор на GPU"
   ]
  },
  {
   "cell_type": "code",
   "execution_count": null,
   "metadata": {
    "colab": {
     "base_uri": "https://localhost:8080/"
    },
    "executionInfo": {
     "elapsed": 1025,
     "status": "ok",
     "timestamp": 1634747800982,
     "user": {
      "displayName": "Александр Анатольевич Миленькин",
      "photoUrl": "https://lh3.googleusercontent.com/a-/AOh14Gh1yB_mGyNeEBrnQ_bFdA3CLdWCnTPdtAORppSkYg=s64",
      "userId": "12111341805146772458"
     },
     "user_tz": -180
    },
    "id": "Pofrx0jug6QM",
    "outputId": "471b7407-a2bc-4dce-868b-5ac116722353"
   },
   "outputs": [
    {
     "name": "stdout",
     "output_type": "stream",
     "text": [
      "Wed Oct 20 16:36:38 2021       \n",
      "+-----------------------------------------------------------------------------+\n",
      "| NVIDIA-SMI 470.74       Driver Version: 460.32.03    CUDA Version: 11.2     |\n",
      "|-------------------------------+----------------------+----------------------+\n",
      "| GPU  Name        Persistence-M| Bus-Id        Disp.A | Volatile Uncorr. ECC |\n",
      "| Fan  Temp  Perf  Pwr:Usage/Cap|         Memory-Usage | GPU-Util  Compute M. |\n",
      "|                               |                      |               MIG M. |\n",
      "|===============================+======================+======================|\n",
      "|   0  Tesla K80           Off  | 00000000:00:04.0 Off |                    0 |\n",
      "| N/A   70C    P8    37W / 149W |      0MiB / 11441MiB |      0%      Default |\n",
      "|                               |                      |                  N/A |\n",
      "+-------------------------------+----------------------+----------------------+\n",
      "                                                                               \n",
      "+-----------------------------------------------------------------------------+\n",
      "| Processes:                                                                  |\n",
      "|  GPU   GI   CI        PID   Type   Process name                  GPU Memory |\n",
      "|        ID   ID                                                   Usage      |\n",
      "|=============================================================================|\n",
      "|  No running processes found                                                 |\n",
      "+-----------------------------------------------------------------------------+\n"
     ]
    }
   ],
   "source": [
    "!nvidia-smi"
   ]
  },
  {
   "cell_type": "code",
   "execution_count": null,
   "metadata": {
    "id": "6UGKZbfyYKCd"
   },
   "outputs": [],
   "source": [
    "x = x.cuda()"
   ]
  },
  {
   "cell_type": "code",
   "execution_count": null,
   "metadata": {
    "colab": {
     "base_uri": "https://localhost:8080/"
    },
    "executionInfo": {
     "elapsed": 417,
     "status": "ok",
     "timestamp": 1634747840427,
     "user": {
      "displayName": "Александр Анатольевич Миленькин",
      "photoUrl": "https://lh3.googleusercontent.com/a-/AOh14Gh1yB_mGyNeEBrnQ_bFdA3CLdWCnTPdtAORppSkYg=s64",
      "userId": "12111341805146772458"
     },
     "user_tz": -180
    },
    "id": "RwvXhDD2gezR",
    "outputId": "7ae0ecc3-0c00-4f03-db1e-6e6f303ebf8b"
   },
   "outputs": [
    {
     "name": "stdout",
     "output_type": "stream",
     "text": [
      "Wed Oct 20 16:37:19 2021       \n",
      "+-----------------------------------------------------------------------------+\n",
      "| NVIDIA-SMI 470.74       Driver Version: 460.32.03    CUDA Version: 11.2     |\n",
      "|-------------------------------+----------------------+----------------------+\n",
      "| GPU  Name        Persistence-M| Bus-Id        Disp.A | Volatile Uncorr. ECC |\n",
      "| Fan  Temp  Perf  Pwr:Usage/Cap|         Memory-Usage | GPU-Util  Compute M. |\n",
      "|                               |                      |               MIG M. |\n",
      "|===============================+======================+======================|\n",
      "|   0  Tesla K80           Off  | 00000000:00:04.0 Off |                    0 |\n",
      "| N/A   74C    P0    78W / 149W |    532MiB / 11441MiB |      0%      Default |\n",
      "|                               |                      |                  N/A |\n",
      "+-------------------------------+----------------------+----------------------+\n",
      "                                                                               \n",
      "+-----------------------------------------------------------------------------+\n",
      "| Processes:                                                                  |\n",
      "|  GPU   GI   CI        PID   Type   Process name                  GPU Memory |\n",
      "|        ID   ID                                                   Usage      |\n",
      "|=============================================================================|\n",
      "|  No running processes found                                                 |\n",
      "+-----------------------------------------------------------------------------+\n"
     ]
    }
   ],
   "source": [
    "!nvidia-smi"
   ]
  },
  {
   "cell_type": "code",
   "execution_count": null,
   "metadata": {
    "colab": {
     "base_uri": "https://localhost:8080/"
    },
    "executionInfo": {
     "elapsed": 421,
     "status": "ok",
     "timestamp": 1634747861252,
     "user": {
      "displayName": "Александр Анатольевич Миленькин",
      "photoUrl": "https://lh3.googleusercontent.com/a-/AOh14Gh1yB_mGyNeEBrnQ_bFdA3CLdWCnTPdtAORppSkYg=s64",
      "userId": "12111341805146772458"
     },
     "user_tz": -180
    },
    "id": "hyhJsU5ib591",
    "outputId": "cac2f2c4-d926-48dc-e823-8f3c7ef12dfd"
   },
   "outputs": [
    {
     "data": {
      "text/plain": [
       "tensor([[0.5739, 0.6793, 0.0018,  ..., 0.6116, 0.0382, 0.6505],\n",
       "        [0.7635, 0.1033, 0.9777,  ..., 0.6351, 0.8855, 0.1598],\n",
       "        [0.0572, 0.6239, 0.2988,  ..., 0.1494, 0.6649, 0.5129],\n",
       "        ...,\n",
       "        [0.4983, 0.6556, 0.8373,  ..., 0.2500, 0.8713, 0.0064],\n",
       "        [0.6449, 0.4347, 0.6070,  ..., 0.1960, 0.1610, 0.3620],\n",
       "        [0.6352, 0.7741, 0.6765,  ..., 0.1929, 0.2010, 0.5244]],\n",
       "       device='cuda:0')"
      ]
     },
     "execution_count": 150,
     "metadata": {},
     "output_type": "execute_result"
    }
   ],
   "source": [
    "x"
   ]
  },
  {
   "cell_type": "code",
   "execution_count": null,
   "metadata": {
    "colab": {
     "base_uri": "https://localhost:8080/"
    },
    "executionInfo": {
     "elapsed": 472,
     "status": "ok",
     "timestamp": 1634747886406,
     "user": {
      "displayName": "Александр Анатольевич Миленькин",
      "photoUrl": "https://lh3.googleusercontent.com/a-/AOh14Gh1yB_mGyNeEBrnQ_bFdA3CLdWCnTPdtAORppSkYg=s64",
      "userId": "12111341805146772458"
     },
     "user_tz": -180
    },
    "id": "ue2SLd9nYKCd",
    "outputId": "14a91107-6ec6-4a96-b8d8-502534104c76"
   },
   "outputs": [
    {
     "name": "stdout",
     "output_type": "stream",
     "text": [
      "Wed Oct 20 16:38:04 2021       \n",
      "+-----------------------------------------------------------------------------+\n",
      "| NVIDIA-SMI 470.74       Driver Version: 460.32.03    CUDA Version: 11.2     |\n",
      "|-------------------------------+----------------------+----------------------+\n",
      "| GPU  Name        Persistence-M| Bus-Id        Disp.A | Volatile Uncorr. ECC |\n",
      "| Fan  Temp  Perf  Pwr:Usage/Cap|         Memory-Usage | GPU-Util  Compute M. |\n",
      "|                               |                      |               MIG M. |\n",
      "|===============================+======================+======================|\n",
      "|   0  Tesla K80           Off  | 00000000:00:04.0 Off |                    0 |\n",
      "| N/A   73C    P0    78W / 149W |    534MiB / 11441MiB |      0%      Default |\n",
      "|                               |                      |                  N/A |\n",
      "+-------------------------------+----------------------+----------------------+\n",
      "                                                                               \n",
      "+-----------------------------------------------------------------------------+\n",
      "| Processes:                                                                  |\n",
      "|  GPU   GI   CI        PID   Type   Process name                  GPU Memory |\n",
      "|        ID   ID                                                   Usage      |\n",
      "|=============================================================================|\n",
      "|  No running processes found                                                 |\n",
      "+-----------------------------------------------------------------------------+\n",
      "Wed Oct 20 16:38:05 2021       \n",
      "+-----------------------------------------------------------------------------+\n",
      "| NVIDIA-SMI 470.74       Driver Version: 460.32.03    CUDA Version: 11.2     |\n",
      "|-------------------------------+----------------------+----------------------+\n",
      "| GPU  Name        Persistence-M| Bus-Id        Disp.A | Volatile Uncorr. ECC |\n",
      "| Fan  Temp  Perf  Pwr:Usage/Cap|         Memory-Usage | GPU-Util  Compute M. |\n",
      "|                               |                      |               MIG M. |\n",
      "|===============================+======================+======================|\n",
      "|   0  Tesla K80           Off  | 00000000:00:04.0 Off |                    0 |\n",
      "| N/A   73C    P0    78W / 149W |    532MiB / 11441MiB |      3%      Default |\n",
      "|                               |                      |                  N/A |\n",
      "+-------------------------------+----------------------+----------------------+\n",
      "                                                                               \n",
      "+-----------------------------------------------------------------------------+\n",
      "| Processes:                                                                  |\n",
      "|  GPU   GI   CI        PID   Type   Process name                  GPU Memory |\n",
      "|        ID   ID                                                   Usage      |\n",
      "|=============================================================================|\n",
      "|  No running processes found                                                 |\n",
      "+-----------------------------------------------------------------------------+\n"
     ]
    }
   ],
   "source": [
    "x = x.cpu()\n",
    "!nvidia-smi\n",
    "\n",
    "torch.cuda.empty_cache()\n",
    "!nvidia-smi"
   ]
  },
  {
   "cell_type": "code",
   "execution_count": null,
   "metadata": {
    "colab": {
     "base_uri": "https://localhost:8080/"
    },
    "executionInfo": {
     "elapsed": 385,
     "status": "ok",
     "timestamp": 1634747980873,
     "user": {
      "displayName": "Александр Анатольевич Миленькин",
      "photoUrl": "https://lh3.googleusercontent.com/a-/AOh14Gh1yB_mGyNeEBrnQ_bFdA3CLdWCnTPdtAORppSkYg=s64",
      "userId": "12111341805146772458"
     },
     "user_tz": -180
    },
    "id": "qVVp6BnbD7fy",
    "outputId": "e097c457-a4d5-40a7-b86b-1f17ffe0ad6d"
   },
   "outputs": [
    {
     "data": {
      "text/plain": [
       "tensor([[0.5739, 0.6793, 0.0018,  ..., 0.6116, 0.0382, 0.6505],\n",
       "        [0.7635, 0.1033, 0.9777,  ..., 0.6351, 0.8855, 0.1598],\n",
       "        [0.0572, 0.6239, 0.2988,  ..., 0.1494, 0.6649, 0.5129],\n",
       "        ...,\n",
       "        [0.4983, 0.6556, 0.8373,  ..., 0.2500, 0.8713, 0.0064],\n",
       "        [0.6449, 0.4347, 0.6070,  ..., 0.1960, 0.1610, 0.3620],\n",
       "        [0.6352, 0.7741, 0.6765,  ..., 0.1929, 0.2010, 0.5244]],\n",
       "       device='cuda:0')"
      ]
     },
     "execution_count": 152,
     "metadata": {},
     "output_type": "execute_result"
    }
   ],
   "source": [
    "device = torch.device(\"cuda:0\") if torch.cuda.is_available() else torch.device(\"cpu\")\n",
    "\n",
    "x = x.to(device)\n",
    "x"
   ]
  },
  {
   "cell_type": "markdown",
   "metadata": {
    "id": "dI73B59PYKCg"
   },
   "source": [
    "Умножим два тензора в GPU и вернём результат обратно на CPU:"
   ]
  },
  {
   "cell_type": "code",
   "execution_count": null,
   "metadata": {
    "id": "KS4QxJJoYKCg"
   },
   "outputs": [],
   "source": [
    "a = torch.FloatTensor(10000, 10000).uniform_()\n",
    "b = torch.FloatTensor(10000, 10000).uniform_()\n",
    "c = a.cuda().mul(b.cuda()).cpu()"
   ]
  },
  {
   "cell_type": "code",
   "execution_count": null,
   "metadata": {
    "colab": {
     "base_uri": "https://localhost:8080/"
    },
    "executionInfo": {
     "elapsed": 377,
     "status": "ok",
     "timestamp": 1634748030224,
     "user": {
      "displayName": "Александр Анатольевич Миленькин",
      "photoUrl": "https://lh3.googleusercontent.com/a-/AOh14Gh1yB_mGyNeEBrnQ_bFdA3CLdWCnTPdtAORppSkYg=s64",
      "userId": "12111341805146772458"
     },
     "user_tz": -180
    },
    "id": "1ImlgEbwYKCg",
    "outputId": "08840d69-9844-4baf-f17d-26ae59cd171e"
   },
   "outputs": [
    {
     "data": {
      "text/plain": [
       "tensor([[0.5740, 0.1859, 0.3607,  ..., 0.3503, 0.1374, 0.6319],\n",
       "        [0.2578, 0.0244, 0.2425,  ..., 0.0104, 0.0126, 0.6307],\n",
       "        [0.0308, 0.3692, 0.1902,  ..., 0.2113, 0.0597, 0.1891],\n",
       "        ...,\n",
       "        [0.2510, 0.8038, 0.0715,  ..., 0.0231, 0.4661, 0.1080],\n",
       "        [0.3452, 0.1614, 0.0778,  ..., 0.0438, 0.0370, 0.3511],\n",
       "        [0.1482, 0.0200, 0.0092,  ..., 0.4322, 0.0965, 0.0487]])"
      ]
     },
     "execution_count": 154,
     "metadata": {},
     "output_type": "execute_result"
    }
   ],
   "source": [
    "c"
   ]
  },
  {
   "cell_type": "code",
   "execution_count": null,
   "metadata": {
    "colab": {
     "base_uri": "https://localhost:8080/"
    },
    "executionInfo": {
     "elapsed": 2126,
     "status": "ok",
     "timestamp": 1634748044158,
     "user": {
      "displayName": "Александр Анатольевич Миленькин",
      "photoUrl": "https://lh3.googleusercontent.com/a-/AOh14Gh1yB_mGyNeEBrnQ_bFdA3CLdWCnTPdtAORppSkYg=s64",
      "userId": "12111341805146772458"
     },
     "user_tz": -180
    },
    "id": "4DAN9MhDYKCh",
    "outputId": "435e0564-edf4-4486-d26a-1bb9e305f305"
   },
   "outputs": [
    {
     "data": {
      "text/plain": [
       "tensor([[0.6927, 0.8572, 0.6225,  ..., 0.5609, 0.3497, 0.6390],\n",
       "        [0.5694, 0.0876, 0.4870,  ..., 0.5219, 0.0585, 0.6522],\n",
       "        [0.0665, 0.4480, 0.4315,  ..., 0.3370, 0.0875, 0.2520],\n",
       "        ...,\n",
       "        [0.7306, 0.8169, 0.0952,  ..., 0.1764, 0.5643, 0.1364],\n",
       "        [0.3471, 0.2138, 0.0857,  ..., 0.1470, 0.1611, 0.6421],\n",
       "        [0.3135, 0.0782, 0.0868,  ..., 0.6966, 0.0989, 0.6656]])"
      ]
     },
     "execution_count": 155,
     "metadata": {},
     "output_type": "execute_result"
    }
   ],
   "source": [
    "a"
   ]
  },
  {
   "cell_type": "markdown",
   "metadata": {
    "id": "xWc-PiA9YKCi"
   },
   "source": [
    "Тензоры из разных областей памяти не совместимы:"
   ]
  },
  {
   "cell_type": "code",
   "execution_count": null,
   "metadata": {
    "id": "1lwV1sgSYKCi"
   },
   "outputs": [],
   "source": [
    "a = torch.FloatTensor(10000, 10000).uniform_().cpu()\n",
    "b = torch.FloatTensor(10000, 10000).uniform_().cuda()"
   ]
  },
  {
   "cell_type": "code",
   "execution_count": null,
   "metadata": {
    "colab": {
     "base_uri": "https://localhost:8080/",
     "height": 162
    },
    "executionInfo": {
     "elapsed": 33,
     "status": "error",
     "timestamp": 1634748059774,
     "user": {
      "displayName": "Александр Анатольевич Миленькин",
      "photoUrl": "https://lh3.googleusercontent.com/a-/AOh14Gh1yB_mGyNeEBrnQ_bFdA3CLdWCnTPdtAORppSkYg=s64",
      "userId": "12111341805146772458"
     },
     "user_tz": -180
    },
    "id": "G6tYdYtTYKCj",
    "outputId": "f92ecd9b-052a-401f-b0db-530e7bd20579"
   },
   "outputs": [
    {
     "ename": "RuntimeError",
     "evalue": "ignored",
     "output_type": "error",
     "traceback": [
      "\u001b[0;31m---------------------------------------------------------------------------\u001b[0m",
      "\u001b[0;31mRuntimeError\u001b[0m                              Traceback (most recent call last)",
      "\u001b[0;32m<ipython-input-158-bd58363a63fc>\u001b[0m in \u001b[0;36m<module>\u001b[0;34m()\u001b[0m\n\u001b[0;32m----> 1\u001b[0;31m \u001b[0ma\u001b[0m \u001b[0;34m+\u001b[0m \u001b[0mb\u001b[0m\u001b[0;34m\u001b[0m\u001b[0;34m\u001b[0m\u001b[0m\n\u001b[0m",
      "\u001b[0;31mRuntimeError\u001b[0m: Expected all tensors to be on the same device, but found at least two devices, cuda:0 and cpu!"
     ]
    }
   ],
   "source": [
    "a + b"
   ]
  },
  {
   "cell_type": "markdown",
   "metadata": {
    "id": "QEtwaIxDYKCk"
   },
   "source": [
    "### Пример работы на GPU"
   ]
  },
  {
   "cell_type": "code",
   "execution_count": null,
   "metadata": {
    "id": "PRmnPD5EcpcF"
   },
   "outputs": [],
   "source": [
    "device = 'cuda' if torch.cuda.is_available() else 'cpu'"
   ]
  },
  {
   "cell_type": "code",
   "execution_count": null,
   "metadata": {
    "colab": {
     "base_uri": "https://localhost:8080/"
    },
    "executionInfo": {
     "elapsed": 507,
     "status": "ok",
     "timestamp": 1634748115437,
     "user": {
      "displayName": "Александр Анатольевич Миленькин",
      "photoUrl": "https://lh3.googleusercontent.com/a-/AOh14Gh1yB_mGyNeEBrnQ_bFdA3CLdWCnTPdtAORppSkYg=s64",
      "userId": "12111341805146772458"
     },
     "user_tz": -180
    },
    "id": "bJgVfAbUYKCk",
    "outputId": "c1fa163e-3ced-4a6b-a5e2-263af99a1eb0",
    "scrolled": true
   },
   "outputs": [
    {
     "name": "stdout",
     "output_type": "stream",
     "text": [
      "tensor([[[1.6331, 1.3288, 1.1839, 1.7275, 1.8437],\n",
      "         [1.9385, 1.6287, 1.7139, 1.9229, 1.8091],\n",
      "         [1.7274, 1.8909, 1.8804, 1.9375, 1.8201],\n",
      "         [1.1313, 1.5478, 1.9364, 1.6399, 1.5838],\n",
      "         [1.0429, 1.8648, 1.6839, 1.1559, 1.8707]],\n",
      "\n",
      "        [[1.0770, 1.2493, 1.6746, 1.2671, 1.5664],\n",
      "         [1.7523, 1.1265, 1.0052, 1.6799, 1.7473],\n",
      "         [1.5519, 1.1521, 1.4690, 1.0238, 1.6264],\n",
      "         [1.2880, 1.2806, 1.0540, 1.1196, 1.7715],\n",
      "         [1.9669, 1.6568, 1.8550, 1.9096, 1.3171]],\n",
      "\n",
      "        [[1.3508, 1.2912, 1.3152, 1.7064, 1.6070],\n",
      "         [1.8625, 1.5454, 1.4677, 1.5262, 1.9966],\n",
      "         [1.0811, 1.9871, 1.7158, 1.8193, 1.6640],\n",
      "         [1.4147, 1.8758, 1.9080, 1.6874, 1.9713],\n",
      "         [1.8327, 1.9933, 1.1717, 1.3091, 1.1312]],\n",
      "\n",
      "        [[1.0370, 1.7697, 1.1342, 1.7128, 1.5195],\n",
      "         [1.6466, 1.7975, 1.8908, 1.7163, 1.8316],\n",
      "         [1.1548, 1.6615, 1.3588, 1.6756, 1.7241],\n",
      "         [1.2085, 1.8330, 1.3255, 1.3686, 1.2094],\n",
      "         [1.3203, 1.8378, 1.8976, 1.1972, 1.3411]],\n",
      "\n",
      "        [[1.2299, 1.7466, 1.5356, 1.5039, 1.2965],\n",
      "         [1.5451, 1.7916, 1.6993, 1.9454, 1.2207],\n",
      "         [1.9885, 1.0565, 1.7924, 1.0036, 1.0092],\n",
      "         [1.1284, 1.8084, 1.5782, 1.3796, 1.4174],\n",
      "         [1.6532, 1.4883, 1.9037, 1.3542, 1.3588]]], device='cuda:0')\n",
      "tensor([[[1.6331, 1.3288, 1.1839, 1.7275, 1.8437],\n",
      "         [1.9385, 1.6287, 1.7139, 1.9229, 1.8091],\n",
      "         [1.7274, 1.8909, 1.8804, 1.9375, 1.8201],\n",
      "         [1.1313, 1.5478, 1.9364, 1.6399, 1.5838],\n",
      "         [1.0429, 1.8648, 1.6839, 1.1559, 1.8707]],\n",
      "\n",
      "        [[1.0770, 1.2493, 1.6746, 1.2671, 1.5664],\n",
      "         [1.7523, 1.1265, 1.0052, 1.6799, 1.7473],\n",
      "         [1.5519, 1.1521, 1.4690, 1.0238, 1.6264],\n",
      "         [1.2880, 1.2806, 1.0540, 1.1196, 1.7715],\n",
      "         [1.9669, 1.6568, 1.8550, 1.9096, 1.3171]],\n",
      "\n",
      "        [[1.3508, 1.2912, 1.3152, 1.7064, 1.6070],\n",
      "         [1.8625, 1.5454, 1.4677, 1.5262, 1.9966],\n",
      "         [1.0811, 1.9871, 1.7158, 1.8193, 1.6640],\n",
      "         [1.4147, 1.8758, 1.9080, 1.6874, 1.9713],\n",
      "         [1.8327, 1.9933, 1.1717, 1.3091, 1.1312]],\n",
      "\n",
      "        [[1.0370, 1.7697, 1.1342, 1.7128, 1.5195],\n",
      "         [1.6466, 1.7975, 1.8908, 1.7163, 1.8316],\n",
      "         [1.1548, 1.6615, 1.3588, 1.6756, 1.7241],\n",
      "         [1.2085, 1.8330, 1.3255, 1.3686, 1.2094],\n",
      "         [1.3203, 1.8378, 1.8976, 1.1972, 1.3411]],\n",
      "\n",
      "        [[1.2299, 1.7466, 1.5356, 1.5039, 1.2965],\n",
      "         [1.5451, 1.7916, 1.6993, 1.9454, 1.2207],\n",
      "         [1.9885, 1.0565, 1.7924, 1.0036, 1.0092],\n",
      "         [1.1284, 1.8084, 1.5782, 1.3796, 1.4174],\n",
      "         [1.6532, 1.4883, 1.9037, 1.3542, 1.3588]]], dtype=torch.float64)\n"
     ]
    }
   ],
   "source": [
    "x = torch.FloatTensor(5, 5, 5).uniform_()\n",
    "\n",
    "# проверить наличие CUDA (NVIDIA GPU)\n",
    "if torch.cuda.is_available():\n",
    "    # получить имя устройства CUDA\n",
    "    device = torch.device('cuda')          # Объект CUDA-устройства\n",
    "    y = torch.ones_like(x, device=device)  # создаем тензор на GPU\n",
    "    x = x.to(device)                       # или просто `.to(\"cuda\")`\n",
    "    z = x + y\n",
    "    print(z)\n",
    "    # вы можете установить тип во время операции `.to`\n",
    "    print(z.to(\"cpu\", torch.double))"
   ]
  },
  {
   "cell_type": "markdown",
   "metadata": {
    "id": "iFg82MJIYKCl"
   },
   "source": [
    "## AutoGrad\n",
    "\n",
    "За что мы любим PyTorch --- за то, что в нём можно автоматически дифференцировать функции! Об этом можно было бы только мечтать в Numpy. Дифференцирование функций происходит по формуле производной композиции."
   ]
  },
  {
   "cell_type": "markdown",
   "metadata": {
    "id": "63BaBsy4iuwl"
   },
   "source": [
    "**Правило производной композиции (a.k.a. backpropagation)**\n",
    "\n",
    "Пусть есть функция $f(w(\\theta))$. Вычислим её производную:\n",
    "$${\\frac  {\\partial{f}}{\\partial{\\theta}}}\n",
    "={\\frac  {\\partial{f}}{\\partial{w}}}\\cdot {\\frac  {\\partial{w}}{\\partial{\\theta}}}$$\n",
    "\n",
    "\n",
    "*Как рассказывалось на лекции, в многомерном случае можно записать аналог этой формулы:*\n",
    "$$\n",
    "D_\\theta(f\\circ w) = D_{w(\\theta)}(f)\\circ D_\\theta(w)\n",
    "$$\n",
    "\n",
    "Простой пример обратного распространения градиента:\n",
    "\n",
    "$$y = \\sin \\left(x_2^2(x_1 + x_2)\\right)$$\n",
    "\n",
    "<img src=\"https://ars.els-cdn.com/content/image/1-s2.0-S0010465515004099-gr1.jpg\" width=700></img>\n"
   ]
  },
  {
   "cell_type": "markdown",
   "metadata": {
    "id": "udpOWYK-YKCm"
   },
   "source": [
    "Autograd позволяет производить автоматическое дифференцирование для всех операций на тензорах. Граф вычислений, в отличие от Tensorflow, строится динамически. Давайте посмотрим, как это работает."
   ]
  },
  {
   "cell_type": "markdown",
   "metadata": {
    "id": "AEDz971fYKCn"
   },
   "source": [
    "#### Задание. Реализуйте обучение в логистической регрессии"
   ]
  },
  {
   "cell_type": "code",
   "execution_count": 10,
   "metadata": {
    "executionInfo": {
     "elapsed": 478,
     "status": "ok",
     "timestamp": 1634753594570,
     "user": {
      "displayName": "Александр Анатольевич Миленькин",
      "photoUrl": "https://lh3.googleusercontent.com/a-/AOh14Gh1yB_mGyNeEBrnQ_bFdA3CLdWCnTPdtAORppSkYg=s64",
      "userId": "12111341805146772458"
     },
     "user_tz": -180
    },
    "id": "bpie5O9zh0Ar"
   },
   "outputs": [],
   "source": [
    "# Разберем пример: применим линейную регрессию цен на жилье в Бостоне."
   ]
  },
  {
   "cell_type": "code",
   "execution_count": 29,
   "metadata": {
    "colab": {
     "base_uri": "https://localhost:8080/",
     "height": 282
    },
    "collapsed": true,
    "executionInfo": {
     "elapsed": 606,
     "status": "ok",
     "timestamp": 1634753655162,
     "user": {
      "displayName": "Александр Анатольевич Миленькин",
      "photoUrl": "https://lh3.googleusercontent.com/a-/AOh14Gh1yB_mGyNeEBrnQ_bFdA3CLdWCnTPdtAORppSkYg=s64",
      "userId": "12111341805146772458"
     },
     "user_tz": -180
    },
    "id": "Z3IzUjAxh0Oy",
    "outputId": "5038bc53-6907-4e3b-bb62-7e4bae068683"
   },
   "outputs": [
    {
     "name": "stderr",
     "output_type": "stream",
     "text": [
      "/opt/homebrew/lib/python3.9/site-packages/sklearn/utils/deprecation.py:87: FutureWarning: Function load_boston is deprecated; `load_boston` is deprecated in 1.0 and will be removed in 1.2.\n",
      "\n",
      "    The Boston housing prices dataset has an ethical problem. You can refer to\n",
      "    the documentation of this function for further details.\n",
      "\n",
      "    The scikit-learn maintainers therefore strongly discourage the use of this\n",
      "    dataset unless the purpose of the code is to study and educate about\n",
      "    ethical issues in data science and machine learning.\n",
      "\n",
      "    In this special case, you can fetch the dataset from the original\n",
      "    source::\n",
      "\n",
      "        import pandas as pd\n",
      "        import numpy as np\n",
      "\n",
      "\n",
      "        data_url = \"http://lib.stat.cmu.edu/datasets/boston\"\n",
      "        raw_df = pd.read_csv(data_url, sep=\"\\s+\", skiprows=22, header=None)\n",
      "        data = np.hstack([raw_df.values[::2, :], raw_df.values[1::2, :2]])\n",
      "        target = raw_df.values[1::2, 2]\n",
      "\n",
      "    Alternative datasets include the California housing dataset (i.e.\n",
      "    :func:`~sklearn.datasets.fetch_california_housing`) and the Ames housing\n",
      "    dataset. You can load the datasets as follows::\n",
      "\n",
      "        from sklearn.datasets import fetch_california_housing\n",
      "        housing = fetch_california_housing()\n",
      "\n",
      "    for the California housing dataset and::\n",
      "\n",
      "        from sklearn.datasets import fetch_openml\n",
      "        housing = fetch_openml(name=\"house_prices\", as_frame=True)\n",
      "\n",
      "    for the Ames housing dataset.\n",
      "    \n",
      "  warnings.warn(msg, category=FutureWarning)\n"
     ]
    },
    {
     "data": {
      "text/plain": [
       "<matplotlib.collections.PathCollection at 0x13416f8b0>"
      ]
     },
     "execution_count": 29,
     "metadata": {},
     "output_type": "execute_result"
    },
    {
     "data": {
      "image/png": "[encoded data removed]",
      "text/plain": [
       "<Figure size 432x288 with 1 Axes>"
      ]
     },
     "metadata": {
      "needs_background": "light"
     },
     "output_type": "display_data"
    }
   ],
   "source": [
    "import matplotlib.pyplot as plt\n",
    "import torch\n",
    "%matplotlib inline\n",
    "\n",
    "from sklearn.datasets import load_boston\n",
    "boston = load_boston()\n",
    "plt.scatter(boston.data[:, -1], boston.target)"
   ]
  },
  {
   "cell_type": "code",
   "execution_count": 71,
   "metadata": {
    "executionInfo": {
     "elapsed": 985,
     "status": "ok",
     "timestamp": 1634754020656,
     "user": {
      "displayName": "Александр Анатольевич Миленькин",
      "photoUrl": "https://lh3.googleusercontent.com/a-/AOh14Gh1yB_mGyNeEBrnQ_bFdA3CLdWCnTPdtAORppSkYg=s64",
      "userId": "12111341805146772458"
     },
     "user_tz": -180
    },
    "id": "PqGRzUWDh0Sz"
   },
   "outputs": [],
   "source": [
    "w = torch.zeros(1, requires_grad=True)\n",
    "b = torch.zeros(1, requires_grad=True)\n",
    "\n",
    "x = torch.tensor(boston.data[:, -1] / 10, dtype=torch.float32)\n",
    "y = torch.tensor(boston.target, dtype=torch.float32)"
   ]
  },
  {
   "cell_type": "code",
   "execution_count": 72,
   "metadata": {
    "executionInfo": {
     "elapsed": 15,
     "status": "ok",
     "timestamp": 1634754020657,
     "user": {
      "displayName": "Александр Анатольевич Миленькин",
      "photoUrl": "https://lh3.googleusercontent.com/a-/AOh14Gh1yB_mGyNeEBrnQ_bFdA3CLdWCnTPdtAORppSkYg=s64",
      "userId": "12111341805146772458"
     },
     "user_tz": -180
    },
    "id": "ZfSUm56t35Id"
   },
   "outputs": [],
   "source": [
    "y_pred = w * x + b"
   ]
  },
  {
   "cell_type": "code",
   "execution_count": 74,
   "metadata": {
    "executionInfo": {
     "elapsed": 15,
     "status": "ok",
     "timestamp": 1634754020657,
     "user": {
      "displayName": "Александр Анатольевич Миленькин",
      "photoUrl": "https://lh3.googleusercontent.com/a-/AOh14Gh1yB_mGyNeEBrnQ_bFdA3CLdWCnTPdtAORppSkYg=s64",
      "userId": "12111341805146772458"
     },
     "user_tz": -180
    },
    "id": "ZfSUm56t35Id"
   },
   "outputs": [],
   "source": [
    "loss = torch.mean((y_pred - y)**2)\n",
    "\n",
    "# propagete gradients\n",
    "loss.backward()"
   ]
  },
  {
   "cell_type": "code",
   "execution_count": 75,
   "metadata": {
    "colab": {
     "base_uri": "https://localhost:8080/"
    },
    "executionInfo": {
     "elapsed": 15,
     "status": "ok",
     "timestamp": 1634754020658,
     "user": {
      "displayName": "Александр Анатольевич Миленькин",
      "photoUrl": "https://lh3.googleusercontent.com/a-/AOh14Gh1yB_mGyNeEBrnQ_bFdA3CLdWCnTPdtAORppSkYg=s64",
      "userId": "12111341805146772458"
     },
     "user_tz": -180
    },
    "id": "t715-JTs3_fl",
    "outputId": "a94bbf90-80e3-40ba-dd13-5dceff5fadd3"
   },
   "outputs": [
    {
     "name": "stdout",
     "output_type": "stream",
     "text": [
      "dL/dw = \n",
      " tensor([-47.3514])\n",
      "dL/db = \n",
      " tensor([-45.0656])\n"
     ]
    }
   ],
   "source": [
    "print(\"dL/dw = \\n\", w.grad)\n",
    "print(\"dL/db = \\n\", b.grad)"
   ]
  },
  {
   "cell_type": "code",
   "execution_count": 76,
   "metadata": {
    "colab": {
     "base_uri": "https://localhost:8080/",
     "height": 282
    },
    "executionInfo": {
     "elapsed": 4381,
     "status": "ok",
     "timestamp": 1634754025032,
     "user": {
      "displayName": "Александр Анатольевич Миленькин",
      "photoUrl": "https://lh3.googleusercontent.com/a-/AOh14Gh1yB_mGyNeEBrnQ_bFdA3CLdWCnTPdtAORppSkYg=s64",
      "userId": "12111341805146772458"
     },
     "user_tz": -180
    },
    "id": "oFUyNOs335d_",
    "outputId": "70c653d7-3c74-49f3-d0f9-6b418385456d"
   },
   "outputs": [
    {
     "data": {
      "image/png": "[encoded data removed]",
      "text/plain": [
       "<Figure size 432x288 with 1 Axes>"
      ]
     },
     "metadata": {
      "needs_background": "light"
     },
     "output_type": "display_data"
    },
    {
     "name": "stdout",
     "output_type": "stream",
     "text": [
      "loss =  44.59417\n"
     ]
    }
   ],
   "source": [
    "from IPython.display import clear_output\n",
    "\n",
    "for i in range(100):\n",
    "\n",
    "    y_pred = w * x + b\n",
    "\n",
    "    # Вычисляем функцию ошибок\n",
    "    loss = torch.mean((y_pred - y)**2)\n",
    "\n",
    "    # Вычисляем градиенты\n",
    "    loss.backward()\n",
    "\n",
    "\n",
    "    # Делаем шаг градиентного спуска по матрице весов\n",
    "    w.data -= 0.05*w.grad.data\n",
    "    b.data -= 0.05*b.grad.data\n",
    "\n",
    "    # обнуляем градиенты\n",
    "    w.grad.data.zero_()\n",
    "    b.grad.data.zero_()\n",
    "\n",
    "\n",
    "\n",
    "    # the rest of code is just bells and whistles\n",
    "    if (i+1) % 5 == 0:\n",
    "        clear_output(True)\n",
    "        plt.scatter(x.data.numpy(), y.data.numpy())\n",
    "        plt.scatter(x.data.numpy(), y_pred.data.numpy(),\n",
    "                    color='orange', linewidth=5)\n",
    "        plt.show()\n",
    "\n",
    "        print(\"loss = \", loss.data.numpy())\n",
    "        if loss.data.numpy() < 0.5:\n",
    "            print(\"Done!\")\n",
    "            break"
   ]
  },
  {
   "cell_type": "code",
   "execution_count": null,
   "metadata": {
    "id": "1tEfEQEs35jw"
   },
   "outputs": [],
   "source": []
  },
  {
   "cell_type": "code",
   "execution_count": null,
   "metadata": {
    "id": "4BnPqcXM35um"
   },
   "outputs": [],
   "source": []
  },
  {
   "cell_type": "markdown",
   "metadata": {
    "id": "N8QDKc1D4HHo"
   },
   "source": [
    "Посмотрим градиенты на примере двухслойной сети"
   ]
  },
  {
   "cell_type": "code",
   "execution_count": null,
   "metadata": {
    "id": "rYWqXsAjYKCn"
   },
   "outputs": [],
   "source": [
    "dtype = torch.float\n",
    "device = torch.device(\"cuda:0\")\n",
    "# device = torch.device(\"cuda:0\") # Раскомментируйте это, чтобы запустить на GPU\n",
    "\n",
    "# N - размер батча; D_in - входной размер;\n",
    "# H - размер скрытого слоя; D_out - размер вывода.\n",
    "N, D_in, H, D_out = 64, 3, 3, 10\n",
    "N, D_in, H, D_out = 64, 3, 3, 10\n",
    "\n",
    "# Создание случайных тензоров для хранения входных и выходных данных.\n",
    "# Настройка requires_grad = False указывает, что нам не нужно вычислять градиенты\n",
    "# по отношению к этим тензорам во время обратного прохода.\n",
    "x = torch.randn(N, D_in, device=device, dtype=dtype)\n",
    "y = torch.randn(N, D_out, device=device, dtype=dtype)\n",
    "\n",
    "# Создаем тензоры случайных весов.\n",
    "# Настройка requires_grad = True указывает, что мы хотим вычислять градиенты с\n",
    "# уважение к этим тензорам во время обратного прохода.\n",
    "\n",
    "# Create random Tensors for weights.\n",
    "# Установка requires_grad = True указывает, что мы хотим вычислить градиенты \n",
    "# относительно этих тензоров во время обратного прохода.\n",
    "w1 = torch.randn(D_in, H, device=device, dtype=dtype, requires_grad=True)\n",
    "w2 = torch.randn(H, D_out, device=device, dtype=dtype, requires_grad=True)"
   ]
  },
  {
   "cell_type": "code",
   "execution_count": null,
   "metadata": {
    "id": "cpDU8Q-LifdW"
   },
   "outputs": [],
   "source": [
    "y_pred = (x @ w1).clamp(min=0).matmul(w2)\n",
    "loss = (y_pred - y).pow(2).sum()\n",
    "\n",
    "# вычисляем градиенты\n",
    "loss.backward()"
   ]
  },
  {
   "cell_type": "code",
   "execution_count": null,
   "metadata": {
    "colab": {
     "base_uri": "https://localhost:8080/"
    },
    "executionInfo": {
     "elapsed": 9,
     "status": "ok",
     "timestamp": 1634748274213,
     "user": {
      "displayName": "Александр Анатольевич Миленькин",
      "photoUrl": "https://lh3.googleusercontent.com/a-/AOh14Gh1yB_mGyNeEBrnQ_bFdA3CLdWCnTPdtAORppSkYg=s64",
      "userId": "12111341805146772458"
     },
     "user_tz": -180
    },
    "id": "T3vfuF-wXS8O",
    "outputId": "ade0853f-d9b0-4c67-e531-c9a6df259452"
   },
   "outputs": [
    {
     "name": "stdout",
     "output_type": "stream",
     "text": [
      "tensor(2626.4126, device='cuda:0', grad_fn=<SumBackward0>)\n"
     ]
    }
   ],
   "source": [
    "print((y_pred - y).pow(2).sum())"
   ]
  },
  {
   "cell_type": "code",
   "execution_count": null,
   "metadata": {
    "colab": {
     "base_uri": "https://localhost:8080/"
    },
    "executionInfo": {
     "elapsed": 23,
     "status": "ok",
     "timestamp": 1634748277070,
     "user": {
      "displayName": "Александр Анатольевич Миленькин",
      "photoUrl": "https://lh3.googleusercontent.com/a-/AOh14Gh1yB_mGyNeEBrnQ_bFdA3CLdWCnTPdtAORppSkYg=s64",
      "userId": "12111341805146772458"
     },
     "user_tz": -180
    },
    "id": "qLkn5C7JYKCp",
    "outputId": "baa352b9-850c-4a2b-8c4c-cc2c33e0c57d"
   },
   "outputs": [
    {
     "data": {
      "text/plain": [
       "(tensor([[ 254.8019, -451.8437,    6.7408],\n",
       "         [-926.5552,  351.9757,  312.4226],\n",
       "         [-104.6052,  643.4433,  107.5146]], device='cuda:0'),\n",
       " tensor([[ 319.5174,   98.4723,  223.2474, -289.7537,   70.6419,   11.7651,\n",
       "           190.8422, -200.4927,   79.3235, -108.9064],\n",
       "         [-254.6006, -444.2792,  103.1230,    9.9585, -274.3484,   51.8044,\n",
       "           115.3173,   74.5749,  110.7029,  191.2002],\n",
       "         [-138.5078, -340.5264,   61.0836,   10.0482, -113.0792,  -19.8032,\n",
       "            25.9946,   60.9164,   25.8636,  136.8344]], device='cuda:0'))"
      ]
     },
     "execution_count": 164,
     "metadata": {},
     "output_type": "execute_result"
    }
   ],
   "source": [
    "w1.grad, w2.grad"
   ]
  },
  {
   "cell_type": "code",
   "execution_count": null,
   "metadata": {
    "colab": {
     "base_uri": "https://localhost:8080/"
    },
    "executionInfo": {
     "elapsed": 378,
     "status": "ok",
     "timestamp": 1634748289045,
     "user": {
      "displayName": "Александр Анатольевич Миленькин",
      "photoUrl": "https://lh3.googleusercontent.com/a-/AOh14Gh1yB_mGyNeEBrnQ_bFdA3CLdWCnTPdtAORppSkYg=s64",
      "userId": "12111341805146772458"
     },
     "user_tz": -180
    },
    "id": "jr19Gh3ZU2Ws",
    "outputId": "e26a89e1-3f37-4705-a7da-3b21231cd693"
   },
   "outputs": [
    {
     "name": "stderr",
     "output_type": "stream",
     "text": [
      "/usr/local/lib/python3.7/dist-packages/ipykernel_launcher.py:1: UserWarning: The .grad attribute of a Tensor that is not a leaf Tensor is being accessed. Its .grad attribute won't be populated during autograd.backward(). If you indeed want the gradient for a non-leaf Tensor, use .retain_grad() on the non-leaf Tensor. If you access the non-leaf Tensor by mistake, make sure you access the leaf Tensor instead. See github.com/pytorch/pytorch/pull/30531 for more information.\n",
      "  \"\"\"Entry point for launching an IPython kernel.\n"
     ]
    }
   ],
   "source": [
    "loss.grad # нет доступа к нелистовым градиентам в дереве AD"
   ]
  },
  {
   "cell_type": "code",
   "execution_count": null,
   "metadata": {
    "id": "9U4CN8EQSrrr"
   },
   "outputs": [],
   "source": [
    "# заставляем переменную запоминать градиенты фнукции потерь\n",
    "y_pred = (x @ w1).clamp(min=0).matmul(w2)\n",
    "y_pred.retain_grad()\n",
    "\n",
    "loss = (y_pred - y).pow(2).sum()\n",
    "loss.retain_grad()\n",
    "\n",
    "loss.backward()"
   ]
  },
  {
   "cell_type": "code",
   "execution_count": null,
   "metadata": {
    "colab": {
     "base_uri": "https://localhost:8080/"
    },
    "executionInfo": {
     "elapsed": 512,
     "status": "ok",
     "timestamp": 1634748322532,
     "user": {
      "displayName": "Александр Анатольевич Миленькин",
      "photoUrl": "https://lh3.googleusercontent.com/a-/AOh14Gh1yB_mGyNeEBrnQ_bFdA3CLdWCnTPdtAORppSkYg=s64",
      "userId": "12111341805146772458"
     },
     "user_tz": -180
    },
    "id": "IKj2jd0LSwI_",
    "outputId": "8c8a60fa-bd20-4025-a502-bd38c4392fdc"
   },
   "outputs": [
    {
     "data": {
      "text/plain": [
       "tensor(1., device='cuda:0')"
      ]
     },
     "execution_count": 167,
     "metadata": {},
     "output_type": "execute_result"
    }
   ],
   "source": [
    "loss.grad"
   ]
  },
  {
   "cell_type": "code",
   "execution_count": null,
   "metadata": {
    "id": "CYkrFbD5YKCq"
   },
   "outputs": [],
   "source": [
    "x.grad # не требует градиента"
   ]
  },
  {
   "cell_type": "code",
   "execution_count": null,
   "metadata": {
    "id": "ouMNnbtXYKCr"
   },
   "outputs": [],
   "source": [
    "y.grad # не требует градиента"
   ]
  },
  {
   "cell_type": "markdown",
   "metadata": {
    "id": "DIsqxWIvYKCs"
   },
   "source": [
    "**Замечание:** Градиенты помещаются в поле `.grad` тензоров, на которых они вычисляются."
   ]
  },
  {
   "cell_type": "code",
   "execution_count": null,
   "metadata": {
    "colab": {
     "base_uri": "https://localhost:8080/"
    },
    "executionInfo": {
     "elapsed": 419,
     "status": "ok",
     "timestamp": 1634748344564,
     "user": {
      "displayName": "Александр Анатольевич Миленькин",
      "photoUrl": "https://lh3.googleusercontent.com/a-/AOh14Gh1yB_mGyNeEBrnQ_bFdA3CLdWCnTPdtAORppSkYg=s64",
      "userId": "12111341805146772458"
     },
     "user_tz": -180
    },
    "id": "5wU_TFedYKCt",
    "outputId": "976ca4fb-6247-4452-9322-da022fe43fcc"
   },
   "outputs": [
    {
     "data": {
      "text/plain": [
       "tensor([[ 0.4061, -0.5765,  0.3742],\n",
       "        [-1.7287,  1.3329,  1.6781],\n",
       "        [-0.7951,  1.3583,  0.5118]], device='cuda:0', requires_grad=True)"
      ]
     },
     "execution_count": 170,
     "metadata": {},
     "output_type": "execute_result"
    }
   ],
   "source": [
    "w1"
   ]
  },
  {
   "cell_type": "code",
   "execution_count": null,
   "metadata": {
    "id": "UhhUL-mwTKaZ"
   },
   "outputs": [],
   "source": [
    "with torch.no_grad():\n",
    "  \n",
    "    pass"
   ]
  },
  {
   "cell_type": "markdown",
   "metadata": {
    "id": "J094WEHQYKCv"
   },
   "source": [
    "## Дополнительные материалы"
   ]
  },
  {
   "cell_type": "markdown",
   "metadata": {
    "id": "ftVUTfvUYKCv"
   },
   "source": [
    "*1). Official PyTorch tutorials: https://pytorch.org/tutorials/beginner/blitz/tensor_tutorial.html#sphx-glr-beginner-blitz-tensor-tutorial-py*"
   ]
  },
  {
   "cell_type": "markdown",
   "metadata": {
    "id": "ovymy5F6YKCw"
   },
   "source": [
    "*2). arXiv article about the deep learning frameworks comparison: https://arxiv.org/pdf/1511.06435.pdf*"
   ]
  },
  {
   "cell_type": "markdown",
   "metadata": {
    "id": "VXEEowQAYKCx"
   },
   "source": [
    "*3). Useful repo with different tutorials: https://github.com/yunjey/pytorch-tutorial*"
   ]
  },
  {
   "cell_type": "markdown",
   "metadata": {
    "id": "9cROZcrYYKC0"
   },
   "source": [
    "*4). Facebook AI Research (main contributor of PyTorch) website: https://facebook.ai/developers/tools*"
   ]
  },
  {
   "cell_type": "code",
   "execution_count": null,
   "metadata": {
    "id": "tNV-701mhorZ"
   },
   "outputs": [],
   "source": []
  },
  {
   "cell_type": "code",
   "execution_count": null,
   "metadata": {
    "id": "E6q3LRiniE13"
   },
   "outputs": [],
   "source": []
  },
  {
   "cell_type": "code",
   "execution_count": null,
   "metadata": {
    "id": "cZSzhGn1l2xi"
   },
   "outputs": [],
   "source": []
  }
 ],
 "metadata": {
  "accelerator": "GPU",
  "colab": {
   "collapsed_sections": [],
   "name": "[seminar]pytorch_basics.ipynb",
   "provenance": [
    {
     "file_id": "1Aq2WDr8ocV0DFHAxLu7wPOai06a3HyV_",
     "timestamp": 1602968047490
    },
    {
     "file_id": "1YHD8xFT3QC5H6MZwnmv89Q93k1k0MfCV",
     "timestamp": 1602951080295
    },
    {
     "file_id": "1xBkndRb9dYUgCtS98x2bCF170VFMMubl",
     "timestamp": 1572021903909
    }
   ]
  },
  "kernelspec": {
   "display_name": "Python 3 (ipykernel)",
   "language": "python",
   "name": "python3"
  },
  "language_info": {
   "codemirror_mode": {
    "name": "ipython",
    "version": 3
   },
   "file_extension": ".py",
   "mimetype": "text/x-python",
   "name": "python",
   "nbconvert_exporter": "python",
   "pygments_lexer": "ipython3",
   "version": "3.9.10"
  }
 },
 "nbformat": 4,
 "nbformat_minor": 1
}
