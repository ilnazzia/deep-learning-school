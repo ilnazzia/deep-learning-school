{
 "cells": [
  {
   "cell_type": "markdown",
   "metadata": {
    "id": "sSyQnExiOOcf"
   },
   "source": [
    "<p style=\"align: center;\"><img align=center src=\"https://s8.hostingkartinok.com/uploads/images/2018/08/308b49fcfbc619d629fe4604bceb67ac.jpg\" width=550 height=450/></p>\n",
    "\n",
    "<h3 style=\"text-align: center;\"><b>\"Глубокое обучение\". Продвинутый поток</b></h3>\n",
    "\n",
    "<h2 style=\"text-align: center;\"><b>Семинар 6. PyTorch. Создание и обучение нейронных сетей </b></h2>\n"
   ]
  },
  {
   "cell_type": "markdown",
   "metadata": {
    "id": "D4GdBvkZOp8M"
   },
   "source": [
    "# Обучение нейронной сети с использованием PyTorch\n",
    "\n",
    "В этом блокноте мы создадим и обучим простую нейронную сеть с помощью PyTorch. Наша цель - показать основы фреймворка Torch и достичь простого понимания того, как выглядит решение разных задач с помощью нейронных сетей."
   ]
  },
  {
   "cell_type": "code",
   "execution_count": 13,
   "metadata": {
    "executionInfo": {
     "elapsed": 25920,
     "status": "ok",
     "timestamp": 1634750757877,
     "user": {
      "displayName": "Александр Анатольевич Миленькин",
      "photoUrl": "https://lh3.googleusercontent.com/a-/AOh14Gh1yB_mGyNeEBrnQ_bFdA3CLdWCnTPdtAORppSkYg=s64",
      "userId": "12111341805146772458"
     },
     "user_tz": -180
    },
    "id": "x4kC-U8dOpZU"
   },
   "outputs": [],
   "source": [
    "import torch  "
   ]
  },
  {
   "cell_type": "code",
   "execution_count": 14,
   "metadata": {
    "colab": {
     "base_uri": "https://localhost:8080/"
    },
    "executionInfo": {
     "elapsed": 9,
     "status": "ok",
     "timestamp": 1634750757878,
     "user": {
      "displayName": "Александр Анатольевич Миленькин",
      "photoUrl": "https://lh3.googleusercontent.com/a-/AOh14Gh1yB_mGyNeEBrnQ_bFdA3CLdWCnTPdtAORppSkYg=s64",
      "userId": "12111341805146772458"
     },
     "user_tz": -180
    },
    "id": "DiMnj_xTWFW3",
    "outputId": "4e405f06-3e91-41d9-81ee-f719362b2472"
   },
   "outputs": [
    {
     "data": {
      "text/plain": [
       "device(type='cuda', index=0)"
      ]
     },
     "execution_count": 14,
     "metadata": {},
     "output_type": "execute_result"
    }
   ],
   "source": [
    "# Определяем на чем у нас будут производиться вычисления (cuda/cpu)\n",
    "device = torch.device('cuda:0') if torch.cuda.is_available else torch.device('cpu')  \n",
    "device"
   ]
  },
  {
   "cell_type": "code",
   "execution_count": 15,
   "metadata": {},
   "outputs": [
    {
     "data": {
      "text/plain": [
       "device(type='cpu')"
      ]
     },
     "execution_count": 15,
     "metadata": {},
     "output_type": "execute_result"
    }
   ],
   "source": [
    "torch.device('cpu') "
   ]
  },
  {
   "cell_type": "markdown",
   "metadata": {
    "id": "t4BjZJQ2PdGw"
   },
   "source": [
    "\n",
    "\n",
    "## Подготовка датасета\n",
    "\n",
    "Здесь мы узнаем некоторые базовые функции и классы подготовки данных из **PyTorch** как:\n",
    "\n",
    "- `torch.utils.data.Dataset` and `torch.utils.data.DataLoader`\n",
    "- dataset downloading api\n",
    "\n",
    "Для начала мы определим нашу проблему. Здесь мы загружаем набор данных MNIST (с PyTorch API)\n",
    "\n",
    "MNIST:\n",
    "- 28x28 изображений из `0`, `1`, .. `9`\n",
    "- каждый пиксель серый (float value in [0, 1))\n",
    "- targets это целое значение в диапазоне [0, 9] (10 классов)\n",
    "- объекты ($x_i$, $y_i$), где $x_i$ размера (1, 28, 28), $y_i$ это значение int\n",
    "\n",
    "Для наших целей мы вытяним входные данные ($ x $), чтобы наши данные во время обучения имели формы:\n",
    "\n",
    "- `x_batch` размера `(batch_size, 784)`\n",
    "- `y_batch` размера `(batch_size)`\n",
    "\n"
   ]
  },
  {
   "cell_type": "code",
   "execution_count": 16,
   "metadata": {
    "executionInfo": {
     "elapsed": 6,
     "status": "ok",
     "timestamp": 1634750757878,
     "user": {
      "displayName": "Александр Анатольевич Миленькин",
      "photoUrl": "https://lh3.googleusercontent.com/a-/AOh14Gh1yB_mGyNeEBrnQ_bFdA3CLdWCnTPdtAORppSkYg=s64",
      "userId": "12111341805146772458"
     },
     "user_tz": -180
    },
    "id": "4-L2wfz7Pczm"
   },
   "outputs": [],
   "source": [
    "from torchvision.datasets import MNIST\n",
    "import torchvision.transforms as tfs"
   ]
  },
  {
   "cell_type": "code",
   "execution_count": 17,
   "metadata": {
    "executionInfo": {
     "elapsed": 40,
     "status": "ok",
     "timestamp": 1634750759717,
     "user": {
      "displayName": "Александр Анатольевич Миленькин",
      "photoUrl": "https://lh3.googleusercontent.com/a-/AOh14Gh1yB_mGyNeEBrnQ_bFdA3CLdWCnTPdtAORppSkYg=s64",
      "userId": "12111341805146772458"
     },
     "user_tz": -180
    },
    "id": "67geRKgxUKcV"
   },
   "outputs": [],
   "source": [
    "data_tfs = tfs.Compose([\n",
    "  tfs.ToTensor(),\n",
    "  tfs.Normalize((0.5), (0.5))\n",
    "])"
   ]
  },
  {
   "cell_type": "code",
   "execution_count": 18,
   "metadata": {
    "colab": {
     "base_uri": "https://localhost:8080/",
     "height": 467,
     "referenced_widgets": [
      "00013dc198644cc7b60a2205fabcfa06",
      "cea003fada754b7a9e1a2e91571614d1",
      "a8006e304cd14bb7849c934262965e7d",
      "6859abdfde5f4b79ba5a24e882b3375f",
      "8aa04af163294be5917fcdc1d3c23532",
      "784c7aba575645c090ac1ed1b0468a93",
      "38fd7fa23ba44407885bcc8aa63c97bd",
      "fd459523dfa0494b99911f59e4ea1670",
      "c128fcaebc904193874ef8067ccb17f1",
      "051093fdc05144bc94ae60cf793660cf",
      "c379c399cee14c90866b84dd98c7387b",
      "284568611e2c49a2a556fee02d44c878",
      "c86a9f9d72e34155a99040b25aa181af",
      "e413d45b251b4cfb945758ea82cf1d76",
      "9d51af91dd514a93ae5ac4b378a2e053",
      "ffb7a36fbe5b4debb2938314d1556df1",
      "85c7dae5b8544f2e8700673c3b657f8a",
      "99898108ef484ce7bbf9abfd6cee291c",
      "8c41025ec98c48aea3dfd2490ee958aa",
      "bb1d02ad5e9d41338c47dff87e6cdd9e",
      "f31aa31694e24afaa4678ce5b74cdd26",
      "298ba64bbc58410982d63b5c04b05b78",
      "3f87a74a071743edbbde8d9bdff3d822",
      "9e2b1208fe20424ab7426941bf0ae4bb",
      "9fddba72e47b4b888a0f98f476f3724a",
      "4691e74d617e4f8ebb9a32f630bc176d",
      "795b67b762a1464cb35d9eb5b5e07955",
      "dac7334dba4044cfa41a2aad7dfcc66f",
      "d8e87673c3b240e5a0cd117983258f26",
      "fb0c6226b6aa47c9999cf46ad69e8b3a",
      "d9a4cd5ee2094e77a5624d6c2139b2f9",
      "8989cf28d15948299c41bb9d17ed2696",
      "638a5d5e4ab143fa83f322cdde640468",
      "bfeca5aec53848f79a00549e1ad32fb4",
      "c6d2dbf5711649d4b3514ba9485d776e",
      "db799f82ecec4402a6e6173d8208860e",
      "7733f7252aee4689beab2f194036822e",
      "063dc8474fc240358319fe021a6deb7b",
      "a646f19015444b86bd24bf73c74cce21",
      "c3ab69fcf5a1413f98e3c04628e221fd",
      "7dd7b27aa33143be858f20e7657adb1d",
      "378556f198084086a2807888603d87b7",
      "fe8ec0853cb1484c878578b59050c261",
      "7444b4438cfe4cfebfcdadea2ee4cd77"
     ]
    },
    "executionInfo": {
     "elapsed": 2538,
     "status": "ok",
     "timestamp": 1634750762216,
     "user": {
      "displayName": "Александр Анатольевич Миленькин",
      "photoUrl": "https://lh3.googleusercontent.com/a-/AOh14Gh1yB_mGyNeEBrnQ_bFdA3CLdWCnTPdtAORppSkYg=s64",
      "userId": "12111341805146772458"
     },
     "user_tz": -180
    },
    "id": "KrrlpkzbQxbl",
    "outputId": "55bcb79c-e43b-4c07-9450-397dbb555a1f"
   },
   "outputs": [],
   "source": [
    "# install for train and test\n",
    "root = './'\n",
    "train = MNIST(root, train=True,  transform=data_tfs, download=True)\n",
    "test  = MNIST(root, train=False, transform=data_tfs, download=True)"
   ]
  },
  {
   "cell_type": "code",
   "execution_count": 19,
   "metadata": {
    "colab": {
     "base_uri": "https://localhost:8080/"
    },
    "executionInfo": {
     "elapsed": 8,
     "status": "ok",
     "timestamp": 1634750762217,
     "user": {
      "displayName": "Александр Анатольевич Миленькин",
      "photoUrl": "https://lh3.googleusercontent.com/a-/AOh14Gh1yB_mGyNeEBrnQ_bFdA3CLdWCnTPdtAORppSkYg=s64",
      "userId": "12111341805146772458"
     },
     "user_tz": -180
    },
    "id": "X4gMHMSBTdEm",
    "outputId": "d761cdd4-6710-4780-dc53-9c5fd8d65548"
   },
   "outputs": [
    {
     "name": "stdout",
     "output_type": "stream",
     "text": [
      "Data size:\n",
      "\t train 60000,\n",
      "\t test 10000\n",
      "Data shape:\n",
      "\t features torch.Size([1, 28, 28]),\n",
      "\t target <class 'int'>\n"
     ]
    }
   ],
   "source": [
    "print(f'Data size:\\n\\t train {len(train)},\\n\\t test {len(test)}')\n",
    "print(f'Data shape:\\n\\t features {train[0][0].shape},\\n\\t target {type(test[0][1])}')"
   ]
  },
  {
   "cell_type": "markdown",
   "metadata": {
    "id": "omdMTw-XTDz5"
   },
   "source": [
    "Заметьте! Нам не нужно реализовывать batch loader самостоятельно. Давайте воспользуемся его реализацией в torch, которая называется `DataLoader` из `torch.utils.data`."
   ]
  },
  {
   "cell_type": "code",
   "execution_count": 20,
   "metadata": {
    "executionInfo": {
     "elapsed": 1013,
     "status": "ok",
     "timestamp": 1634750870562,
     "user": {
      "displayName": "Александр Анатольевич Миленькин",
      "photoUrl": "https://lh3.googleusercontent.com/a-/AOh14Gh1yB_mGyNeEBrnQ_bFdA3CLdWCnTPdtAORppSkYg=s64",
      "userId": "12111341805146772458"
     },
     "user_tz": -180
    },
    "id": "oTbQiE7DTDMG"
   },
   "outputs": [],
   "source": [
    "from torch.utils.data import DataLoader\n",
    "\n",
    "batch_size = 128\n",
    "\n",
    "train_loader = DataLoader(train, batch_size=batch_size, drop_last=True)\n",
    "test_loader = DataLoader(test, batch_size=batch_size, drop_last=True)"
   ]
  },
  {
   "cell_type": "code",
   "execution_count": 37,
   "metadata": {
    "colab": {
     "base_uri": "https://localhost:8080/"
    },
    "executionInfo": {
     "elapsed": 5,
     "status": "ok",
     "timestamp": 1634750871646,
     "user": {
      "displayName": "Александр Анатольевич Миленькин",
      "photoUrl": "https://lh3.googleusercontent.com/a-/AOh14Gh1yB_mGyNeEBrnQ_bFdA3CLdWCnTPdtAORppSkYg=s64",
      "userId": "12111341805146772458"
     },
     "user_tz": -180
    },
    "id": "MkQ86w8fXFXL",
    "outputId": "0925248b-e68c-4bdb-9c9e-2d9354b8acd0"
   },
   "outputs": [
    {
     "data": {
      "text/plain": [
       "(torch.Size([128, 1, 28, 28]), torch.Size([128]))"
      ]
     },
     "execution_count": 37,
     "metadata": {},
     "output_type": "execute_result"
    }
   ],
   "source": [
    "x_batch, y_batch = next(iter(train_loader))\n",
    "x_batch.shape, y_batch.shape"
   ]
  },
  {
   "cell_type": "markdown",
   "metadata": {
    "id": "4brdJhe0XeKm"
   },
   "source": [
    "Наконец, мы подготовили наши данные, поэтому теперь мы создадим некоторую модель для классификации изображений!"
   ]
  },
  {
   "cell_type": "markdown",
   "metadata": {
    "id": "-niriIktOclz"
   },
   "source": [
    "## Модель и обучение (of abnormal people)\n",
    "\n",
    "\n",
    "Теперь посмотрим, как **torch** вычисляет функции градиента во время вычисления выражения. Используя метод `.backward ()` для выражени, **мы передаем граф вычисления градиента до листьев**, которые являются надежными для параметров нашей модели.\n",
    "\n",
    "Таким образом, мы используем эти знания, чтобы найти оптимальные веса некоторой модели, которая представлена ​​некоторым выражением.\n",
    "\n",
    "Предположем,\n",
    "1. Мы хотим обучить линейную модель.\n",
    "2. Для каждого класса мы используем собственные веса для вычисления `logits` (логитов).\n",
    "3. Мы используем `softmax` на логитах для вероятностей каждого класса.\n",
    "4. Обучайте партии с помощью `sgd`."
   ]
  },
  {
   "cell_type": "code",
   "execution_count": 38,
   "metadata": {
    "executionInfo": {
     "elapsed": 1238,
     "status": "ok",
     "timestamp": 1634750929868,
     "user": {
      "displayName": "Александр Анатольевич Миленькин",
      "photoUrl": "https://lh3.googleusercontent.com/a-/AOh14Gh1yB_mGyNeEBrnQ_bFdA3CLdWCnTPdtAORppSkYg=s64",
      "userId": "12111341805146772458"
     },
     "user_tz": -180
    },
    "id": "ZwQ0rR_EZiGL"
   },
   "outputs": [],
   "source": [
    "features = 784\n",
    "classes = 10"
   ]
  },
  {
   "cell_type": "code",
   "execution_count": 161,
   "metadata": {
    "colab": {
     "base_uri": "https://localhost:8080/"
    },
    "executionInfo": {
     "elapsed": 8,
     "status": "ok",
     "timestamp": 1634750929869,
     "user": {
      "displayName": "Александр Анатольевич Миленькин",
      "photoUrl": "https://lh3.googleusercontent.com/a-/AOh14Gh1yB_mGyNeEBrnQ_bFdA3CLdWCnTPdtAORppSkYg=s64",
      "userId": "12111341805146772458"
     },
     "user_tz": -180
    },
    "id": "KZ-qXVG5mVq3",
    "outputId": "73d66792-a26a-4dd0-f7e7-8c6054aec5e8"
   },
   "outputs": [
    {
     "data": {
      "text/plain": [
       "tensor([[-0.0082,  0.0122, -0.0095,  ..., -0.0175,  0.0117, -0.0155],\n",
       "        [ 0.0143,  0.0042, -0.0233,  ..., -0.0027, -0.0177, -0.0253],\n",
       "        [-0.0241, -0.0188, -0.0167,  ..., -0.0343,  0.0261,  0.0344],\n",
       "        ...,\n",
       "        [-0.0045,  0.0097, -0.0155,  ...,  0.0340, -0.0323, -0.0005],\n",
       "        [-0.0314, -0.0151, -0.0202,  ..., -0.0177, -0.0108, -0.0253],\n",
       "        [ 0.0098,  0.0279, -0.0091,  ..., -0.0050,  0.0087,  0.0287]],\n",
       "       requires_grad=True)"
      ]
     },
     "execution_count": 161,
     "metadata": {},
     "output_type": "execute_result"
    }
   ],
   "source": [
    "W = torch.FloatTensor(features, classes).uniform_(-1, 1) / features**0.5\n",
    "W.requires_grad_()"
   ]
  },
  {
   "cell_type": "markdown",
   "metadata": {
    "id": "PUVgNd-LaRhZ"
   },
   "source": [
    "SGD цикл обучения"
   ]
  },
  {
   "cell_type": "code",
   "execution_count": 163,
   "metadata": {
    "executionInfo": {
     "elapsed": 12,
     "status": "ok",
     "timestamp": 1634750933853,
     "user": {
      "displayName": "Александр Анатольевич Миленькин",
      "photoUrl": "https://lh3.googleusercontent.com/a-/AOh14Gh1yB_mGyNeEBrnQ_bFdA3CLdWCnTPdtAORppSkYg=s64",
      "userId": "12111341805146772458"
     },
     "user_tz": -180
    },
    "id": "v6lQU1rgaWjY"
   },
   "outputs": [],
   "source": [
    "epochs = 10\n",
    "lr=1e-2\n",
    "history = []"
   ]
  },
  {
   "cell_type": "code",
   "execution_count": 93,
   "metadata": {
    "executionInfo": {
     "elapsed": 4,
     "status": "ok",
     "timestamp": 1634750937990,
     "user": {
      "displayName": "Александр Анатольевич Миленькин",
      "photoUrl": "https://lh3.googleusercontent.com/a-/AOh14Gh1yB_mGyNeEBrnQ_bFdA3CLdWCnTPdtAORppSkYg=s64",
      "userId": "12111341805146772458"
     },
     "user_tz": -180
    },
    "id": "QMBcROViilwY"
   },
   "outputs": [],
   "source": [
    "import numpy as np\n",
    "from torch.nn.functional import cross_entropy\n",
    "\n",
    "#КРОСС-ЭНТРОПИЯ ЗДЕСЬ БЕРЁТСЯ ОТ ЛОГИТОВ, А НЕ ОТ ВЕРОЯТНОСТЕЙ!"
   ]
  },
  {
   "cell_type": "code",
   "execution_count": 164,
   "metadata": {
    "colab": {
     "base_uri": "https://localhost:8080/"
    },
    "executionInfo": {
     "elapsed": 34891,
     "status": "ok",
     "timestamp": 1634751073663,
     "user": {
      "displayName": "Александр Анатольевич Миленькин",
      "photoUrl": "https://lh3.googleusercontent.com/a-/AOh14Gh1yB_mGyNeEBrnQ_bFdA3CLdWCnTPdtAORppSkYg=s64",
      "userId": "12111341805146772458"
     },
     "user_tz": -180
    },
    "id": "V1Cqa86BOWu1",
    "outputId": "0d9044fa-96d2-4e81-c1b5-fc9a7ebf8c27"
   },
   "outputs": [
    {
     "name": "stdout",
     "output_type": "stream",
     "text": [
      "1,\t loss: 0.1939122974872589\n",
      "2,\t loss: 0.13869407773017883\n",
      "3,\t loss: 0.11894482374191284\n",
      "4,\t loss: 0.10838360339403152\n",
      "5,\t loss: 0.10159105062484741\n",
      "6,\t loss: 0.09673872590065002\n",
      "7,\t loss: 0.09303468465805054\n",
      "8,\t loss: 0.09007743000984192\n",
      "9,\t loss: 0.08763949573040009\n",
      "10,\t loss: 0.0855814591050148\n"
     ]
    }
   ],
   "source": [
    "for i in range(epochs):\n",
    "  for x_batch, y_batch in train_loader:\n",
    "    \n",
    "    # загружаем батч данных (вытянутый в линию)\n",
    "    x_batch = x_batch.reshape(x_batch.shape[0], -1)\n",
    "\n",
    "    # вычисляем функцию потерь (log loss, также известная как кросс-энтропия)\n",
    "    logits = x_batch @ W\n",
    "    probabilities = torch.exp(logits) / torch.exp(logits).sum(dim=1, keepdims=True)\n",
    "    \n",
    "    loss = -torch.log(probabilities[range(batch_size), y_batch]).mean()\n",
    "    history.append(loss.item())\n",
    "\n",
    "    # вычисляем градиенты\n",
    "    loss.backward()\n",
    "\n",
    "    # делаем шаг градиентного спуска\n",
    "    grad = W.grad\n",
    "    with torch.no_grad():\n",
    "      W -= lr * grad\n",
    "    W.grad.zero_()\n",
    "\n",
    "  print(f'{i+1},\\t loss: {history[-1]}')"
   ]
  },
  {
   "cell_type": "markdown",
   "metadata": {
    "id": "a4_T6SIEevn6"
   },
   "source": [
    "И, конечно же, мы может построить график для loss (функции потерь) во время обучения."
   ]
  },
  {
   "cell_type": "code",
   "execution_count": 99,
   "metadata": {
    "executionInfo": {
     "elapsed": 594,
     "status": "ok",
     "timestamp": 1634751175791,
     "user": {
      "displayName": "Александр Анатольевич Миленькин",
      "photoUrl": "https://lh3.googleusercontent.com/a-/AOh14Gh1yB_mGyNeEBrnQ_bFdA3CLdWCnTPdtAORppSkYg=s64",
      "userId": "12111341805146772458"
     },
     "user_tz": -180
    },
    "id": "K-pkgEBtfyIU"
   },
   "outputs": [],
   "source": [
    "import matplotlib.pyplot as plt"
   ]
  },
  {
   "cell_type": "code",
   "execution_count": 165,
   "metadata": {
    "colab": {
     "base_uri": "https://localhost:8080/",
     "height": 458
    },
    "executionInfo": {
     "elapsed": 19,
     "status": "ok",
     "timestamp": 1634751178140,
     "user": {
      "displayName": "Александр Анатольевич Миленькин",
      "photoUrl": "https://lh3.googleusercontent.com/a-/AOh14Gh1yB_mGyNeEBrnQ_bFdA3CLdWCnTPdtAORppSkYg=s64",
      "userId": "12111341805146772458"
     },
     "user_tz": -180
    },
    "id": "ISFcr5Pab8tZ",
    "outputId": "c6cb6418-f4d5-40df-cffa-69795b61e73c"
   },
   "outputs": [
    {
     "data": {
      "image/png": "[encoded data removed]",
      "text/plain": [
       "<Figure size 720x504 with 1 Axes>"
      ]
     },
     "metadata": {
      "needs_background": "light"
     },
     "output_type": "display_data"
    }
   ],
   "source": [
    "plt.figure(figsize=(10, 7))\n",
    "\n",
    "plt.plot(history)\n",
    "\n",
    "plt.title('Loss by batch iterations')\n",
    "plt.ylabel('Entropy Loss')\n",
    "plt.xlabel('batches')\n",
    "\n",
    "plt.show()"
   ]
  },
  {
   "cell_type": "markdown",
   "metadata": {
    "id": "zDAEdkQsovxN"
   },
   "source": [
    "Посмотрим некоторые показатели качества для нашей линейной модели"
   ]
  },
  {
   "cell_type": "code",
   "execution_count": 168,
   "metadata": {
    "executionInfo": {
     "elapsed": 1293,
     "status": "ok",
     "timestamp": 1634751198715,
     "user": {
      "displayName": "Александр Анатольевич Миленькин",
      "photoUrl": "https://lh3.googleusercontent.com/a-/AOh14Gh1yB_mGyNeEBrnQ_bFdA3CLdWCnTPdtAORppSkYg=s64",
      "userId": "12111341805146772458"
     },
     "user_tz": -180
    },
    "id": "PNtRCtcJfktA"
   },
   "outputs": [],
   "source": [
    "from sklearn.metrics import accuracy_score"
   ]
  },
  {
   "cell_type": "code",
   "execution_count": 169,
   "metadata": {
    "colab": {
     "base_uri": "https://localhost:8080/"
    },
    "executionInfo": {
     "elapsed": 2022,
     "status": "ok",
     "timestamp": 1634751200730,
     "user": {
      "displayName": "Александр Анатольевич Миленькин",
      "photoUrl": "https://lh3.googleusercontent.com/a-/AOh14Gh1yB_mGyNeEBrnQ_bFdA3CLdWCnTPdtAORppSkYg=s64",
      "userId": "12111341805146772458"
     },
     "user_tz": -180
    },
    "id": "GwR-p1UXo-PT",
    "outputId": "2c18ddba-1f21-4424-a910-942ce9d90ec5"
   },
   "outputs": [
    {
     "name": "stdout",
     "output_type": "stream",
     "text": [
      "Test accuracy 0.912\n"
     ]
    }
   ],
   "source": [
    "acc = 0\n",
    "batches = 0\n",
    "\n",
    "for x_batch, y_batch in test_loader:\n",
    "  # загружаем батч данных (вытянутый в линию)\n",
    "  batches += 1\n",
    "  x_batch = x_batch.view(x_batch.shape[0], -1)\n",
    "  y_batch = y_batch\n",
    "\n",
    "  preds = torch.argmax(x_batch @ W, dim=1)\n",
    "  acc += (preds==y_batch).cpu().numpy().mean()\n",
    "\n",
    "print(f'Test accuracy {acc / batches:.3}')"
   ]
  },
  {
   "cell_type": "markdown",
   "metadata": {
    "id": "Dmr2DLSxqGQx"
   },
   "source": [
    "В результате теперь мы видим, что каждая переменная или тензор имеет свои собственные `grad` и `grad_fn`. Эта часть показала, что мы можем напрямую манипулировать ими. Также это очень неудобно, но иногда мы можем получить доступ к такой гибкости.\n",
    "\n",
    "Конечно, PyTorch имеет более высокоуровневый способ работы с весами и градиентами, чем мы рассмотрели выше. В следующей части мы познакомимся с более высоким уровнем построения и обучения нейронных сетей. \n"
   ]
  },
  {
   "cell_type": "markdown",
   "metadata": {
    "id": "wgsY-55IrCGQ"
   },
   "source": [
    "## Модель\n",
    "\n",
    "PyTorch - это гибкий фреймворк для построения любой нейронной сети.\n",
    "\n",
    "Вот таблица сравнения:\n",
    "\n",
    "```\n",
    "| API             | Flexibility | Convenience |,\n",
    "|-----------------|-------------|-------------|,\n",
    "| Barebone        | High        | Low         |,\n",
    "| `nn.Module`     | High        | Medium      |,\n",
    "| `nn.Sequential` | Low         | High        |\n",
    "```"
   ]
  },
  {
   "cell_type": "markdown",
   "metadata": {
    "id": "v5JkAMkRr7Z9"
   },
   "source": [
    "1. barebone - это подход, при котором мы напрямую манипулируем тернсорами. В приведенном выше примере у нас была целевая функция, напрямую выраженная весами. Если мы реализумем этот метод с использованием классов, мы получим API такого уровня: **На этом уровне мы сами кодируем модули**\n",
    "\n",
    "2. [`nn.Module`] (https://pytorch.org/docs/stable/nn.html) - родительский класс для многих модулей, представленных PyTorch. Их много. Их достаточно, чтобы использовать их в готовом виде с необходимыми параметрами. В основном мы используем:\n",
    "\n",
    "- `nn.Linear`\n",
    "- `nn.Softmax`, `nn.LogSoftmax`\n",
    "- `nn.ReLU`, `nn.ELU`, `nn.LeakyReLU`\n",
    "- `nn.Tanh`, `nn.Sigmoid`\n",
    "- `nn.LSTM`, `nn.GRU`\n",
    "- `nn.Conv1d`, `nn.Conv2d`\n",
    "- `nn.MaxPool1d`, `nn.AdaptiveMaxPool1d` and others pooling\n",
    "- `nn.BatchNorm1d`, `nn.BatchNorm2d`\n",
    "- `nn.Dropout`\n",
    "- losses: `nn.CrossEntropyLoss`, `nn.NLLLoss`, `nn.MSELoss`\n",
    "- etc\n",
    "\n",
    "\n",
    "3. `nn.Sequential` - это не более чем последовательность различных модулей на основе` nn.Module`. Они инициируются списком модулей, где выходные данные одного модуля идут в качестве входных данных для следующего по порядку.\n",
    "\n",
    "\n",
    "Давайте **разработаем простую последовательность** для классификацию MNIST с использованием **модели** двух линейных слоев и `nn.Sequential`.\n"
   ]
  },
  {
   "cell_type": "code",
   "execution_count": 173,
   "metadata": {
    "executionInfo": {
     "elapsed": 521,
     "status": "ok",
     "timestamp": 1634751540448,
     "user": {
      "displayName": "Александр Анатольевич Миленькин",
      "photoUrl": "https://lh3.googleusercontent.com/a-/AOh14Gh1yB_mGyNeEBrnQ_bFdA3CLdWCnTPdtAORppSkYg=s64",
      "userId": "12111341805146772458"
     },
     "user_tz": -180
    },
    "id": "V4d3LntkwSyk"
   },
   "outputs": [],
   "source": [
    "import torch.nn as nn\n",
    "from torchsummary import summary"
   ]
  },
  {
   "cell_type": "code",
   "execution_count": 176,
   "metadata": {
    "colab": {
     "base_uri": "https://localhost:8080/"
    },
    "executionInfo": {
     "elapsed": 14709,
     "status": "ok",
     "timestamp": 1634751555726,
     "user": {
      "displayName": "Александр Анатольевич Миленькин",
      "photoUrl": "https://lh3.googleusercontent.com/a-/AOh14Gh1yB_mGyNeEBrnQ_bFdA3CLdWCnTPdtAORppSkYg=s64",
      "userId": "12111341805146772458"
     },
     "user_tz": -180
    },
    "id": "1EAghRDFwcCM",
    "outputId": "8c511c38-973c-4c28-c65e-36cf2f4919c3"
   },
   "outputs": [
    {
     "data": {
      "text/plain": [
       "Sequential(\n",
       "  (0): Linear(in_features=784, out_features=64, bias=True)\n",
       "  (1): ReLU()\n",
       "  (2): Linear(in_features=64, out_features=10, bias=True)\n",
       ")"
      ]
     },
     "execution_count": 176,
     "metadata": {},
     "output_type": "execute_result"
    }
   ],
   "source": [
    "model = nn.Sequential(\n",
    "  nn.Linear(features, 64),\n",
    "  nn.ReLU(),\n",
    "  nn.Linear(64, classes)\n",
    "  \n",
    "  #НЕ НУЖНЕН СОФТМАКС\n",
    ")\n",
    "\n",
    "# It is the same as:\n",
    "#\n",
    "# model = nn.Sequential()\n",
    "# model.add_module('0', nn.Linear(features, 64))\n",
    "# model.add_module('1', nn.Linear(64, classes))\n",
    "\n",
    "device = 'cpu'\n",
    "model.to(device)"
   ]
  },
  {
   "cell_type": "markdown",
   "metadata": {
    "id": "jb4dP98KxQI8"
   },
   "source": [
    "Проверить, все ли в порядке со скрытыми слоями, можно с помощью `torchsummary.summary`. Форма входных данных необходима для визуализации модели."
   ]
  },
  {
   "cell_type": "code",
   "execution_count": 178,
   "metadata": {
    "colab": {
     "base_uri": "https://localhost:8080/"
    },
    "executionInfo": {
     "elapsed": 652,
     "status": "ok",
     "timestamp": 1634752215711,
     "user": {
      "displayName": "Александр Анатольевич Миленькин",
      "photoUrl": "https://lh3.googleusercontent.com/a-/AOh14Gh1yB_mGyNeEBrnQ_bFdA3CLdWCnTPdtAORppSkYg=s64",
      "userId": "12111341805146772458"
     },
     "user_tz": -180
    },
    "id": "BiZ3fQBnxNvh",
    "outputId": "89c1169d-28ab-403c-fb23-5671cc649a8c"
   },
   "outputs": [
    {
     "name": "stdout",
     "output_type": "stream",
     "text": [
      "----------------------------------------------------------------\n",
      "        Layer (type)               Output Shape         Param #\n",
      "================================================================\n",
      "            Linear-1                  [228, 64]          50,240\n",
      "              ReLU-2                  [228, 64]               0\n",
      "            Linear-3                  [228, 10]             650\n",
      "================================================================\n",
      "Total params: 50,890\n",
      "Trainable params: 50,890\n",
      "Non-trainable params: 0\n",
      "----------------------------------------------------------------\n",
      "Input size (MB): 0.68\n",
      "Forward/backward pass size (MB): 0.24\n",
      "Params size (MB): 0.19\n",
      "Estimated Total Size (MB): 1.12\n",
      "----------------------------------------------------------------\n"
     ]
    }
   ],
   "source": [
    "summary(model, (features,), batch_size=228)"
   ]
  },
  {
   "cell_type": "markdown",
   "metadata": {
    "id": "nfjR9itOwPO5"
   },
   "source": [
    "## Обучение\n",
    "\n",
    "Как известно, при решении проблемы важны следующие **3 вещи**:\n",
    "\n",
    "1. Модель\n",
    "2. Цель (функция потерь / loss)\n",
    "3. Оптимизация (для параметров модели)\n",
    "\n",
    "Хорошо, все, что мы должны делать при использовании PyTorch, - это** определить следующие 3 вещи**:\n",
    "\n",
    "1. Модель: из API `nn.Module`\n",
    "2. Функция потерь (loss): опять же, `nn.Module` или [` nn.functional`] (https://pytorch.org/docs/stable/nn.functional.html) API.\n",
    "3. Оптимизатор: основан на [`torch.optim.Optimizer`] (https://pytorch.org/docs/stable/optim.html).\n",
    "\n",
    "\n",
    "\n",
    "В предыдущих задачах, когда дело доходило до оптимизации параметров, мы использовали **явное решения или градиентный спуск**\n",
    "\n",
    "Конечно, есть множество улучшений градиентного спуска. Он может использовать **адаптивное значение шага**, **градиенты предыдущего шага** и другие. PyTorch также предоставляет несколько классов для оптимизации градиента. Они инициализируются с параметрами, которые они должны настроить для лучшего значения потерь, и во время спуска они делают шаг в методе спуска на основе градиента.\n",
    "\n",
    "Вот наиболее часто используемые оптимизаторы, на основе которых используется алгоритм спуска:\n",
    "\n",
    "- `torch.optim.Adam` использует как второй, так и первый импульс градиента, очень популярный благодаря своей скорости сходимости и простоте. [бумага] (https://arxiv.org/abs/1412.6980)\n",
    "\n",
    "- `torch.optim.SGD` - старый добрый стохастический градиентный спуск. Может использоваться с оптимизацией импульса Нестерова\n",
    "\n",
    "- `torch.optim.Adagrad` - [статья] (https://jmlr.org/papers/v12/duchi11a.html)\n",
    "\n",
    "- `torch.optim.RMSprop` - введено в [слайды] (https://www.cs.toronto.edu/~tijmen/csc321/slides/lecture_slides_lec6.pdf)\n"
   ]
  },
  {
   "cell_type": "markdown",
   "metadata": {
    "id": "_joC4G5v3M1J"
   },
   "source": [
    "Сначала определим последние 2 вещи: критерий и оптимизатор."
   ]
  },
  {
   "cell_type": "code",
   "execution_count": 179,
   "metadata": {
    "executionInfo": {
     "elapsed": 619,
     "status": "ok",
     "timestamp": 1634752362321,
     "user": {
      "displayName": "Александр Анатольевич Миленькин",
      "photoUrl": "https://lh3.googleusercontent.com/a-/AOh14Gh1yB_mGyNeEBrnQ_bFdA3CLdWCnTPdtAORppSkYg=s64",
      "userId": "12111341805146772458"
     },
     "user_tz": -180
    },
    "id": "QrEObxR2r67C"
   },
   "outputs": [],
   "source": [
    "criterion = nn.CrossEntropyLoss()      # (logsoftmax + negative likelihood) в своей основе применительно к логитам (logits)\n",
    "\n",
    "optimizer = torch.optim.Adam(model.parameters(), lr=1e-3, betas=(0.9, 0.99))"
   ]
  },
  {
   "cell_type": "markdown",
   "metadata": {
    "id": "PqXeZ4Gu4XuE"
   },
   "source": [
    "Наконец, мы переходим в **циклу обучения**!\n",
    "\n",
    "Ранее мы итерировались по эпохам и батчам (batch) (это называется обучающим циклом). Итак, давайте повторим это здесь"
   ]
  },
  {
   "cell_type": "code",
   "execution_count": 180,
   "metadata": {
    "executionInfo": {
     "elapsed": 2,
     "status": "ok",
     "timestamp": 1634752363029,
     "user": {
      "displayName": "Александр Анатольевич Миленькин",
      "photoUrl": "https://lh3.googleusercontent.com/a-/AOh14Gh1yB_mGyNeEBrnQ_bFdA3CLdWCnTPdtAORppSkYg=s64",
      "userId": "12111341805146772458"
     },
     "user_tz": -180
    },
    "id": "k_meINtk45pO"
   },
   "outputs": [],
   "source": [
    "epochs = 3\n",
    "history = []"
   ]
  },
  {
   "cell_type": "code",
   "execution_count": 181,
   "metadata": {
    "colab": {
     "base_uri": "https://localhost:8080/"
    },
    "executionInfo": {
     "elapsed": 36756,
     "status": "ok",
     "timestamp": 1634752401387,
     "user": {
      "displayName": "Александр Анатольевич Миленькин",
      "photoUrl": "https://lh3.googleusercontent.com/a-/AOh14Gh1yB_mGyNeEBrnQ_bFdA3CLdWCnTPdtAORppSkYg=s64",
      "userId": "12111341805146772458"
     },
     "user_tz": -180
    },
    "id": "sc6CbL4p45pY",
    "outputId": "e6f0849b-5111-487c-a32f-619115c8b030"
   },
   "outputs": [
    {
     "name": "stdout",
     "output_type": "stream",
     "text": [
      "1,\t loss: 0.08423341810703278\n",
      "2,\t loss: 0.06036621704697609\n",
      "3,\t loss: 0.04387201368808746\n"
     ]
    }
   ],
   "source": [
    "for i in range(epochs):\n",
    "  for x_batch, y_batch in train_loader:\n",
    "    # 1. # загружаем батч данных (вытянутый в линию)\n",
    "    x_batch = x_batch.view(x_batch.shape[0], -1).to(device)\n",
    "    y_batch = y_batch.to(device)\n",
    "\n",
    "    # 2. вычисляем скор с помощью прямого распространения ( .forward or .__call__ )\n",
    "    logits = model(x_batch)\n",
    "\n",
    "    # 3. вычислеяем - функцию потерь (loss)\n",
    "    loss = criterion(logits, y_batch)\n",
    "    history.append(loss.item())\n",
    "\n",
    "    # 4. вычисляем градиенты\n",
    "    optimizer.zero_grad()\n",
    "    loss.backward()\n",
    "\n",
    "    # 5. шаг градиентного спуска\n",
    "    optimizer.step()\n",
    "\n",
    "  print(f'{i+1},\\t loss: {history[-1]}')"
   ]
  },
  {
   "cell_type": "markdown",
   "metadata": {
    "id": "0Jot--gp5xEy"
   },
   "source": [
    "построим график изменения точности просто для проверки правильности."
   ]
  },
  {
   "cell_type": "code",
   "execution_count": 182,
   "metadata": {
    "executionInfo": {
     "elapsed": 1077,
     "status": "ok",
     "timestamp": 1634752512900,
     "user": {
      "displayName": "Александр Анатольевич Миленькин",
      "photoUrl": "https://lh3.googleusercontent.com/a-/AOh14Gh1yB_mGyNeEBrnQ_bFdA3CLdWCnTPdtAORppSkYg=s64",
      "userId": "12111341805146772458"
     },
     "user_tz": -180
    },
    "id": "IePLJ3uq5u6H"
   },
   "outputs": [],
   "source": [
    "import matplotlib.pyplot as plt"
   ]
  },
  {
   "cell_type": "code",
   "execution_count": 183,
   "metadata": {
    "colab": {
     "base_uri": "https://localhost:8080/",
     "height": 458
    },
    "executionInfo": {
     "elapsed": 23,
     "status": "ok",
     "timestamp": 1634752512907,
     "user": {
      "displayName": "Александр Анатольевич Миленькин",
      "photoUrl": "https://lh3.googleusercontent.com/a-/AOh14Gh1yB_mGyNeEBrnQ_bFdA3CLdWCnTPdtAORppSkYg=s64",
      "userId": "12111341805146772458"
     },
     "user_tz": -180
    },
    "id": "mq6vkP095u6L",
    "outputId": "6d332b29-90c1-4eb6-b1e7-31b1c2621e9c"
   },
   "outputs": [
    {
     "data": {
      "image/png": "[encoded data removed]",
      "text/plain": [
       "<Figure size 720x504 with 1 Axes>"
      ]
     },
     "metadata": {
      "needs_background": "light"
     },
     "output_type": "display_data"
    }
   ],
   "source": [
    "plt.figure(figsize=(10, 7))\n",
    "\n",
    "plt.plot(history)\n",
    "\n",
    "plt.title('Loss by batch iterations')\n",
    "plt.ylabel('Entropy Loss')\n",
    "plt.xlabel('batches')\n",
    "\n",
    "plt.show()"
   ]
  },
  {
   "cell_type": "markdown",
   "metadata": {
    "id": "tekBJ55N5u6O"
   },
   "source": [
    "Некоторые метрики качества для нашей двух-слойной модели"
   ]
  },
  {
   "cell_type": "code",
   "execution_count": 184,
   "metadata": {
    "executionInfo": {
     "elapsed": 601,
     "status": "ok",
     "timestamp": 1634752522054,
     "user": {
      "displayName": "Александр Анатольевич Миленькин",
      "photoUrl": "https://lh3.googleusercontent.com/a-/AOh14Gh1yB_mGyNeEBrnQ_bFdA3CLdWCnTPdtAORppSkYg=s64",
      "userId": "12111341805146772458"
     },
     "user_tz": -180
    },
    "id": "ZqoMcdz75u6O"
   },
   "outputs": [],
   "source": [
    "from sklearn.metrics import accuracy_score"
   ]
  },
  {
   "cell_type": "code",
   "execution_count": 185,
   "metadata": {
    "colab": {
     "base_uri": "https://localhost:8080/"
    },
    "executionInfo": {
     "elapsed": 1835,
     "status": "ok",
     "timestamp": 1634752524555,
     "user": {
      "displayName": "Александр Анатольевич Миленькин",
      "photoUrl": "https://lh3.googleusercontent.com/a-/AOh14Gh1yB_mGyNeEBrnQ_bFdA3CLdWCnTPdtAORppSkYg=s64",
      "userId": "12111341805146772458"
     },
     "user_tz": -180
    },
    "id": "051KxUi_5u6Q",
    "outputId": "fff09f1f-1b8c-4860-e7e9-bb73729e032b"
   },
   "outputs": [
    {
     "name": "stdout",
     "output_type": "stream",
     "text": [
      "Test accuracy 0.936\n"
     ]
    }
   ],
   "source": [
    "acc = 0\n",
    "batches = 0\n",
    "\n",
    "for x_batch, y_batch in test_loader:\n",
    "  # загружаем батч данных (вытянутый в линию)\n",
    "  batches += 1\n",
    "  x_batch = x_batch.view(x_batch.shape[0], -1).to(device)\n",
    "  y_batch = y_batch.to(device)\n",
    "\n",
    "  preds = torch.argmax(model(x_batch), dim=1)\n",
    "  acc += (preds==y_batch).cpu().numpy().mean()\n",
    "\n",
    "print(f'Test accuracy {acc / batches:.3}')"
   ]
  },
  {
   "cell_type": "markdown",
   "metadata": {
    "id": "wh14WDiz6KKe"
   },
   "source": [
    "## Резюмируем!\n",
    "\n",
    "Мы построили и обучили простейшую нейронную сеть. Это было сделано путем определения:\n",
    "\n",
    "1. `Модели`\n",
    "2. \"Критерия (Лосса)\"\n",
    "1. `Оптимизатора`\n",
    "\n",
    "Запомните эти шаги, необходимые во время обучения одного батча данных:\n",
    "\n",
    "1. загрузить батч\n",
    "2. выполнить прямой проход модели (получить «логиты» / выходы модели)\n",
    "3. рассчитать `loss` (используя критерий и «логиты» и истинные метки партии)\n",
    "4. выполнить `loss.backward ()` (вычислить градиенты функции потери относительно параметров модели)\n",
    "5. выполнить шаг оптимизации (`optimizer.step ()`)\n",
    "* обнуляйте градиенты (производите в любой момент, но не между шагами 4 и 5)\n",
    "* проверка (валидация) (после каждой эпохи)\n",
    "\n"
   ]
  },
  {
   "cell_type": "code",
   "execution_count": null,
   "metadata": {
    "id": "OW14I7DorFEf"
   },
   "outputs": [],
   "source": []
  }
 ],
 "metadata": {
  "accelerator": "GPU",
  "colab": {
   "collapsed_sections": [],
   "name": "[seminar]pytorch_simple_NN.ipynb",
   "provenance": []
  },
  "kernelspec": {
   "display_name": "Python 3 (ipykernel)",
   "language": "python",
   "name": "python3"
  },
  "language_info": {
   "codemirror_mode": {
    "name": "ipython",
    "version": 3
   },
   "file_extension": ".py",
   "mimetype": "text/x-python",
   "name": "python",
   "nbconvert_exporter": "python",
   "pygments_lexer": "ipython3",
   "version": "3.9.10"
  },
  "widgets": {
   "application/vnd.jupyter.widget-state+json": {
    "00013dc198644cc7b60a2205fabcfa06": {
     "model_module": "@jupyter-widgets/controls",
     "model_module_version": "1.5.0",
     "model_name": "HBoxModel",
     "state": {
      "_dom_classes": [],
      "_model_module": "@jupyter-widgets/controls",
      "_model_module_version": "1.5.0",
      "_model_name": "HBoxModel",
      "_view_count": null,
      "_view_module": "@jupyter-widgets/controls",
      "_view_module_version": "1.5.0",
      "_view_name": "HBoxView",
      "box_style": "",
      "children": [
       "IPY_MODEL_a8006e304cd14bb7849c934262965e7d",
       "IPY_MODEL_6859abdfde5f4b79ba5a24e882b3375f",
       "IPY_MODEL_8aa04af163294be5917fcdc1d3c23532"
      ],
      "layout": "IPY_MODEL_cea003fada754b7a9e1a2e91571614d1"
     }
    },
    "051093fdc05144bc94ae60cf793660cf": {
     "model_module": "@jupyter-widgets/controls",
     "model_module_version": "1.5.0",
     "model_name": "DescriptionStyleModel",
     "state": {
      "_model_module": "@jupyter-widgets/controls",
      "_model_module_version": "1.5.0",
      "_model_name": "DescriptionStyleModel",
      "_view_count": null,
      "_view_module": "@jupyter-widgets/base",
      "_view_module_version": "1.2.0",
      "_view_name": "StyleView",
      "description_width": ""
     }
    },
    "063dc8474fc240358319fe021a6deb7b": {
     "model_module": "@jupyter-widgets/controls",
     "model_module_version": "1.5.0",
     "model_name": "HTMLModel",
     "state": {
      "_dom_classes": [],
      "_model_module": "@jupyter-widgets/controls",
      "_model_module_version": "1.5.0",
      "_model_name": "HTMLModel",
      "_view_count": null,
      "_view_module": "@jupyter-widgets/controls",
      "_view_module_version": "1.5.0",
      "_view_name": "HTMLView",
      "description": "",
      "description_tooltip": null,
      "layout": "IPY_MODEL_7444b4438cfe4cfebfcdadea2ee4cd77",
      "placeholder": "​",
      "style": "IPY_MODEL_fe8ec0853cb1484c878578b59050c261",
      "value": " 5120/? [00:00&lt;00:00, 155280.57it/s]"
     }
    },
    "284568611e2c49a2a556fee02d44c878": {
     "model_module": "@jupyter-widgets/controls",
     "model_module_version": "1.5.0",
     "model_name": "HBoxModel",
     "state": {
      "_dom_classes": [],
      "_model_module": "@jupyter-widgets/controls",
      "_model_module_version": "1.5.0",
      "_model_name": "HBoxModel",
      "_view_count": null,
      "_view_module": "@jupyter-widgets/controls",
      "_view_module_version": "1.5.0",
      "_view_name": "HBoxView",
      "box_style": "",
      "children": [
       "IPY_MODEL_e413d45b251b4cfb945758ea82cf1d76",
       "IPY_MODEL_9d51af91dd514a93ae5ac4b378a2e053",
       "IPY_MODEL_ffb7a36fbe5b4debb2938314d1556df1"
      ],
      "layout": "IPY_MODEL_c86a9f9d72e34155a99040b25aa181af"
     }
    },
    "298ba64bbc58410982d63b5c04b05b78": {
     "model_module": "@jupyter-widgets/base",
     "model_module_version": "1.2.0",
     "model_name": "LayoutModel",
     "state": {
      "_model_module": "@jupyter-widgets/base",
      "_model_module_version": "1.2.0",
      "_model_name": "LayoutModel",
      "_view_count": null,
      "_view_module": "@jupyter-widgets/base",
      "_view_module_version": "1.2.0",
      "_view_name": "LayoutView",
      "align_content": null,
      "align_items": null,
      "align_self": null,
      "border": null,
      "bottom": null,
      "display": null,
      "flex": null,
      "flex_flow": null,
      "grid_area": null,
      "grid_auto_columns": null,
      "grid_auto_flow": null,
      "grid_auto_rows": null,
      "grid_column": null,
      "grid_gap": null,
      "grid_row": null,
      "grid_template_areas": null,
      "grid_template_columns": null,
      "grid_template_rows": null,
      "height": null,
      "justify_content": null,
      "justify_items": null,
      "left": null,
      "margin": null,
      "max_height": null,
      "max_width": null,
      "min_height": null,
      "min_width": null,
      "object_fit": null,
      "object_position": null,
      "order": null,
      "overflow": null,
      "overflow_x": null,
      "overflow_y": null,
      "padding": null,
      "right": null,
      "top": null,
      "visibility": null,
      "width": null
     }
    },
    "378556f198084086a2807888603d87b7": {
     "model_module": "@jupyter-widgets/base",
     "model_module_version": "1.2.0",
     "model_name": "LayoutModel",
     "state": {
      "_model_module": "@jupyter-widgets/base",
      "_model_module_version": "1.2.0",
      "_model_name": "LayoutModel",
      "_view_count": null,
      "_view_module": "@jupyter-widgets/base",
      "_view_module_version": "1.2.0",
      "_view_name": "LayoutView",
      "align_content": null,
      "align_items": null,
      "align_self": null,
      "border": null,
      "bottom": null,
      "display": null,
      "flex": null,
      "flex_flow": null,
      "grid_area": null,
      "grid_auto_columns": null,
      "grid_auto_flow": null,
      "grid_auto_rows": null,
      "grid_column": null,
      "grid_gap": null,
      "grid_row": null,
      "grid_template_areas": null,
      "grid_template_columns": null,
      "grid_template_rows": null,
      "height": null,
      "justify_content": null,
      "justify_items": null,
      "left": null,
      "margin": null,
      "max_height": null,
      "max_width": null,
      "min_height": null,
      "min_width": null,
      "object_fit": null,
      "object_position": null,
      "order": null,
      "overflow": null,
      "overflow_x": null,
      "overflow_y": null,
      "padding": null,
      "right": null,
      "top": null,
      "visibility": null,
      "width": null
     }
    },
    "38fd7fa23ba44407885bcc8aa63c97bd": {
     "model_module": "@jupyter-widgets/base",
     "model_module_version": "1.2.0",
     "model_name": "LayoutModel",
     "state": {
      "_model_module": "@jupyter-widgets/base",
      "_model_module_version": "1.2.0",
      "_model_name": "LayoutModel",
      "_view_count": null,
      "_view_module": "@jupyter-widgets/base",
      "_view_module_version": "1.2.0",
      "_view_name": "LayoutView",
      "align_content": null,
      "align_items": null,
      "align_self": null,
      "border": null,
      "bottom": null,
      "display": null,
      "flex": null,
      "flex_flow": null,
      "grid_area": null,
      "grid_auto_columns": null,
      "grid_auto_flow": null,
      "grid_auto_rows": null,
      "grid_column": null,
      "grid_gap": null,
      "grid_row": null,
      "grid_template_areas": null,
      "grid_template_columns": null,
      "grid_template_rows": null,
      "height": null,
      "justify_content": null,
      "justify_items": null,
      "left": null,
      "margin": null,
      "max_height": null,
      "max_width": null,
      "min_height": null,
      "min_width": null,
      "object_fit": null,
      "object_position": null,
      "order": null,
      "overflow": null,
      "overflow_x": null,
      "overflow_y": null,
      "padding": null,
      "right": null,
      "top": null,
      "visibility": null,
      "width": null
     }
    },
    "3f87a74a071743edbbde8d9bdff3d822": {
     "model_module": "@jupyter-widgets/controls",
     "model_module_version": "1.5.0",
     "model_name": "HBoxModel",
     "state": {
      "_dom_classes": [],
      "_model_module": "@jupyter-widgets/controls",
      "_model_module_version": "1.5.0",
      "_model_name": "HBoxModel",
      "_view_count": null,
      "_view_module": "@jupyter-widgets/controls",
      "_view_module_version": "1.5.0",
      "_view_name": "HBoxView",
      "box_style": "",
      "children": [
       "IPY_MODEL_9fddba72e47b4b888a0f98f476f3724a",
       "IPY_MODEL_4691e74d617e4f8ebb9a32f630bc176d",
       "IPY_MODEL_795b67b762a1464cb35d9eb5b5e07955"
      ],
      "layout": "IPY_MODEL_9e2b1208fe20424ab7426941bf0ae4bb"
     }
    },
    "4691e74d617e4f8ebb9a32f630bc176d": {
     "model_module": "@jupyter-widgets/controls",
     "model_module_version": "1.5.0",
     "model_name": "FloatProgressModel",
     "state": {
      "_dom_classes": [],
      "_model_module": "@jupyter-widgets/controls",
      "_model_module_version": "1.5.0",
      "_model_name": "FloatProgressModel",
      "_view_count": null,
      "_view_module": "@jupyter-widgets/controls",
      "_view_module_version": "1.5.0",
      "_view_name": "ProgressView",
      "bar_style": "success",
      "description": "",
      "description_tooltip": null,
      "layout": "IPY_MODEL_d9a4cd5ee2094e77a5624d6c2139b2f9",
      "max": 1648877,
      "min": 0,
      "orientation": "horizontal",
      "style": "IPY_MODEL_fb0c6226b6aa47c9999cf46ad69e8b3a",
      "value": 1648877
     }
    },
    "638a5d5e4ab143fa83f322cdde640468": {
     "model_module": "@jupyter-widgets/base",
     "model_module_version": "1.2.0",
     "model_name": "LayoutModel",
     "state": {
      "_model_module": "@jupyter-widgets/base",
      "_model_module_version": "1.2.0",
      "_model_name": "LayoutModel",
      "_view_count": null,
      "_view_module": "@jupyter-widgets/base",
      "_view_module_version": "1.2.0",
      "_view_name": "LayoutView",
      "align_content": null,
      "align_items": null,
      "align_self": null,
      "border": null,
      "bottom": null,
      "display": null,
      "flex": null,
      "flex_flow": null,
      "grid_area": null,
      "grid_auto_columns": null,
      "grid_auto_flow": null,
      "grid_auto_rows": null,
      "grid_column": null,
      "grid_gap": null,
      "grid_row": null,
      "grid_template_areas": null,
      "grid_template_columns": null,
      "grid_template_rows": null,
      "height": null,
      "justify_content": null,
      "justify_items": null,
      "left": null,
      "margin": null,
      "max_height": null,
      "max_width": null,
      "min_height": null,
      "min_width": null,
      "object_fit": null,
      "object_position": null,
      "order": null,
      "overflow": null,
      "overflow_x": null,
      "overflow_y": null,
      "padding": null,
      "right": null,
      "top": null,
      "visibility": null,
      "width": null
     }
    },
    "6859abdfde5f4b79ba5a24e882b3375f": {
     "model_module": "@jupyter-widgets/controls",
     "model_module_version": "1.5.0",
     "model_name": "FloatProgressModel",
     "state": {
      "_dom_classes": [],
      "_model_module": "@jupyter-widgets/controls",
      "_model_module_version": "1.5.0",
      "_model_name": "FloatProgressModel",
      "_view_count": null,
      "_view_module": "@jupyter-widgets/controls",
      "_view_module_version": "1.5.0",
      "_view_name": "ProgressView",
      "bar_style": "success",
      "description": "",
      "description_tooltip": null,
      "layout": "IPY_MODEL_c128fcaebc904193874ef8067ccb17f1",
      "max": 9912422,
      "min": 0,
      "orientation": "horizontal",
      "style": "IPY_MODEL_fd459523dfa0494b99911f59e4ea1670",
      "value": 9912422
     }
    },
    "7444b4438cfe4cfebfcdadea2ee4cd77": {
     "model_module": "@jupyter-widgets/base",
     "model_module_version": "1.2.0",
     "model_name": "LayoutModel",
     "state": {
      "_model_module": "@jupyter-widgets/base",
      "_model_module_version": "1.2.0",
      "_model_name": "LayoutModel",
      "_view_count": null,
      "_view_module": "@jupyter-widgets/base",
      "_view_module_version": "1.2.0",
      "_view_name": "LayoutView",
      "align_content": null,
      "align_items": null,
      "align_self": null,
      "border": null,
      "bottom": null,
      "display": null,
      "flex": null,
      "flex_flow": null,
      "grid_area": null,
      "grid_auto_columns": null,
      "grid_auto_flow": null,
      "grid_auto_rows": null,
      "grid_column": null,
      "grid_gap": null,
      "grid_row": null,
      "grid_template_areas": null,
      "grid_template_columns": null,
      "grid_template_rows": null,
      "height": null,
      "justify_content": null,
      "justify_items": null,
      "left": null,
      "margin": null,
      "max_height": null,
      "max_width": null,
      "min_height": null,
      "min_width": null,
      "object_fit": null,
      "object_position": null,
      "order": null,
      "overflow": null,
      "overflow_x": null,
      "overflow_y": null,
      "padding": null,
      "right": null,
      "top": null,
      "visibility": null,
      "width": null
     }
    },
    "7733f7252aee4689beab2f194036822e": {
     "model_module": "@jupyter-widgets/controls",
     "model_module_version": "1.5.0",
     "model_name": "FloatProgressModel",
     "state": {
      "_dom_classes": [],
      "_model_module": "@jupyter-widgets/controls",
      "_model_module_version": "1.5.0",
      "_model_name": "FloatProgressModel",
      "_view_count": null,
      "_view_module": "@jupyter-widgets/controls",
      "_view_module_version": "1.5.0",
      "_view_name": "ProgressView",
      "bar_style": "success",
      "description": "",
      "description_tooltip": null,
      "layout": "IPY_MODEL_378556f198084086a2807888603d87b7",
      "max": 4542,
      "min": 0,
      "orientation": "horizontal",
      "style": "IPY_MODEL_7dd7b27aa33143be858f20e7657adb1d",
      "value": 4542
     }
    },
    "784c7aba575645c090ac1ed1b0468a93": {
     "model_module": "@jupyter-widgets/controls",
     "model_module_version": "1.5.0",
     "model_name": "DescriptionStyleModel",
     "state": {
      "_model_module": "@jupyter-widgets/controls",
      "_model_module_version": "1.5.0",
      "_model_name": "DescriptionStyleModel",
      "_view_count": null,
      "_view_module": "@jupyter-widgets/base",
      "_view_module_version": "1.2.0",
      "_view_name": "StyleView",
      "description_width": ""
     }
    },
    "795b67b762a1464cb35d9eb5b5e07955": {
     "model_module": "@jupyter-widgets/controls",
     "model_module_version": "1.5.0",
     "model_name": "HTMLModel",
     "state": {
      "_dom_classes": [],
      "_model_module": "@jupyter-widgets/controls",
      "_model_module_version": "1.5.0",
      "_model_name": "HTMLModel",
      "_view_count": null,
      "_view_module": "@jupyter-widgets/controls",
      "_view_module_version": "1.5.0",
      "_view_name": "HTMLView",
      "description": "",
      "description_tooltip": null,
      "layout": "IPY_MODEL_638a5d5e4ab143fa83f322cdde640468",
      "placeholder": "​",
      "style": "IPY_MODEL_8989cf28d15948299c41bb9d17ed2696",
      "value": " 1649664/? [00:00&lt;00:00, 18935214.07it/s]"
     }
    },
    "7dd7b27aa33143be858f20e7657adb1d": {
     "model_module": "@jupyter-widgets/controls",
     "model_module_version": "1.5.0",
     "model_name": "ProgressStyleModel",
     "state": {
      "_model_module": "@jupyter-widgets/controls",
      "_model_module_version": "1.5.0",
      "_model_name": "ProgressStyleModel",
      "_view_count": null,
      "_view_module": "@jupyter-widgets/base",
      "_view_module_version": "1.2.0",
      "_view_name": "StyleView",
      "bar_color": null,
      "description_width": ""
     }
    },
    "85c7dae5b8544f2e8700673c3b657f8a": {
     "model_module": "@jupyter-widgets/controls",
     "model_module_version": "1.5.0",
     "model_name": "DescriptionStyleModel",
     "state": {
      "_model_module": "@jupyter-widgets/controls",
      "_model_module_version": "1.5.0",
      "_model_name": "DescriptionStyleModel",
      "_view_count": null,
      "_view_module": "@jupyter-widgets/base",
      "_view_module_version": "1.2.0",
      "_view_name": "StyleView",
      "description_width": ""
     }
    },
    "8989cf28d15948299c41bb9d17ed2696": {
     "model_module": "@jupyter-widgets/controls",
     "model_module_version": "1.5.0",
     "model_name": "DescriptionStyleModel",
     "state": {
      "_model_module": "@jupyter-widgets/controls",
      "_model_module_version": "1.5.0",
      "_model_name": "DescriptionStyleModel",
      "_view_count": null,
      "_view_module": "@jupyter-widgets/base",
      "_view_module_version": "1.2.0",
      "_view_name": "StyleView",
      "description_width": ""
     }
    },
    "8aa04af163294be5917fcdc1d3c23532": {
     "model_module": "@jupyter-widgets/controls",
     "model_module_version": "1.5.0",
     "model_name": "HTMLModel",
     "state": {
      "_dom_classes": [],
      "_model_module": "@jupyter-widgets/controls",
      "_model_module_version": "1.5.0",
      "_model_name": "HTMLModel",
      "_view_count": null,
      "_view_module": "@jupyter-widgets/controls",
      "_view_module_version": "1.5.0",
      "_view_name": "HTMLView",
      "description": "",
      "description_tooltip": null,
      "layout": "IPY_MODEL_c379c399cee14c90866b84dd98c7387b",
      "placeholder": "​",
      "style": "IPY_MODEL_051093fdc05144bc94ae60cf793660cf",
      "value": " 9913344/? [00:00&lt;00:00, 21258209.59it/s]"
     }
    },
    "8c41025ec98c48aea3dfd2490ee958aa": {
     "model_module": "@jupyter-widgets/controls",
     "model_module_version": "1.5.0",
     "model_name": "ProgressStyleModel",
     "state": {
      "_model_module": "@jupyter-widgets/controls",
      "_model_module_version": "1.5.0",
      "_model_name": "ProgressStyleModel",
      "_view_count": null,
      "_view_module": "@jupyter-widgets/base",
      "_view_module_version": "1.2.0",
      "_view_name": "StyleView",
      "bar_color": null,
      "description_width": ""
     }
    },
    "99898108ef484ce7bbf9abfd6cee291c": {
     "model_module": "@jupyter-widgets/base",
     "model_module_version": "1.2.0",
     "model_name": "LayoutModel",
     "state": {
      "_model_module": "@jupyter-widgets/base",
      "_model_module_version": "1.2.0",
      "_model_name": "LayoutModel",
      "_view_count": null,
      "_view_module": "@jupyter-widgets/base",
      "_view_module_version": "1.2.0",
      "_view_name": "LayoutView",
      "align_content": null,
      "align_items": null,
      "align_self": null,
      "border": null,
      "bottom": null,
      "display": null,
      "flex": null,
      "flex_flow": null,
      "grid_area": null,
      "grid_auto_columns": null,
      "grid_auto_flow": null,
      "grid_auto_rows": null,
      "grid_column": null,
      "grid_gap": null,
      "grid_row": null,
      "grid_template_areas": null,
      "grid_template_columns": null,
      "grid_template_rows": null,
      "height": null,
      "justify_content": null,
      "justify_items": null,
      "left": null,
      "margin": null,
      "max_height": null,
      "max_width": null,
      "min_height": null,
      "min_width": null,
      "object_fit": null,
      "object_position": null,
      "order": null,
      "overflow": null,
      "overflow_x": null,
      "overflow_y": null,
      "padding": null,
      "right": null,
      "top": null,
      "visibility": null,
      "width": null
     }
    },
    "9d51af91dd514a93ae5ac4b378a2e053": {
     "model_module": "@jupyter-widgets/controls",
     "model_module_version": "1.5.0",
     "model_name": "FloatProgressModel",
     "state": {
      "_dom_classes": [],
      "_model_module": "@jupyter-widgets/controls",
      "_model_module_version": "1.5.0",
      "_model_name": "FloatProgressModel",
      "_view_count": null,
      "_view_module": "@jupyter-widgets/controls",
      "_view_module_version": "1.5.0",
      "_view_name": "ProgressView",
      "bar_style": "success",
      "description": "",
      "description_tooltip": null,
      "layout": "IPY_MODEL_bb1d02ad5e9d41338c47dff87e6cdd9e",
      "max": 28881,
      "min": 0,
      "orientation": "horizontal",
      "style": "IPY_MODEL_8c41025ec98c48aea3dfd2490ee958aa",
      "value": 28881
     }
    },
    "9e2b1208fe20424ab7426941bf0ae4bb": {
     "model_module": "@jupyter-widgets/base",
     "model_module_version": "1.2.0",
     "model_name": "LayoutModel",
     "state": {
      "_model_module": "@jupyter-widgets/base",
      "_model_module_version": "1.2.0",
      "_model_name": "LayoutModel",
      "_view_count": null,
      "_view_module": "@jupyter-widgets/base",
      "_view_module_version": "1.2.0",
      "_view_name": "LayoutView",
      "align_content": null,
      "align_items": null,
      "align_self": null,
      "border": null,
      "bottom": null,
      "display": null,
      "flex": null,
      "flex_flow": null,
      "grid_area": null,
      "grid_auto_columns": null,
      "grid_auto_flow": null,
      "grid_auto_rows": null,
      "grid_column": null,
      "grid_gap": null,
      "grid_row": null,
      "grid_template_areas": null,
      "grid_template_columns": null,
      "grid_template_rows": null,
      "height": null,
      "justify_content": null,
      "justify_items": null,
      "left": null,
      "margin": null,
      "max_height": null,
      "max_width": null,
      "min_height": null,
      "min_width": null,
      "object_fit": null,
      "object_position": null,
      "order": null,
      "overflow": null,
      "overflow_x": null,
      "overflow_y": null,
      "padding": null,
      "right": null,
      "top": null,
      "visibility": null,
      "width": null
     }
    },
    "9fddba72e47b4b888a0f98f476f3724a": {
     "model_module": "@jupyter-widgets/controls",
     "model_module_version": "1.5.0",
     "model_name": "HTMLModel",
     "state": {
      "_dom_classes": [],
      "_model_module": "@jupyter-widgets/controls",
      "_model_module_version": "1.5.0",
      "_model_name": "HTMLModel",
      "_view_count": null,
      "_view_module": "@jupyter-widgets/controls",
      "_view_module_version": "1.5.0",
      "_view_name": "HTMLView",
      "description": "",
      "description_tooltip": null,
      "layout": "IPY_MODEL_d8e87673c3b240e5a0cd117983258f26",
      "placeholder": "​",
      "style": "IPY_MODEL_dac7334dba4044cfa41a2aad7dfcc66f",
      "value": ""
     }
    },
    "a646f19015444b86bd24bf73c74cce21": {
     "model_module": "@jupyter-widgets/controls",
     "model_module_version": "1.5.0",
     "model_name": "DescriptionStyleModel",
     "state": {
      "_model_module": "@jupyter-widgets/controls",
      "_model_module_version": "1.5.0",
      "_model_name": "DescriptionStyleModel",
      "_view_count": null,
      "_view_module": "@jupyter-widgets/base",
      "_view_module_version": "1.2.0",
      "_view_name": "StyleView",
      "description_width": ""
     }
    },
    "a8006e304cd14bb7849c934262965e7d": {
     "model_module": "@jupyter-widgets/controls",
     "model_module_version": "1.5.0",
     "model_name": "HTMLModel",
     "state": {
      "_dom_classes": [],
      "_model_module": "@jupyter-widgets/controls",
      "_model_module_version": "1.5.0",
      "_model_name": "HTMLModel",
      "_view_count": null,
      "_view_module": "@jupyter-widgets/controls",
      "_view_module_version": "1.5.0",
      "_view_name": "HTMLView",
      "description": "",
      "description_tooltip": null,
      "layout": "IPY_MODEL_38fd7fa23ba44407885bcc8aa63c97bd",
      "placeholder": "​",
      "style": "IPY_MODEL_784c7aba575645c090ac1ed1b0468a93",
      "value": ""
     }
    },
    "bb1d02ad5e9d41338c47dff87e6cdd9e": {
     "model_module": "@jupyter-widgets/base",
     "model_module_version": "1.2.0",
     "model_name": "LayoutModel",
     "state": {
      "_model_module": "@jupyter-widgets/base",
      "_model_module_version": "1.2.0",
      "_model_name": "LayoutModel",
      "_view_count": null,
      "_view_module": "@jupyter-widgets/base",
      "_view_module_version": "1.2.0",
      "_view_name": "LayoutView",
      "align_content": null,
      "align_items": null,
      "align_self": null,
      "border": null,
      "bottom": null,
      "display": null,
      "flex": null,
      "flex_flow": null,
      "grid_area": null,
      "grid_auto_columns": null,
      "grid_auto_flow": null,
      "grid_auto_rows": null,
      "grid_column": null,
      "grid_gap": null,
      "grid_row": null,
      "grid_template_areas": null,
      "grid_template_columns": null,
      "grid_template_rows": null,
      "height": null,
      "justify_content": null,
      "justify_items": null,
      "left": null,
      "margin": null,
      "max_height": null,
      "max_width": null,
      "min_height": null,
      "min_width": null,
      "object_fit": null,
      "object_position": null,
      "order": null,
      "overflow": null,
      "overflow_x": null,
      "overflow_y": null,
      "padding": null,
      "right": null,
      "top": null,
      "visibility": null,
      "width": null
     }
    },
    "bfeca5aec53848f79a00549e1ad32fb4": {
     "model_module": "@jupyter-widgets/controls",
     "model_module_version": "1.5.0",
     "model_name": "HBoxModel",
     "state": {
      "_dom_classes": [],
      "_model_module": "@jupyter-widgets/controls",
      "_model_module_version": "1.5.0",
      "_model_name": "HBoxModel",
      "_view_count": null,
      "_view_module": "@jupyter-widgets/controls",
      "_view_module_version": "1.5.0",
      "_view_name": "HBoxView",
      "box_style": "",
      "children": [
       "IPY_MODEL_db799f82ecec4402a6e6173d8208860e",
       "IPY_MODEL_7733f7252aee4689beab2f194036822e",
       "IPY_MODEL_063dc8474fc240358319fe021a6deb7b"
      ],
      "layout": "IPY_MODEL_c6d2dbf5711649d4b3514ba9485d776e"
     }
    },
    "c128fcaebc904193874ef8067ccb17f1": {
     "model_module": "@jupyter-widgets/base",
     "model_module_version": "1.2.0",
     "model_name": "LayoutModel",
     "state": {
      "_model_module": "@jupyter-widgets/base",
      "_model_module_version": "1.2.0",
      "_model_name": "LayoutModel",
      "_view_count": null,
      "_view_module": "@jupyter-widgets/base",
      "_view_module_version": "1.2.0",
      "_view_name": "LayoutView",
      "align_content": null,
      "align_items": null,
      "align_self": null,
      "border": null,
      "bottom": null,
      "display": null,
      "flex": null,
      "flex_flow": null,
      "grid_area": null,
      "grid_auto_columns": null,
      "grid_auto_flow": null,
      "grid_auto_rows": null,
      "grid_column": null,
      "grid_gap": null,
      "grid_row": null,
      "grid_template_areas": null,
      "grid_template_columns": null,
      "grid_template_rows": null,
      "height": null,
      "justify_content": null,
      "justify_items": null,
      "left": null,
      "margin": null,
      "max_height": null,
      "max_width": null,
      "min_height": null,
      "min_width": null,
      "object_fit": null,
      "object_position": null,
      "order": null,
      "overflow": null,
      "overflow_x": null,
      "overflow_y": null,
      "padding": null,
      "right": null,
      "top": null,
      "visibility": null,
      "width": null
     }
    },
    "c379c399cee14c90866b84dd98c7387b": {
     "model_module": "@jupyter-widgets/base",
     "model_module_version": "1.2.0",
     "model_name": "LayoutModel",
     "state": {
      "_model_module": "@jupyter-widgets/base",
      "_model_module_version": "1.2.0",
      "_model_name": "LayoutModel",
      "_view_count": null,
      "_view_module": "@jupyter-widgets/base",
      "_view_module_version": "1.2.0",
      "_view_name": "LayoutView",
      "align_content": null,
      "align_items": null,
      "align_self": null,
      "border": null,
      "bottom": null,
      "display": null,
      "flex": null,
      "flex_flow": null,
      "grid_area": null,
      "grid_auto_columns": null,
      "grid_auto_flow": null,
      "grid_auto_rows": null,
      "grid_column": null,
      "grid_gap": null,
      "grid_row": null,
      "grid_template_areas": null,
      "grid_template_columns": null,
      "grid_template_rows": null,
      "height": null,
      "justify_content": null,
      "justify_items": null,
      "left": null,
      "margin": null,
      "max_height": null,
      "max_width": null,
      "min_height": null,
      "min_width": null,
      "object_fit": null,
      "object_position": null,
      "order": null,
      "overflow": null,
      "overflow_x": null,
      "overflow_y": null,
      "padding": null,
      "right": null,
      "top": null,
      "visibility": null,
      "width": null
     }
    },
    "c3ab69fcf5a1413f98e3c04628e221fd": {
     "model_module": "@jupyter-widgets/base",
     "model_module_version": "1.2.0",
     "model_name": "LayoutModel",
     "state": {
      "_model_module": "@jupyter-widgets/base",
      "_model_module_version": "1.2.0",
      "_model_name": "LayoutModel",
      "_view_count": null,
      "_view_module": "@jupyter-widgets/base",
      "_view_module_version": "1.2.0",
      "_view_name": "LayoutView",
      "align_content": null,
      "align_items": null,
      "align_self": null,
      "border": null,
      "bottom": null,
      "display": null,
      "flex": null,
      "flex_flow": null,
      "grid_area": null,
      "grid_auto_columns": null,
      "grid_auto_flow": null,
      "grid_auto_rows": null,
      "grid_column": null,
      "grid_gap": null,
      "grid_row": null,
      "grid_template_areas": null,
      "grid_template_columns": null,
      "grid_template_rows": null,
      "height": null,
      "justify_content": null,
      "justify_items": null,
      "left": null,
      "margin": null,
      "max_height": null,
      "max_width": null,
      "min_height": null,
      "min_width": null,
      "object_fit": null,
      "object_position": null,
      "order": null,
      "overflow": null,
      "overflow_x": null,
      "overflow_y": null,
      "padding": null,
      "right": null,
      "top": null,
      "visibility": null,
      "width": null
     }
    },
    "c6d2dbf5711649d4b3514ba9485d776e": {
     "model_module": "@jupyter-widgets/base",
     "model_module_version": "1.2.0",
     "model_name": "LayoutModel",
     "state": {
      "_model_module": "@jupyter-widgets/base",
      "_model_module_version": "1.2.0",
      "_model_name": "LayoutModel",
      "_view_count": null,
      "_view_module": "@jupyter-widgets/base",
      "_view_module_version": "1.2.0",
      "_view_name": "LayoutView",
      "align_content": null,
      "align_items": null,
      "align_self": null,
      "border": null,
      "bottom": null,
      "display": null,
      "flex": null,
      "flex_flow": null,
      "grid_area": null,
      "grid_auto_columns": null,
      "grid_auto_flow": null,
      "grid_auto_rows": null,
      "grid_column": null,
      "grid_gap": null,
      "grid_row": null,
      "grid_template_areas": null,
      "grid_template_columns": null,
      "grid_template_rows": null,
      "height": null,
      "justify_content": null,
      "justify_items": null,
      "left": null,
      "margin": null,
      "max_height": null,
      "max_width": null,
      "min_height": null,
      "min_width": null,
      "object_fit": null,
      "object_position": null,
      "order": null,
      "overflow": null,
      "overflow_x": null,
      "overflow_y": null,
      "padding": null,
      "right": null,
      "top": null,
      "visibility": null,
      "width": null
     }
    },
    "c86a9f9d72e34155a99040b25aa181af": {
     "model_module": "@jupyter-widgets/base",
     "model_module_version": "1.2.0",
     "model_name": "LayoutModel",
     "state": {
      "_model_module": "@jupyter-widgets/base",
      "_model_module_version": "1.2.0",
      "_model_name": "LayoutModel",
      "_view_count": null,
      "_view_module": "@jupyter-widgets/base",
      "_view_module_version": "1.2.0",
      "_view_name": "LayoutView",
      "align_content": null,
      "align_items": null,
      "align_self": null,
      "border": null,
      "bottom": null,
      "display": null,
      "flex": null,
      "flex_flow": null,
      "grid_area": null,
      "grid_auto_columns": null,
      "grid_auto_flow": null,
      "grid_auto_rows": null,
      "grid_column": null,
      "grid_gap": null,
      "grid_row": null,
      "grid_template_areas": null,
      "grid_template_columns": null,
      "grid_template_rows": null,
      "height": null,
      "justify_content": null,
      "justify_items": null,
      "left": null,
      "margin": null,
      "max_height": null,
      "max_width": null,
      "min_height": null,
      "min_width": null,
      "object_fit": null,
      "object_position": null,
      "order": null,
      "overflow": null,
      "overflow_x": null,
      "overflow_y": null,
      "padding": null,
      "right": null,
      "top": null,
      "visibility": null,
      "width": null
     }
    },
    "cea003fada754b7a9e1a2e91571614d1": {
     "model_module": "@jupyter-widgets/base",
     "model_module_version": "1.2.0",
     "model_name": "LayoutModel",
     "state": {
      "_model_module": "@jupyter-widgets/base",
      "_model_module_version": "1.2.0",
      "_model_name": "LayoutModel",
      "_view_count": null,
      "_view_module": "@jupyter-widgets/base",
      "_view_module_version": "1.2.0",
      "_view_name": "LayoutView",
      "align_content": null,
      "align_items": null,
      "align_self": null,
      "border": null,
      "bottom": null,
      "display": null,
      "flex": null,
      "flex_flow": null,
      "grid_area": null,
      "grid_auto_columns": null,
      "grid_auto_flow": null,
      "grid_auto_rows": null,
      "grid_column": null,
      "grid_gap": null,
      "grid_row": null,
      "grid_template_areas": null,
      "grid_template_columns": null,
      "grid_template_rows": null,
      "height": null,
      "justify_content": null,
      "justify_items": null,
      "left": null,
      "margin": null,
      "max_height": null,
      "max_width": null,
      "min_height": null,
      "min_width": null,
      "object_fit": null,
      "object_position": null,
      "order": null,
      "overflow": null,
      "overflow_x": null,
      "overflow_y": null,
      "padding": null,
      "right": null,
      "top": null,
      "visibility": null,
      "width": null
     }
    },
    "d8e87673c3b240e5a0cd117983258f26": {
     "model_module": "@jupyter-widgets/base",
     "model_module_version": "1.2.0",
     "model_name": "LayoutModel",
     "state": {
      "_model_module": "@jupyter-widgets/base",
      "_model_module_version": "1.2.0",
      "_model_name": "LayoutModel",
      "_view_count": null,
      "_view_module": "@jupyter-widgets/base",
      "_view_module_version": "1.2.0",
      "_view_name": "LayoutView",
      "align_content": null,
      "align_items": null,
      "align_self": null,
      "border": null,
      "bottom": null,
      "display": null,
      "flex": null,
      "flex_flow": null,
      "grid_area": null,
      "grid_auto_columns": null,
      "grid_auto_flow": null,
      "grid_auto_rows": null,
      "grid_column": null,
      "grid_gap": null,
      "grid_row": null,
      "grid_template_areas": null,
      "grid_template_columns": null,
      "grid_template_rows": null,
      "height": null,
      "justify_content": null,
      "justify_items": null,
      "left": null,
      "margin": null,
      "max_height": null,
      "max_width": null,
      "min_height": null,
      "min_width": null,
      "object_fit": null,
      "object_position": null,
      "order": null,
      "overflow": null,
      "overflow_x": null,
      "overflow_y": null,
      "padding": null,
      "right": null,
      "top": null,
      "visibility": null,
      "width": null
     }
    },
    "d9a4cd5ee2094e77a5624d6c2139b2f9": {
     "model_module": "@jupyter-widgets/base",
     "model_module_version": "1.2.0",
     "model_name": "LayoutModel",
     "state": {
      "_model_module": "@jupyter-widgets/base",
      "_model_module_version": "1.2.0",
      "_model_name": "LayoutModel",
      "_view_count": null,
      "_view_module": "@jupyter-widgets/base",
      "_view_module_version": "1.2.0",
      "_view_name": "LayoutView",
      "align_content": null,
      "align_items": null,
      "align_self": null,
      "border": null,
      "bottom": null,
      "display": null,
      "flex": null,
      "flex_flow": null,
      "grid_area": null,
      "grid_auto_columns": null,
      "grid_auto_flow": null,
      "grid_auto_rows": null,
      "grid_column": null,
      "grid_gap": null,
      "grid_row": null,
      "grid_template_areas": null,
      "grid_template_columns": null,
      "grid_template_rows": null,
      "height": null,
      "justify_content": null,
      "justify_items": null,
      "left": null,
      "margin": null,
      "max_height": null,
      "max_width": null,
      "min_height": null,
      "min_width": null,
      "object_fit": null,
      "object_position": null,
      "order": null,
      "overflow": null,
      "overflow_x": null,
      "overflow_y": null,
      "padding": null,
      "right": null,
      "top": null,
      "visibility": null,
      "width": null
     }
    },
    "dac7334dba4044cfa41a2aad7dfcc66f": {
     "model_module": "@jupyter-widgets/controls",
     "model_module_version": "1.5.0",
     "model_name": "DescriptionStyleModel",
     "state": {
      "_model_module": "@jupyter-widgets/controls",
      "_model_module_version": "1.5.0",
      "_model_name": "DescriptionStyleModel",
      "_view_count": null,
      "_view_module": "@jupyter-widgets/base",
      "_view_module_version": "1.2.0",
      "_view_name": "StyleView",
      "description_width": ""
     }
    },
    "db799f82ecec4402a6e6173d8208860e": {
     "model_module": "@jupyter-widgets/controls",
     "model_module_version": "1.5.0",
     "model_name": "HTMLModel",
     "state": {
      "_dom_classes": [],
      "_model_module": "@jupyter-widgets/controls",
      "_model_module_version": "1.5.0",
      "_model_name": "HTMLModel",
      "_view_count": null,
      "_view_module": "@jupyter-widgets/controls",
      "_view_module_version": "1.5.0",
      "_view_name": "HTMLView",
      "description": "",
      "description_tooltip": null,
      "layout": "IPY_MODEL_c3ab69fcf5a1413f98e3c04628e221fd",
      "placeholder": "​",
      "style": "IPY_MODEL_a646f19015444b86bd24bf73c74cce21",
      "value": ""
     }
    },
    "e413d45b251b4cfb945758ea82cf1d76": {
     "model_module": "@jupyter-widgets/controls",
     "model_module_version": "1.5.0",
     "model_name": "HTMLModel",
     "state": {
      "_dom_classes": [],
      "_model_module": "@jupyter-widgets/controls",
      "_model_module_version": "1.5.0",
      "_model_name": "HTMLModel",
      "_view_count": null,
      "_view_module": "@jupyter-widgets/controls",
      "_view_module_version": "1.5.0",
      "_view_name": "HTMLView",
      "description": "",
      "description_tooltip": null,
      "layout": "IPY_MODEL_99898108ef484ce7bbf9abfd6cee291c",
      "placeholder": "​",
      "style": "IPY_MODEL_85c7dae5b8544f2e8700673c3b657f8a",
      "value": ""
     }
    },
    "f31aa31694e24afaa4678ce5b74cdd26": {
     "model_module": "@jupyter-widgets/controls",
     "model_module_version": "1.5.0",
     "model_name": "DescriptionStyleModel",
     "state": {
      "_model_module": "@jupyter-widgets/controls",
      "_model_module_version": "1.5.0",
      "_model_name": "DescriptionStyleModel",
      "_view_count": null,
      "_view_module": "@jupyter-widgets/base",
      "_view_module_version": "1.2.0",
      "_view_name": "StyleView",
      "description_width": ""
     }
    },
    "fb0c6226b6aa47c9999cf46ad69e8b3a": {
     "model_module": "@jupyter-widgets/controls",
     "model_module_version": "1.5.0",
     "model_name": "ProgressStyleModel",
     "state": {
      "_model_module": "@jupyter-widgets/controls",
      "_model_module_version": "1.5.0",
      "_model_name": "ProgressStyleModel",
      "_view_count": null,
      "_view_module": "@jupyter-widgets/base",
      "_view_module_version": "1.2.0",
      "_view_name": "StyleView",
      "bar_color": null,
      "description_width": ""
     }
    },
    "fd459523dfa0494b99911f59e4ea1670": {
     "model_module": "@jupyter-widgets/controls",
     "model_module_version": "1.5.0",
     "model_name": "ProgressStyleModel",
     "state": {
      "_model_module": "@jupyter-widgets/controls",
      "_model_module_version": "1.5.0",
      "_model_name": "ProgressStyleModel",
      "_view_count": null,
      "_view_module": "@jupyter-widgets/base",
      "_view_module_version": "1.2.0",
      "_view_name": "StyleView",
      "bar_color": null,
      "description_width": ""
     }
    },
    "fe8ec0853cb1484c878578b59050c261": {
     "model_module": "@jupyter-widgets/controls",
     "model_module_version": "1.5.0",
     "model_name": "DescriptionStyleModel",
     "state": {
      "_model_module": "@jupyter-widgets/controls",
      "_model_module_version": "1.5.0",
      "_model_name": "DescriptionStyleModel",
      "_view_count": null,
      "_view_module": "@jupyter-widgets/base",
      "_view_module_version": "1.2.0",
      "_view_name": "StyleView",
      "description_width": ""
     }
    },
    "ffb7a36fbe5b4debb2938314d1556df1": {
     "model_module": "@jupyter-widgets/controls",
     "model_module_version": "1.5.0",
     "model_name": "HTMLModel",
     "state": {
      "_dom_classes": [],
      "_model_module": "@jupyter-widgets/controls",
      "_model_module_version": "1.5.0",
      "_model_name": "HTMLModel",
      "_view_count": null,
      "_view_module": "@jupyter-widgets/controls",
      "_view_module_version": "1.5.0",
      "_view_name": "HTMLView",
      "description": "",
      "description_tooltip": null,
      "layout": "IPY_MODEL_298ba64bbc58410982d63b5c04b05b78",
      "placeholder": "​",
      "style": "IPY_MODEL_f31aa31694e24afaa4678ce5b74cdd26",
      "value": " 29696/? [00:00&lt;00:00, 708228.67it/s]"
     }
    }
   }
  }
 },
 "nbformat": 4,
 "nbformat_minor": 1
}
